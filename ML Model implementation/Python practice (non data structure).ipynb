{
 "cells": [
  {
   "cell_type": "markdown",
   "metadata": {},
   "source": [
    "### Problem 1\n",
    "Consider a real-valued independent variable A and real_valued dependent variable B <br>\n",
    "You wish to model the relationship between A and B, and compute the MSE of the model using the leave one out validation method. <br>\n",
    "given two equal length arrays abs_A, and abs_B, your task is to write a function that returns the MSE of the liear regression model\n"
   ]
  },
  {
   "cell_type": "markdown",
   "metadata": {},
   "source": [
    "The algorithms of LOOCV technique <br>\n",
    "1. choose one sample from the dataset which will be the test set\n",
    "2. the remaining n-1 samples will be the training set\n",
    "3. train the model on the training set. on each iteration, a new model must be trained\n",
    "4. validate the test set\n",
    "5. save the result for validation\n",
    "6. repeat step 1-5 n times \n",
    "7. average the result"
   ]
  },
  {
   "cell_type": "code",
   "execution_count": 7,
   "metadata": {},
   "outputs": [],
   "source": [
    "from sklearn.linear_model import LinearRegression\n",
    "import numpy as np"
   ]
  },
  {
   "cell_type": "code",
   "execution_count": 13,
   "metadata": {},
   "outputs": [],
   "source": [
    "def solution(obs_A, obs_B):\n",
    "    error_sum = 0\n",
    "    loo = lambda arr, idx: arr[:idx]+arr[(idx+1):]#leave one out\n",
    "    n = len(obs_A)\n",
    "    \n",
    "    for i in range(n):\n",
    "        A_train = loo(abs_A,i)\n",
    "        B_train = loo(abs_B,i)\n",
    "        mean_A = sum(A_train)/(n-1.0)\n",
    "        mean_B = sum(B_train)/(n-1.0)\n",
    "        A_train = np.array(A_train)\n",
    "        B_train = np.array(B_train)\n",
    "        Sxy =((A_train-mean_A)*(B_train-mean_B)).sum()\n",
    "        Sxx = ((A_train-mean_A)**2).sum()\n",
    "    \n",
    "        slope = Sxy/Sxx\n",
    "        \n",
    "        intercept = mean_B-slope*mean_A\n",
    "        pred_B = slope*abs_A[i]+intercept\n",
    "        error_sum += (pred_B-obs_B[i])**2\n",
    "        \n",
    "    ans = error_sum/float(n)\n",
    "    return ans"
   ]
  },
  {
   "cell_type": "code",
   "execution_count": 14,
   "metadata": {},
   "outputs": [
    {
     "data": {
      "text/plain": [
       "0.75"
      ]
     },
     "execution_count": 14,
     "metadata": {},
     "output_type": "execute_result"
    }
   ],
   "source": [
    "abs_A = [1,2,3]\n",
    "abs_B = [4,5,7]\n",
    "solution(abs_A,abs_B)"
   ]
  },
  {
   "cell_type": "code",
   "execution_count": null,
   "metadata": {},
   "outputs": [],
   "source": []
  }
 ],
 "metadata": {
  "kernelspec": {
   "display_name": "Python 3",
   "language": "python",
   "name": "python3"
  },
  "language_info": {
   "codemirror_mode": {
    "name": "ipython",
    "version": 3
   },
   "file_extension": ".py",
   "mimetype": "text/x-python",
   "name": "python",
   "nbconvert_exporter": "python",
   "pygments_lexer": "ipython3",
   "version": "3.8.3"
  }
 },
 "nbformat": 4,
 "nbformat_minor": 4
}
