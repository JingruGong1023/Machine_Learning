{
  "nbformat": 4,
  "nbformat_minor": 0,
  "metadata": {
    "colab": {
      "name": "Data Manipulation.ipynb",
      "provenance": [],
      "collapsed_sections": [],
      "authorship_tag": "ABX9TyNe6OubjxfFBs1l8e/CXLBe",
      "include_colab_link": true
    },
    "kernelspec": {
      "name": "python3",
      "display_name": "Python 3"
    },
    "language_info": {
      "name": "python"
    }
  },
  "cells": [
    {
      "cell_type": "markdown",
      "metadata": {
        "id": "view-in-github",
        "colab_type": "text"
      },
      "source": [
        "<a href=\"https://colab.research.google.com/github/JingruGong1023/Machine_Learning/blob/main/Data_Manipulation.ipynb\" target=\"_parent\"><img src=\"https://colab.research.google.com/assets/colab-badge.svg\" alt=\"Open In Colab\"/></a>"
      ]
    },
    {
      "cell_type": "markdown",
      "source": [
        "This file includes some review and practice of basic python data manipulation functions and libraries\n"
      ],
      "metadata": {
        "id": "vbMJ5vAdHNE3"
      }
    },
    {
      "cell_type": "code",
      "execution_count": 4,
      "metadata": {
        "colab": {
          "base_uri": "https://localhost:8080/"
        },
        "id": "xqxOnaCEHA4x",
        "outputId": "a887885d-012a-4235-d9fa-b749af39c380"
      },
      "outputs": [
        {
          "output_type": "stream",
          "name": "stdout",
          "text": [
            "Rayman is handsome, but Jason is not\n",
            " Bob is handsome, but Jade is not\n"
          ]
        }
      ],
      "source": [
        "#String format\n",
        "\n",
        "s = \"{} is handsome, but {} is not\"\n",
        "print(s.format('Rayman','Jason'))\n",
        "s = \"{name1} is handsome, but {name2} is not}\" #works ths same\n",
        "\n",
        "name1 = 'Bob'\n",
        "name2 = 'Jade'\n",
        "s = f\" {name1} is handsome, but {name2} is not\"\n",
        "print(s )"
      ]
    },
    {
      "cell_type": "markdown",
      "source": [
        "**LISTS** </br>\n",
        "In Python, lists are mutable"
      ],
      "metadata": {
        "id": "ECFKsAElIGG2"
      }
    },
    {
      "cell_type": "code",
      "source": [
        "list1 = []\n",
        "\n",
        "lst2 = [1,2,3,4]\n",
        "lst3 = ['one', 2, 'three', 4] # create a list with different data type values\n",
        "print(list1, lst2,lst3)\n",
        "print(lst2+lst3) #list concatenation"
      ],
      "metadata": {
        "colab": {
          "base_uri": "https://localhost:8080/"
        },
        "id": "FWBBhHMdIMLD",
        "outputId": "0679999c-f279-4cfd-ae5b-a4ab5b6af5c5"
      },
      "execution_count": 7,
      "outputs": [
        {
          "output_type": "stream",
          "name": "stdout",
          "text": [
            "[] [1, 2, 3, 4] ['one', 2, 'three', 4]\n",
            "[1, 2, 3, 4, 'one', 2, 'three', 4]\n"
          ]
        }
      ]
    },
    {
      "cell_type": "code",
      "source": [
        "lst = range(6) # create an list of numbers using built-in function range\n",
        "print(type(lst)) # class 'range'\n",
        "print(lst)\n",
        "\n",
        "lst = list(lst) #change to list\n",
        "print(lst)\n",
        "\n",
        "print(lst[::2]) # change index step to 2, [0, 2, 4]\n",
        "print(lst[::-1]) # reverse order, [5, 4, 3, 2, 1, 0], common usage\n",
        "print(lst[:-1]) # negative index slicing, [0, 1, 2, 3, 4]\n",
        "print(lst[-1:]) # negative index slicing, [5]"
      ],
      "metadata": {
        "colab": {
          "base_uri": "https://localhost:8080/"
        },
        "id": "zllywO3-IngE",
        "outputId": "acb64558-c96e-4960-c221-3ba9e6480b45"
      },
      "execution_count": 11,
      "outputs": [
        {
          "output_type": "stream",
          "name": "stdout",
          "text": [
            "<class 'range'>\n",
            "range(0, 6)\n",
            "[0, 1, 2, 3, 4, 5]\n",
            "[0, 2, 4]\n",
            "[5, 4, 3, 2, 1, 0]\n"
          ]
        }
      ]
    },
    {
      "cell_type": "code",
      "source": [
        "ss = 'Hello World!' # initialize a string\n",
        "print(ss)\n",
        "\n",
        "print(ss[:]) # the whole list\n",
        "print(ss[1:3]) # index from 1 to 2"
      ],
      "metadata": {
        "id": "EhP_Xhv2Knuu"
      },
      "execution_count": null,
      "outputs": []
    },
    {
      "cell_type": "markdown",
      "source": [
        "# **Looping**"
      ],
      "metadata": {
        "id": "XyDPRdnYKuLE"
      }
    },
    {
      "cell_type": "code",
      "source": [
        "# basic loop\n",
        "skills = ['ML', 'Stat', 'Coding', 'Business']\n",
        "for skill in skills:\n",
        "  print(skill)"
      ],
      "metadata": {
        "colab": {
          "base_uri": "https://localhost:8080/"
        },
        "id": "KWT4pfnoK3AJ",
        "outputId": "bfcf07fe-9cb7-4db6-e2fe-f78b4fa1b206"
      },
      "execution_count": 12,
      "outputs": [
        {
          "output_type": "stream",
          "name": "stdout",
          "text": [
            "ML\n",
            "Stat\n",
            "Coding\n",
            "Business\n"
          ]
        }
      ]
    },
    {
      "cell_type": "code",
      "source": [
        "#enumerate, bind index with list element\n",
        "\n",
        "skills = ['ML', 'Stat', 'Coding', 'Business']\n",
        "\n",
        "# check enumerate output\n",
        "print(list(enumerate(skills)))\n",
        "\n",
        "#change the start index\n",
        "print(list(enumerate(skills, start =1)))\n",
        "\n",
        "for idx, skill in enumerate(skills):\n",
        "  print(idx, skill)"
      ],
      "metadata": {
        "colab": {
          "base_uri": "https://localhost:8080/"
        },
        "id": "BwMpGtyyK9Yr",
        "outputId": "2d89e8d0-a4b3-42ab-b33e-b835f13b359b"
      },
      "execution_count": 15,
      "outputs": [
        {
          "output_type": "stream",
          "name": "stdout",
          "text": [
            "[(0, 'ML'), (1, 'Stat'), (2, 'Coding'), (3, 'Business')]\n",
            "[(1, 'ML'), (2, 'Stat'), (3, 'Coding'), (4, 'Business')]\n",
            "0 ML\n",
            "1 Stat\n",
            "2 Coding\n",
            "3 Business\n"
          ]
        }
      ]
    },
    {
      "cell_type": "code",
      "source": [
        "#List comprehension\n",
        "\n",
        "nums = list(range(6))\n",
        "print(nums)\n",
        "\n",
        "lst = [x**2 for x in nums]\n",
        "print(lst)\n"
      ],
      "metadata": {
        "colab": {
          "base_uri": "https://localhost:8080/"
        },
        "id": "kTYOyQG9LUw1",
        "outputId": "7e700899-3a84-492b-8264-4ad4b441f322"
      },
      "execution_count": 18,
      "outputs": [
        {
          "output_type": "stream",
          "name": "stdout",
          "text": [
            "[0, 1, 2, 3, 4, 5]\n",
            "[0, 1, 4, 9, 16, 25]\n"
          ]
        }
      ]
    },
    {
      "cell_type": "markdown",
      "source": [
        "# **Tuple**\n",
        "\n",
        "A tuple is an immutable ordered list of values.\n"
      ],
      "metadata": {
        "id": "1XqcDj85L17I"
      }
    },
    {
      "cell_type": "code",
      "source": [
        "t = (21,42,33)\n",
        "print(t)\n",
        "skills = ['ML', 'Stat', 'Coding', 'Business']\n",
        "t_dict = {('data',idx): skill for idx, skill in enumerate(skills)}\n",
        "print(t_dict)"
      ],
      "metadata": {
        "colab": {
          "base_uri": "https://localhost:8080/"
        },
        "id": "UOXJLnfmRU-U",
        "outputId": "1486eb9d-65c4-45b0-8867-d3608bfbcd0f"
      },
      "execution_count": 26,
      "outputs": [
        {
          "output_type": "stream",
          "name": "stdout",
          "text": [
            "(21, 42, 33)\n",
            "{('data', 0): 'ML', ('data', 1): 'Stat', ('data', 2): 'Coding', ('data', 3): 'Business'}\n"
          ]
        }
      ]
    },
    {
      "cell_type": "markdown",
      "source": [
        "# **Dictionary**\n",
        "\n",
        "{key:value}"
      ],
      "metadata": {
        "id": "V7CAq3NOSddY"
      }
    },
    {
      "cell_type": "code",
      "source": [
        "skills = ['ML', 'Stat', 'Coding', 'Business']\n",
        "scores = [90, 80, 1, 59]\n",
        "\n",
        "score_dict = {'ML': 90, 'Stat': 80, 'Coding': 1, 'Business': 59} # create a dictionary\n",
        "print(score_dict['ML'])\n",
        "print('Stat' in score_dict)\n",
        "\n",
        "score_dict['Spark']=70\n",
        "\n",
        "print(\"Current score: %d\" %score_dict['Spark'])\n",
        "\n",
        "score_dict.pop('Spark') #show and remove\n",
        "print(score_dict)"
      ],
      "metadata": {
        "colab": {
          "base_uri": "https://localhost:8080/"
        },
        "id": "jovF-3G3Sbtd",
        "outputId": "1f9d9f61-309e-4f94-93d8-063c5d0a5296"
      },
      "execution_count": 33,
      "outputs": [
        {
          "output_type": "stream",
          "name": "stdout",
          "text": [
            "90\n",
            "True\n",
            "Current score: 70\n",
            "{'ML': 90, 'Stat': 80, 'Coding': 1, 'Business': 59}\n"
          ]
        }
      ]
    },
    {
      "cell_type": "code",
      "source": [
        "# (Advanced)construct dictionary\n",
        "{skills[i]:scores[i] for i in range(len(skills))}\n",
        "dict(zip(skills, scores))"
      ],
      "metadata": {
        "colab": {
          "base_uri": "https://localhost:8080/"
        },
        "id": "tHknhydTThzX",
        "outputId": "bf064cce-4e55-4fde-af98-4c44cd785026"
      },
      "execution_count": 34,
      "outputs": [
        {
          "output_type": "execute_result",
          "data": {
            "text/plain": [
              "{'Business': 59, 'Coding': 1, 'ML': 90, 'Stat': 80}"
            ]
          },
          "metadata": {},
          "execution_count": 34
        }
      ]
    },
    {
      "cell_type": "code",
      "source": [
        "#dictionary comprehension\n",
        "#get a dictionary for range 6 ,if a number is even, square it\n",
        "num_dict = {x:x**2 if x%2==0 else x for x in range(6)}\n",
        "print(num_dict)"
      ],
      "metadata": {
        "colab": {
          "base_uri": "https://localhost:8080/"
        },
        "id": "sDFc_I4kT20Y",
        "outputId": "05e2acd6-5ff4-4992-8df1-293c0812bacb"
      },
      "execution_count": 35,
      "outputs": [
        {
          "output_type": "stream",
          "name": "stdout",
          "text": [
            "{0: 0, 1: 1, 2: 4, 3: 3, 4: 16, 5: 5}\n"
          ]
        }
      ]
    },
    {
      "cell_type": "code",
      "source": [
        "# loop over dictionary\n",
        "for skill,score in score_dict.items():\n",
        "  print(skill,score)"
      ],
      "metadata": {
        "colab": {
          "base_uri": "https://localhost:8080/"
        },
        "id": "EY116KWsVJVU",
        "outputId": "c5865c7d-9547-4f01-a441-2fb15d44a37b"
      },
      "execution_count": 36,
      "outputs": [
        {
          "output_type": "stream",
          "name": "stdout",
          "text": [
            "ML 90\n",
            "Stat 80\n",
            "Coding 1\n",
            "Business 59\n"
          ]
        }
      ]
    },
    {
      "cell_type": "markdown",
      "source": [
        "# **SET**\n",
        "a set is an unordered collection of **distinct** elements"
      ],
      "metadata": {
        "id": "3A9sB5ONVLMs"
      }
    },
    {
      "cell_type": "code",
      "source": [
        "skills = {'ML', 'Stat', 'Coding', 'Business'} #set\n",
        "skills_list = ['ML', 'Stat', 'Coding', 'Business']\n",
        "\n",
        "print(skills)\n",
        "print('Business' in skills) # check if an element is in a set\n",
        "print('Spark' in skills) # False\n",
        "\n",
        "# set comprehension\n",
        "nums = {num for num in range(6)}\n",
        "print(type(nums)) # class 'set'"
      ],
      "metadata": {
        "colab": {
          "base_uri": "https://localhost:8080/"
        },
        "id": "VAiWw6vXVQyv",
        "outputId": "405e3552-c362-40d2-ce44-14a09284fb67"
      },
      "execution_count": 39,
      "outputs": [
        {
          "output_type": "stream",
          "name": "stdout",
          "text": [
            "{'Stat', 'ML', 'Coding', 'Business'}\n",
            "True\n",
            "False\n",
            "<class 'set'>\n"
          ]
        }
      ]
    },
    {
      "cell_type": "markdown",
      "source": [
        "# **Numpy**\n",
        "\n",
        "NumPy is the fundamental package for scientific computing in Python. It is a Python library that provides a multidimensional array object, various derived objects (such as masked arrays and matrices), and an assortment of routines for fast operations on arrays.\n",
        "\n",
        "At the core of the NumPy package, is the ndarray object. This encapsulates n-dimensional arrays of homogeneous data types, with many operations being performed in compiled code for performance."
      ],
      "metadata": {
        "id": "XQFM7jfwVxOQ"
      }
    },
    {
      "cell_type": "code",
      "source": [
        "#@title import packages\n",
        "import numpy as np #numpy\n",
        "import pandas as pd #pandas"
      ],
      "metadata": {
        "id": "PB6Nx-y7WKDF"
      },
      "execution_count": 40,
      "outputs": []
    },
    {
      "cell_type": "code",
      "source": [
        "lst = [[1,2,3],[4,5,6]]\n",
        "print(type(lst))\n",
        "a = np.array(lst)\n",
        "print(a)\n",
        "print(a[0]) # first row\n",
        "print(a[0][1]) # first row, second column\n",
        "print(a.shape) # 2 x 3\n",
        "print(a.ndim) # 2 dimensions\n",
        "print(a.dtype) # data type of the elements of array\n",
        "print(a.size) # total number of elements in the matrix"
      ],
      "metadata": {
        "colab": {
          "base_uri": "https://localhost:8080/"
        },
        "id": "i1AKqtq4Whpe",
        "outputId": "c07a717b-601c-43e7-f481-24897ddfc38d"
      },
      "execution_count": 43,
      "outputs": [
        {
          "output_type": "stream",
          "name": "stdout",
          "text": [
            "<class 'list'>\n",
            "[[1 2 3]\n",
            " [4 5 6]]\n",
            "[1 2 3]\n",
            "2\n",
            "(2, 3)\n",
            "2\n",
            "int64\n",
            "6\n"
          ]
        }
      ]
    },
    {
      "cell_type": "code",
      "source": [
        "# useful functions to create numpy array\n",
        "b = np.arange(0, 10, 2, dtype='float') # create 1d array, [start, stop)\n",
        "print(type(b)) # class 'numpy.ndarray'\n",
        "print(b)\n",
        "print(b.shape)\n",
        "\n",
        "c = np.linspace(1.5, 2.5, 9) # create 1d array with float, [start, stop]\n",
        "print(type(c)) # class 'numpy.ndarray'\n",
        "print(c)\n",
        "print(c.shape)\n",
        "\n",
        "d = np.zeros((2, 3)) # all zeros\n",
        "print(type(d)) # class 'numpy.ndarray'\n",
        "print(d)\n",
        "\n",
        "e = np.ones((2, 3)) # all ones\n",
        "print(type(e)) # class 'numpy.ndarray'\n",
        "print(e)\n",
        "\n",
        "f = np.full((2, 3), 9) # constant matrix\n",
        "print(type(f)) # class 'numpy.ndarray'\n",
        "print(f)\n",
        "\n",
        "g = np.eye(3) # 3 x 3 identity matrix\n",
        "print(type(g)) # class 'numpy.ndarray'\n",
        "print(g)"
      ],
      "metadata": {
        "colab": {
          "base_uri": "https://localhost:8080/"
        },
        "id": "Kc86sWQ0W4t8",
        "outputId": "bf9a2537-30c9-4b4e-bd1b-bacf329ad4e5"
      },
      "execution_count": 49,
      "outputs": [
        {
          "output_type": "stream",
          "name": "stdout",
          "text": [
            "<class 'numpy.ndarray'>\n",
            "[0. 2. 4. 6. 8.]\n",
            "(5,)\n",
            "<class 'numpy.ndarray'>\n",
            "[1.5   1.625 1.75  1.875 2.    2.125 2.25  2.375 2.5  ]\n",
            "(9,)\n",
            "<class 'numpy.ndarray'>\n",
            "[[0. 0. 0.]\n",
            " [0. 0. 0.]]\n",
            "<class 'numpy.ndarray'>\n",
            "[[1. 1. 1.]\n",
            " [1. 1. 1.]]\n",
            "<class 'numpy.ndarray'>\n",
            "[[9 9 9]\n",
            " [9 9 9]]\n",
            "<class 'numpy.ndarray'>\n",
            "[[1. 0. 0.]\n",
            " [0. 1. 0.]\n",
            " [0. 0. 1.]]\n"
          ]
        }
      ]
    },
    {
      "cell_type": "code",
      "source": [
        "h = b.reshape((5,1))\n",
        "print(h)\n",
        "\n",
        "# One shape dimension can be -1. \n",
        "# In this case, the value is inferred from the length of the array and remaining dimensions.\n",
        "i = c.reshape((-1, 3))\n",
        "print(i)\n",
        "print(i.shape)\n",
        "\n",
        "j = d.reshape((2, 3, 1))\n",
        "print(j)\n",
        "print(j.shape)"
      ],
      "metadata": {
        "colab": {
          "base_uri": "https://localhost:8080/"
        },
        "id": "4mqAbpQIXdkK",
        "outputId": "6c520d22-5dc3-428f-a16b-9e00569a2339"
      },
      "execution_count": 52,
      "outputs": [
        {
          "output_type": "stream",
          "name": "stdout",
          "text": [
            "[[0.]\n",
            " [2.]\n",
            " [4.]\n",
            " [6.]\n",
            " [8.]]\n",
            "[[1.5   1.625 1.75 ]\n",
            " [1.875 2.    2.125]\n",
            " [2.25  2.375 2.5  ]]\n",
            "(3, 3)\n",
            "[[[0.]\n",
            "  [0.]\n",
            "  [0.]]\n",
            "\n",
            " [[0.]\n",
            "  [0.]\n",
            "  [0.]]]\n",
            "(2, 3, 1)\n"
          ]
        }
      ]
    },
    {
      "cell_type": "code",
      "source": [
        "a = np.array([[1,2,3,4], [5,6,7,8], [9,10,11,12]])\n",
        "\n",
        "a.reshape((2,2,3)) #two list, two rows, 3 cols"
      ],
      "metadata": {
        "colab": {
          "base_uri": "https://localhost:8080/"
        },
        "id": "w_deR7__YJ82",
        "outputId": "4724e05f-fbc7-4acf-ae2d-cec27465acb8"
      },
      "execution_count": 55,
      "outputs": [
        {
          "output_type": "execute_result",
          "data": {
            "text/plain": [
              "array([[[ 1,  2,  3],\n",
              "        [ 4,  5,  6]],\n",
              "\n",
              "       [[ 7,  8,  9],\n",
              "        [10, 11, 12]]])"
            ]
          },
          "metadata": {},
          "execution_count": 55
        }
      ]
    },
    {
      "cell_type": "code",
      "source": [
        "# boolean masking\n",
        "import numpy as np\n",
        "\n",
        "a = np.array([[1,2,3,4], [5,6,7,8], [9,10,11,12]])\n",
        "\n",
        "a_idx1 = (a < 5) # return the boolean array that satisfies the conidtion\n",
        "print(a_idx1)\n",
        "a_idx2 = (a >=5) & (a <= 10) # return the boolean array that satisfies the conidtion\n",
        "print(a_idx2)\n",
        "\n",
        "print(a[a_idx1]) # return the corresponding array which is true\n",
        "print(a[a_idx2]) # return the corresponding array which is true\n",
        "\n",
        "print(a[(a > 5) & (a < 10)]) # single statement"
      ],
      "metadata": {
        "colab": {
          "base_uri": "https://localhost:8080/"
        },
        "id": "ALSIGfO3Zipe",
        "outputId": "a214271e-e267-41f3-d822-57bc05215dce"
      },
      "execution_count": 56,
      "outputs": [
        {
          "output_type": "stream",
          "name": "stdout",
          "text": [
            "[[ True  True  True  True]\n",
            " [False False False False]\n",
            " [False False False False]]\n",
            "[[False False False False]\n",
            " [ True  True  True  True]\n",
            " [ True  True False False]]\n",
            "[1 2 3 4]\n",
            "[ 5  6  7  8  9 10]\n",
            "[6 7 8 9]\n"
          ]
        }
      ]
    },
    {
      "cell_type": "markdown",
      "source": [
        "# MATH"
      ],
      "metadata": {
        "id": "3oKT8nsTZwB9"
      }
    },
    {
      "cell_type": "code",
      "source": [
        "import numpy as np\n",
        "\n",
        "a = np.array([[10, 11, 12], [13, 14, 15]])\n",
        "print(a.shape)\n",
        "print(a)\n",
        "b = np.arange(1, 7).reshape((2, 3))\n",
        "print(b.shape)\n",
        "print(b)\n",
        "\n",
        "# element-wise calculation:\n",
        "print(a + b)\n",
        "print(a - b)\n",
        "print(np.add(a, b))\n",
        "print(a * b)\n",
        "\n",
        "# Matrix product\n",
        "print(np.dot(a, b.transpose())) # 2x3, 3x2\n",
        "print(a.T.dot(b)) # 3x2, 2x3"
      ],
      "metadata": {
        "colab": {
          "base_uri": "https://localhost:8080/"
        },
        "id": "BifuX6CBZxba",
        "outputId": "f544bf36-235e-43e7-fccb-dd88bf00b468"
      },
      "execution_count": 57,
      "outputs": [
        {
          "output_type": "stream",
          "name": "stdout",
          "text": [
            "(2, 3)\n",
            "[[10 11 12]\n",
            " [13 14 15]]\n",
            "(2, 3)\n",
            "[[1 2 3]\n",
            " [4 5 6]]\n",
            "[[11 13 15]\n",
            " [17 19 21]]\n",
            "[[9 9 9]\n",
            " [9 9 9]]\n",
            "[[11 13 15]\n",
            " [17 19 21]]\n",
            "[[10 22 36]\n",
            " [52 70 90]]\n",
            "[[ 68 167]\n",
            " [ 86 212]]\n",
            "[[ 62  85 108]\n",
            " [ 67  92 117]\n",
            " [ 72  99 126]]\n"
          ]
        }
      ]
    },
    {
      "cell_type": "code",
      "source": [
        "# matrix transpose 转置\n",
        "b.T\n",
        "b.transpose()"
      ],
      "metadata": {
        "colab": {
          "base_uri": "https://localhost:8080/"
        },
        "id": "II6qNrV5aPhc",
        "outputId": "47d0b3cb-5026-4587-a6ab-b67c74caba07"
      },
      "execution_count": 58,
      "outputs": [
        {
          "output_type": "execute_result",
          "data": {
            "text/plain": [
              "array([[1, 4],\n",
              "       [2, 5],\n",
              "       [3, 6]])"
            ]
          },
          "metadata": {},
          "execution_count": 58
        }
      ]
    },
    {
      "cell_type": "code",
      "source": [
        "print(np.sum(a, axis = 0)) # the column is fixed, sum along row for this column\n",
        "print(np.sum(a, axis = 1)) # the row    is fixed, sum along column for this row"
      ],
      "metadata": {
        "colab": {
          "base_uri": "https://localhost:8080/"
        },
        "id": "CmzCg9LYaSpG",
        "outputId": "f34b8359-4692-4a0b-9e66-1acc959f9dc7"
      },
      "execution_count": 59,
      "outputs": [
        {
          "output_type": "stream",
          "name": "stdout",
          "text": [
            "[23 25 27]\n",
            "[33 42]\n"
          ]
        }
      ]
    },
    {
      "cell_type": "code",
      "source": [
        "# (Advanced+)broadcasting\n",
        "\n",
        "import numpy as np\n",
        "\n",
        "a = np.array([[10, 11, 12], [13, 14, 15]]) # 2x3\n",
        "print(a)\n",
        "\n",
        "a += 1 # add 1 to all the elements # 1\n",
        "print(a)\n",
        "\n",
        "a += np.array([-1, -2, -3]) # add [-1, -2, -3] to all columns for each row # 3\n",
        "print(a)\n",
        "\n",
        "a += np.array([[-1], [-2]]) # add [[-1], [-2]] to all rows for each column 2x1\n",
        "print(a)"
      ],
      "metadata": {
        "colab": {
          "base_uri": "https://localhost:8080/"
        },
        "id": "GzDMNU0gavsD",
        "outputId": "b193e150-a8f6-4888-af38-c273ab5a6072"
      },
      "execution_count": 60,
      "outputs": [
        {
          "output_type": "stream",
          "name": "stdout",
          "text": [
            "[[10 11 12]\n",
            " [13 14 15]]\n",
            "[[11 12 13]\n",
            " [14 15 16]]\n",
            "[[10 10 10]\n",
            " [13 13 13]]\n",
            "[[ 9  9  9]\n",
            " [11 11 11]]\n"
          ]
        }
      ]
    },
    {
      "cell_type": "markdown",
      "source": [
        ""
      ],
      "metadata": {
        "id": "O0Iwkoppa2_Y"
      }
    },
    {
      "cell_type": "code",
      "source": [
        "import numpy as np\n",
        "\n",
        "# Two dimensions are compatible when\n",
        "# they are equal, or\n",
        "# one of them is 1\n",
        "a = np.array([1, 2, 3]) # 1x3\n",
        "b = np.array([[4], [5], [6]]) # 3x1\n",
        "print(np.add(a,b)) #add 4 to each value in a, add 5 to each value in a etc"
      ],
      "metadata": {
        "colab": {
          "base_uri": "https://localhost:8080/"
        },
        "id": "Sbt4-RVra3wo",
        "outputId": "e7a4ca04-c1f0-47d9-de22-aa60f2892065"
      },
      "execution_count": 63,
      "outputs": [
        {
          "output_type": "stream",
          "name": "stdout",
          "text": [
            "[[5 6 7]\n",
            " [6 7 8]\n",
            " [7 8 9]]\n"
          ]
        }
      ]
    },
    {
      "cell_type": "markdown",
      "source": [
        "# **RANDOM**"
      ],
      "metadata": {
        "id": "hgAeCD2JbXWi"
      }
    },
    {
      "cell_type": "code",
      "source": [
        "# generate random number\n",
        "print(np.random.rand(2,2)) # Random numbers between [0,1) of shape 2,2\n",
        "\n",
        "print(np.random.randn(2,2)) # Normal distribution with mean=0 and variance=1 of shape 2,2\n",
        "print(np.random.randint(0, 10, size=[2,2])) # Random integers between [0, 10) of shape 2,2\n",
        "print(np.random.random()) # One random number between [0,1)\n",
        "print(np.random.random(size=[2,2])) # Random numbers between [0,1) of shape 2,2\n",
        "print(np.random.choice(['a', 'e', 'i', 'o', 'u'], size=10)) # Pick 10 items from a given list, with equal probability\n",
        "print(np.random.choice(['a', 'e', 'i', 'o', 'u'], size=10, p=[0.3, .1, 0.1, 0.4, 0.1])) # Pick 10 items from a given list with a predefined probability 'p'\n",
        "print(np.random.choice(np.arange(100),size=[10,3],replace=True)) # get 10x3 random samples from [0-99] with replacement "
      ],
      "metadata": {
        "colab": {
          "base_uri": "https://localhost:8080/"
        },
        "id": "iu5JFwBLbWHU",
        "outputId": "8ce0f99e-a42f-461a-f147-acce4872c2be"
      },
      "execution_count": 64,
      "outputs": [
        {
          "output_type": "stream",
          "name": "stdout",
          "text": [
            "[[0.10669852 0.37141334]\n",
            " [0.24880894 0.68844553]]\n",
            "[[-1.36748492  0.77586658]\n",
            " [ 2.59071177 -0.83144697]]\n",
            "[[9 2]\n",
            " [0 9]]\n",
            "0.37233830924843847\n",
            "[[0.94359404 0.56418611]\n",
            " [0.26700376 0.67034439]]\n",
            "['a' 'e' 'u' 'o' 'o' 'e' 'e' 'a' 'o' 'u']\n",
            "['i' 'o' 'u' 'a' 'u' 'o' 'e' 'a' 'o' 'a']\n",
            "[[78 91 53]\n",
            " [ 8 70  8]\n",
            " [50 87 16]\n",
            " [58 60 13]\n",
            " [24 46  8]\n",
            " [89 88 52]\n",
            " [40 91 53]\n",
            " [59 49 53]\n",
            " [97 11 99]\n",
            " [37 68 25]]\n"
          ]
        }
      ]
    },
    {
      "cell_type": "code",
      "source": [
        "url=\"https://gist.githubusercontent.com/curran/a08a1080b88344b0c8a7/raw/d546eaee765268bf2f487608c537c05e22e4b221/iris.csv\"\n",
        "iris = pd.read_csv(url)"
      ],
      "metadata": {
        "id": "ogXRXf_Xb5H2"
      },
      "execution_count": 65,
      "outputs": []
    },
    {
      "cell_type": "markdown",
      "source": [
        "use random generator to do train/test split"
      ],
      "metadata": {
        "id": "tiVlL1Jyb-aA"
      }
    },
    {
      "cell_type": "code",
      "source": [
        "print(iris.head())\n",
        "print(iris.info())"
      ],
      "metadata": {
        "colab": {
          "base_uri": "https://localhost:8080/"
        },
        "id": "-5b7q83-cAaC",
        "outputId": "7ccbe7e1-763c-493c-a45a-e3422ba90f33"
      },
      "execution_count": 67,
      "outputs": [
        {
          "output_type": "stream",
          "name": "stdout",
          "text": [
            "   sepal_length  sepal_width  petal_length  petal_width species\n",
            "0           5.1          3.5           1.4          0.2  setosa\n",
            "1           4.9          3.0           1.4          0.2  setosa\n",
            "2           4.7          3.2           1.3          0.2  setosa\n",
            "3           4.6          3.1           1.5          0.2  setosa\n",
            "4           5.0          3.6           1.4          0.2  setosa\n",
            "<class 'pandas.core.frame.DataFrame'>\n",
            "RangeIndex: 150 entries, 0 to 149\n",
            "Data columns (total 5 columns):\n",
            " #   Column        Non-Null Count  Dtype  \n",
            "---  ------        --------------  -----  \n",
            " 0   sepal_length  150 non-null    float64\n",
            " 1   sepal_width   150 non-null    float64\n",
            " 2   petal_length  150 non-null    float64\n",
            " 3   petal_width   150 non-null    float64\n",
            " 4   species       150 non-null    object \n",
            "dtypes: float64(4), object(1)\n",
            "memory usage: 6.0+ KB\n",
            "None\n"
          ]
        }
      ]
    },
    {
      "cell_type": "code",
      "source": [
        "iris_index = np.arange(iris.shape[0])\n",
        "print(iris_index)\n",
        "num_training = int(np.floor(0.75*iris.shape[0]))\n",
        "iris_training_index = np.random.choice(iris_index, size = num_training, replace=False)\n",
        "irist_test_index = np.delete(iris_index,iris_training_index)\n",
        "\n",
        "iris_train = iris.iloc[iris_training_index]\n",
        "iris_test = iris.iloc[irist_test_index]"
      ],
      "metadata": {
        "colab": {
          "base_uri": "https://localhost:8080/"
        },
        "id": "74amNYCWcJBI",
        "outputId": "0b5bbb17-db7a-4c6d-bc85-9b2f5c51a99e"
      },
      "execution_count": 70,
      "outputs": [
        {
          "output_type": "stream",
          "name": "stdout",
          "text": [
            "[  0   1   2   3   4   5   6   7   8   9  10  11  12  13  14  15  16  17\n",
            "  18  19  20  21  22  23  24  25  26  27  28  29  30  31  32  33  34  35\n",
            "  36  37  38  39  40  41  42  43  44  45  46  47  48  49  50  51  52  53\n",
            "  54  55  56  57  58  59  60  61  62  63  64  65  66  67  68  69  70  71\n",
            "  72  73  74  75  76  77  78  79  80  81  82  83  84  85  86  87  88  89\n",
            "  90  91  92  93  94  95  96  97  98  99 100 101 102 103 104 105 106 107\n",
            " 108 109 110 111 112 113 114 115 116 117 118 119 120 121 122 123 124 125\n",
            " 126 127 128 129 130 131 132 133 134 135 136 137 138 139 140 141 142 143\n",
            " 144 145 146 147 148 149]\n"
          ]
        }
      ]
    },
    {
      "cell_type": "code",
      "source": [
        "#use sklearn to split the data\n",
        "from sklearn.model_selection import train_test_split\n",
        "\n",
        "x = iris.drop('species',axis=1)\n",
        "y = iris['species']\n",
        "\n",
        "x_train,x_test,y_train,y_test = train_test_split(x,y,test_size=0.25)\n",
        "\n",
        "print(x_train.info())"
      ],
      "metadata": {
        "colab": {
          "base_uri": "https://localhost:8080/"
        },
        "id": "gXyqJ_WQgLP_",
        "outputId": "a0765d29-1aae-46f9-a0ce-88fd887eba55"
      },
      "execution_count": 74,
      "outputs": [
        {
          "output_type": "stream",
          "name": "stdout",
          "text": [
            "<class 'pandas.core.frame.DataFrame'>\n",
            "Int64Index: 112 entries, 132 to 36\n",
            "Data columns (total 4 columns):\n",
            " #   Column        Non-Null Count  Dtype  \n",
            "---  ------        --------------  -----  \n",
            " 0   sepal_length  112 non-null    float64\n",
            " 1   sepal_width   112 non-null    float64\n",
            " 2   petal_length  112 non-null    float64\n",
            " 3   petal_width   112 non-null    float64\n",
            "dtypes: float64(4)\n",
            "memory usage: 4.4 KB\n",
            "None\n"
          ]
        }
      ]
    },
    {
      "cell_type": "markdown",
      "source": [
        "# **Pandas**\n",
        "\n",
        "**pandas** is a Python package providing fast, flexible, and expressive data structures designed to make working with “relational” or “labeled” data both easy and intuitive. It aims to be the fundamental high-level building block for doing practical, real world data analysis in Python. Additionally, it has the broader goal of becoming **the most powerful and flexible open source data analysis / manipulation tool available in any language**. It is already well on its way toward this goal.\n",
        "\n",
        "The two primary data structures of pandas, **Series (1-dimensional)** and **DataFrame (2-dimensional)**, handle the vast majority of typical use cases in finance, statistics, social science, and many areas of engineering. pandas is built on top of **NumPy** and is intended to integrate well within a scientific computing environment with many other 3rd party libraries."
      ],
      "metadata": {
        "id": "JgPYd2YGg9DZ"
      }
    },
    {
      "cell_type": "code",
      "source": [
        "import pandas as pd\n",
        "\n",
        "iris = 'http://archive.ics.uci.edu/ml/machine-learning-databases/iris/iris.data'\n",
        "df_iris = pd.read_csv(iris,sep=',',header=None) #don't take the first row as head"
      ],
      "metadata": {
        "id": "EVUzTpVjhMpw"
      },
      "execution_count": 79,
      "outputs": []
    },
    {
      "cell_type": "code",
      "source": [
        "print(df_iris.head())"
      ],
      "metadata": {
        "colab": {
          "base_uri": "https://localhost:8080/"
        },
        "id": "tjFHkDSujlvt",
        "outputId": "d58fa2b0-f765-41c5-88d6-bed83dcdbbbf"
      },
      "execution_count": 80,
      "outputs": [
        {
          "output_type": "stream",
          "name": "stdout",
          "text": [
            "     0    1    2    3            4\n",
            "0  5.1  3.5  1.4  0.2  Iris-setosa\n",
            "1  4.9  3.0  1.4  0.2  Iris-setosa\n",
            "2  4.7  3.2  1.3  0.2  Iris-setosa\n",
            "3  4.6  3.1  1.5  0.2  Iris-setosa\n",
            "4  5.0  3.6  1.4  0.2  Iris-setosa\n"
          ]
        }
      ]
    },
    {
      "cell_type": "code",
      "source": [
        "# Read data from Google Drive (recommend)\n",
        "# step 1: change your csv file in Drive as Anyone with the link can view\n",
        "# https://drive.google.com/open?id=1800ai5EJIDftDTS8wdgalA4SVo40oufH\n",
        "\n",
        "file_id='1AbJ1P9aXcjut9ox5lh6oDx4uYnLY2HBQ'\n",
        "link='https://drive.google.com/uc?export=download&id={FILE_ID}'\n",
        "csv_url=link.format(FILE_ID=file_id)\n",
        "\n",
        "df_uk_rain = pd.read_csv(csv_url)"
      ],
      "metadata": {
        "id": "2DO22ulNk1u5"
      },
      "execution_count": 82,
      "outputs": []
    },
    {
      "cell_type": "code",
      "source": [
        "#save dataframe\n",
        "df_iris.to_csv('df.csv',index = False)\n",
        "from google.colab import files\n",
        "files.download('df.csv')"
      ],
      "metadata": {
        "colab": {
          "base_uri": "https://localhost:8080/",
          "height": 17
        },
        "id": "8Yas3B-hkELv",
        "outputId": "f1c7b0f4-9336-4422-d739-6c4cdaf863d1"
      },
      "execution_count": 81,
      "outputs": [
        {
          "output_type": "display_data",
          "data": {
            "application/javascript": [
              "\n",
              "    async function download(id, filename, size) {\n",
              "      if (!google.colab.kernel.accessAllowed) {\n",
              "        return;\n",
              "      }\n",
              "      const div = document.createElement('div');\n",
              "      const label = document.createElement('label');\n",
              "      label.textContent = `Downloading \"${filename}\": `;\n",
              "      div.appendChild(label);\n",
              "      const progress = document.createElement('progress');\n",
              "      progress.max = size;\n",
              "      div.appendChild(progress);\n",
              "      document.body.appendChild(div);\n",
              "\n",
              "      const buffers = [];\n",
              "      let downloaded = 0;\n",
              "\n",
              "      const channel = await google.colab.kernel.comms.open(id);\n",
              "      // Send a message to notify the kernel that we're ready.\n",
              "      channel.send({})\n",
              "\n",
              "      for await (const message of channel.messages) {\n",
              "        // Send a message to notify the kernel that we're ready.\n",
              "        channel.send({})\n",
              "        if (message.buffers) {\n",
              "          for (const buffer of message.buffers) {\n",
              "            buffers.push(buffer);\n",
              "            downloaded += buffer.byteLength;\n",
              "            progress.value = downloaded;\n",
              "          }\n",
              "        }\n",
              "      }\n",
              "      const blob = new Blob(buffers, {type: 'application/binary'});\n",
              "      const a = document.createElement('a');\n",
              "      a.href = window.URL.createObjectURL(blob);\n",
              "      a.download = filename;\n",
              "      div.appendChild(a);\n",
              "      a.click();\n",
              "      div.remove();\n",
              "    }\n",
              "  "
            ],
            "text/plain": [
              "<IPython.core.display.Javascript object>"
            ]
          },
          "metadata": {}
        },
        {
          "output_type": "display_data",
          "data": {
            "application/javascript": [
              "download(\"download_0ab770ca-bae6-4c98-a9a0-abee5c7f156d\", \"df.csv\", 4560)"
            ],
            "text/plain": [
              "<IPython.core.display.Javascript object>"
            ]
          },
          "metadata": {}
        }
      ]
    },
    {
      "cell_type": "markdown",
      "source": [
        "# **Data Structure**\n",
        "**Series** is a one-dimensional labeled array capable of holding any data type (integers, strings, floating point numbers, Python objects, etc.). The axis labels are collectively referred to as the index.\n",
        "\n",
        "**DataFrame** is a 2-dimensional labeled data structure with columns of potentially different types. You can think of it like a spreadsheet or SQL table, or a dict of Series objects. It is generally the most commonly used pandas object. "
      ],
      "metadata": {
        "id": "2upuRYHkkipX"
      }
    },
    {
      "cell_type": "code",
      "source": [
        "#series from list\n"
      ],
      "metadata": {
        "id": "lWJIe4cyk3-R"
      },
      "execution_count": null,
      "outputs": []
    }
  ]
}