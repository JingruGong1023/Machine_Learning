{
  "nbformat": 4,
  "nbformat_minor": 0,
  "metadata": {
    "colab": {
      "name": "Merchant Transaction Analysis.ipynb",
      "provenance": []
    },
    "kernelspec": {
      "name": "python3",
      "display_name": "Python 3"
    },
    "language_info": {
      "name": "python"
    }
  },
  "cells": [
    {
      "cell_type": "markdown",
      "source": [
        "# Merchant Transactions Analysis:\n",
        "**About the data**</br>\n",
        " The dataset has future merchant transaction activity, for merchants that start over a 2 year period (2033-2034). The data spans from 1/1/33 through 12/31/34.</br>\n",
        " </br>\n",
        " We are interested in two questions:\n",
        "\n",
        "\n",
        "> 1.   Understand payments activity to try to infer the types of merchants using the service. \n",
        "> 2.   Identify and predict churn </br>\n",
        "\n",
        " </br>\n",
        "*Note: This doc aims to give clear explanations of my thoughts and methods for this analysis so I will add more details. it is not a formal business report*\n",
        "\n",
        "\n",
        "\n",
        "\n",
        "\n"
      ],
      "metadata": {
        "id": "_P0VtByxemaF"
      }
    },
    {
      "cell_type": "markdown",
      "source": [
        "## Exploratory Data Analysis\n",
        "\n",
        "To better understand the data and process the data for further analysis; \n",
        "This part will include: </br>\n",
        "\n",
        "> 1.   Data Cleaning\n",
        "2.   Data Exploration and visualization\n",
        "3.   Data Preprocessing\n",
        "\n",
        "\n",
        "\n",
        "\n",
        "\n",
        "\n",
        "\n"
      ],
      "metadata": {
        "id": "2iQJ5t6AkX5R"
      }
    },
    {
      "cell_type": "markdown",
      "source": [
        "### Data Cleaning\n"
      ],
      "metadata": {
        "id": "5hGRlZPImQep"
      }
    },
    {
      "cell_type": "code",
      "source": [
        "#import library\n",
        "from termcolor import colored as cl # text customization\n",
        "import pandas as pd\n",
        "import warnings\n",
        "warnings.filterwarnings('ignore')\n",
        "import matplotlib.pyplot as plt\n",
        "import numpy as np\n",
        "from scipy.stats import pearsonr\n",
        "from sklearn import model_selection\n",
        "from sklearn.preprocessing import StandardScaler\n",
        "from sklearn.ensemble import RandomForestClassifier\n",
        "from sklearn.neighbors import KNeighborsClassifier \n",
        "from sklearn.linear_model import LogisticRegression\n",
        "from sklearn import metrics\n",
        "import seaborn as sns\n",
        "from imblearn.over_sampling import SMOTE\n",
        "from sklearn.metrics import confusion_matrix\n",
        "from sklearn.metrics import classification_report\n",
        "from sklearn.metrics import precision_score\n",
        "from sklearn.metrics import recall_score\n",
        "from sklearn.model_selection import GridSearchCV\n",
        "from sklearn.metrics import roc_curve,precision_recall_curve,auc\n",
        "from sklearn.cluster import KMeans\n",
        "from sklearn import preprocessing"
      ],
      "metadata": {
        "id": "406L8jSJkTqY"
      },
      "execution_count": null,
      "outputs": []
    },
    {
      "cell_type": "code",
      "source": [
        "df = pd.read_csv(\"takehome_ds_written.csv\", index_col = 0)\n",
        "df.head()"
      ],
      "metadata": {
        "colab": {
          "base_uri": "https://localhost:8080/",
          "height": 206
        },
        "id": "Lx0Joq9ymhOr",
        "outputId": "76cbf838-8170-4871-980e-442767e59678"
      },
      "execution_count": null,
      "outputs": [
        {
          "output_type": "execute_result",
          "data": {
            "text/plain": [
              "     merchant                 time  amount_usd_in_cents\n",
              "1  faa029c6b0  2034-06-17 23:34:14                 6349\n",
              "2  ed7a7d91aa  2034-12-27 00:40:38                 3854\n",
              "3  5608f200cf  2034-04-30 01:29:42                  789\n",
              "4  15b1a0d61e  2034-09-16 01:06:23                 4452\n",
              "5  4770051790  2034-07-22 16:21:42                20203"
            ],
            "text/html": [
              "\n",
              "  <div id=\"df-8b3b06fe-b255-4af3-a336-6c1217231dc2\">\n",
              "    <div class=\"colab-df-container\">\n",
              "      <div>\n",
              "<style scoped>\n",
              "    .dataframe tbody tr th:only-of-type {\n",
              "        vertical-align: middle;\n",
              "    }\n",
              "\n",
              "    .dataframe tbody tr th {\n",
              "        vertical-align: top;\n",
              "    }\n",
              "\n",
              "    .dataframe thead th {\n",
              "        text-align: right;\n",
              "    }\n",
              "</style>\n",
              "<table border=\"1\" class=\"dataframe\">\n",
              "  <thead>\n",
              "    <tr style=\"text-align: right;\">\n",
              "      <th></th>\n",
              "      <th>merchant</th>\n",
              "      <th>time</th>\n",
              "      <th>amount_usd_in_cents</th>\n",
              "    </tr>\n",
              "  </thead>\n",
              "  <tbody>\n",
              "    <tr>\n",
              "      <th>1</th>\n",
              "      <td>faa029c6b0</td>\n",
              "      <td>2034-06-17 23:34:14</td>\n",
              "      <td>6349</td>\n",
              "    </tr>\n",
              "    <tr>\n",
              "      <th>2</th>\n",
              "      <td>ed7a7d91aa</td>\n",
              "      <td>2034-12-27 00:40:38</td>\n",
              "      <td>3854</td>\n",
              "    </tr>\n",
              "    <tr>\n",
              "      <th>3</th>\n",
              "      <td>5608f200cf</td>\n",
              "      <td>2034-04-30 01:29:42</td>\n",
              "      <td>789</td>\n",
              "    </tr>\n",
              "    <tr>\n",
              "      <th>4</th>\n",
              "      <td>15b1a0d61e</td>\n",
              "      <td>2034-09-16 01:06:23</td>\n",
              "      <td>4452</td>\n",
              "    </tr>\n",
              "    <tr>\n",
              "      <th>5</th>\n",
              "      <td>4770051790</td>\n",
              "      <td>2034-07-22 16:21:42</td>\n",
              "      <td>20203</td>\n",
              "    </tr>\n",
              "  </tbody>\n",
              "</table>\n",
              "</div>\n",
              "      <button class=\"colab-df-convert\" onclick=\"convertToInteractive('df-8b3b06fe-b255-4af3-a336-6c1217231dc2')\"\n",
              "              title=\"Convert this dataframe to an interactive table.\"\n",
              "              style=\"display:none;\">\n",
              "        \n",
              "  <svg xmlns=\"http://www.w3.org/2000/svg\" height=\"24px\"viewBox=\"0 0 24 24\"\n",
              "       width=\"24px\">\n",
              "    <path d=\"M0 0h24v24H0V0z\" fill=\"none\"/>\n",
              "    <path d=\"M18.56 5.44l.94 2.06.94-2.06 2.06-.94-2.06-.94-.94-2.06-.94 2.06-2.06.94zm-11 1L8.5 8.5l.94-2.06 2.06-.94-2.06-.94L8.5 2.5l-.94 2.06-2.06.94zm10 10l.94 2.06.94-2.06 2.06-.94-2.06-.94-.94-2.06-.94 2.06-2.06.94z\"/><path d=\"M17.41 7.96l-1.37-1.37c-.4-.4-.92-.59-1.43-.59-.52 0-1.04.2-1.43.59L10.3 9.45l-7.72 7.72c-.78.78-.78 2.05 0 2.83L4 21.41c.39.39.9.59 1.41.59.51 0 1.02-.2 1.41-.59l7.78-7.78 2.81-2.81c.8-.78.8-2.07 0-2.86zM5.41 20L4 18.59l7.72-7.72 1.47 1.35L5.41 20z\"/>\n",
              "  </svg>\n",
              "      </button>\n",
              "      \n",
              "  <style>\n",
              "    .colab-df-container {\n",
              "      display:flex;\n",
              "      flex-wrap:wrap;\n",
              "      gap: 12px;\n",
              "    }\n",
              "\n",
              "    .colab-df-convert {\n",
              "      background-color: #E8F0FE;\n",
              "      border: none;\n",
              "      border-radius: 50%;\n",
              "      cursor: pointer;\n",
              "      display: none;\n",
              "      fill: #1967D2;\n",
              "      height: 32px;\n",
              "      padding: 0 0 0 0;\n",
              "      width: 32px;\n",
              "    }\n",
              "\n",
              "    .colab-df-convert:hover {\n",
              "      background-color: #E2EBFA;\n",
              "      box-shadow: 0px 1px 2px rgba(60, 64, 67, 0.3), 0px 1px 3px 1px rgba(60, 64, 67, 0.15);\n",
              "      fill: #174EA6;\n",
              "    }\n",
              "\n",
              "    [theme=dark] .colab-df-convert {\n",
              "      background-color: #3B4455;\n",
              "      fill: #D2E3FC;\n",
              "    }\n",
              "\n",
              "    [theme=dark] .colab-df-convert:hover {\n",
              "      background-color: #434B5C;\n",
              "      box-shadow: 0px 1px 3px 1px rgba(0, 0, 0, 0.15);\n",
              "      filter: drop-shadow(0px 1px 2px rgba(0, 0, 0, 0.3));\n",
              "      fill: #FFFFFF;\n",
              "    }\n",
              "  </style>\n",
              "\n",
              "      <script>\n",
              "        const buttonEl =\n",
              "          document.querySelector('#df-8b3b06fe-b255-4af3-a336-6c1217231dc2 button.colab-df-convert');\n",
              "        buttonEl.style.display =\n",
              "          google.colab.kernel.accessAllowed ? 'block' : 'none';\n",
              "\n",
              "        async function convertToInteractive(key) {\n",
              "          const element = document.querySelector('#df-8b3b06fe-b255-4af3-a336-6c1217231dc2');\n",
              "          const dataTable =\n",
              "            await google.colab.kernel.invokeFunction('convertToInteractive',\n",
              "                                                     [key], {});\n",
              "          if (!dataTable) return;\n",
              "\n",
              "          const docLinkHtml = 'Like what you see? Visit the ' +\n",
              "            '<a target=\"_blank\" href=https://colab.research.google.com/notebooks/data_table.ipynb>data table notebook</a>'\n",
              "            + ' to learn more about interactive tables.';\n",
              "          element.innerHTML = '';\n",
              "          dataTable['output_type'] = 'display_data';\n",
              "          await google.colab.output.renderOutput(dataTable, element);\n",
              "          const docLink = document.createElement('div');\n",
              "          docLink.innerHTML = docLinkHtml;\n",
              "          element.appendChild(docLink);\n",
              "        }\n",
              "      </script>\n",
              "    </div>\n",
              "  </div>\n",
              "  "
            ]
          },
          "metadata": {},
          "execution_count": 2
        }
      ]
    },
    {
      "cell_type": "code",
      "source": [
        "df.info()"
      ],
      "metadata": {
        "colab": {
          "base_uri": "https://localhost:8080/"
        },
        "id": "M5mafyUSsux_",
        "outputId": "62fa3b9d-fd59-4687-b344-3790b0f96099"
      },
      "execution_count": null,
      "outputs": [
        {
          "output_type": "stream",
          "name": "stdout",
          "text": [
            "<class 'pandas.core.frame.DataFrame'>\n",
            "Int64Index: 1513719 entries, 1 to 1513719\n",
            "Data columns (total 3 columns):\n",
            " #   Column               Non-Null Count    Dtype \n",
            "---  ------               --------------    ----- \n",
            " 0   merchant             1513719 non-null  object\n",
            " 1   time                 1513719 non-null  object\n",
            " 2   amount_usd_in_cents  1513719 non-null  int64 \n",
            "dtypes: int64(1), object(2)\n",
            "memory usage: 46.2+ MB\n"
          ]
        }
      ]
    },
    {
      "cell_type": "markdown",
      "source": [
        "Let's look at the data first, we noticed, there are three columns in the data: merchant, time, and amount used in cents\n",
        "</br>\n",
        "There is no missing values so we don't need to do any imputation </br>\n",
        "For understanding convenience, let's convert the cents into dollars and drop the *'amount_usd_in_cents'* column"
      ],
      "metadata": {
        "id": "EMap0KQ4rvsi"
      }
    },
    {
      "cell_type": "code",
      "source": [
        "df['amount_usd_in_dollars'] = df.amount_usd_in_cents/100\n",
        "df1 = df.drop(['amount_usd_in_cents'], axis=1)"
      ],
      "metadata": {
        "id": "8LakD3nDrmn9"
      },
      "execution_count": null,
      "outputs": []
    },
    {
      "cell_type": "code",
      "source": [
        "df1.head()"
      ],
      "metadata": {
        "colab": {
          "base_uri": "https://localhost:8080/",
          "height": 206
        },
        "id": "y3r6ZGrwt_up",
        "outputId": "d65303a7-1e93-49dc-e53f-6e77d8fd96df"
      },
      "execution_count": null,
      "outputs": [
        {
          "output_type": "execute_result",
          "data": {
            "text/plain": [
              "     merchant                 time  amount_usd_in_dollars\n",
              "1  faa029c6b0  2034-06-17 23:34:14                  63.49\n",
              "2  ed7a7d91aa  2034-12-27 00:40:38                  38.54\n",
              "3  5608f200cf  2034-04-30 01:29:42                   7.89\n",
              "4  15b1a0d61e  2034-09-16 01:06:23                  44.52\n",
              "5  4770051790  2034-07-22 16:21:42                 202.03"
            ],
            "text/html": [
              "\n",
              "  <div id=\"df-37757e03-1f64-464f-b17f-b53c68620e58\">\n",
              "    <div class=\"colab-df-container\">\n",
              "      <div>\n",
              "<style scoped>\n",
              "    .dataframe tbody tr th:only-of-type {\n",
              "        vertical-align: middle;\n",
              "    }\n",
              "\n",
              "    .dataframe tbody tr th {\n",
              "        vertical-align: top;\n",
              "    }\n",
              "\n",
              "    .dataframe thead th {\n",
              "        text-align: right;\n",
              "    }\n",
              "</style>\n",
              "<table border=\"1\" class=\"dataframe\">\n",
              "  <thead>\n",
              "    <tr style=\"text-align: right;\">\n",
              "      <th></th>\n",
              "      <th>merchant</th>\n",
              "      <th>time</th>\n",
              "      <th>amount_usd_in_dollars</th>\n",
              "    </tr>\n",
              "  </thead>\n",
              "  <tbody>\n",
              "    <tr>\n",
              "      <th>1</th>\n",
              "      <td>faa029c6b0</td>\n",
              "      <td>2034-06-17 23:34:14</td>\n",
              "      <td>63.49</td>\n",
              "    </tr>\n",
              "    <tr>\n",
              "      <th>2</th>\n",
              "      <td>ed7a7d91aa</td>\n",
              "      <td>2034-12-27 00:40:38</td>\n",
              "      <td>38.54</td>\n",
              "    </tr>\n",
              "    <tr>\n",
              "      <th>3</th>\n",
              "      <td>5608f200cf</td>\n",
              "      <td>2034-04-30 01:29:42</td>\n",
              "      <td>7.89</td>\n",
              "    </tr>\n",
              "    <tr>\n",
              "      <th>4</th>\n",
              "      <td>15b1a0d61e</td>\n",
              "      <td>2034-09-16 01:06:23</td>\n",
              "      <td>44.52</td>\n",
              "    </tr>\n",
              "    <tr>\n",
              "      <th>5</th>\n",
              "      <td>4770051790</td>\n",
              "      <td>2034-07-22 16:21:42</td>\n",
              "      <td>202.03</td>\n",
              "    </tr>\n",
              "  </tbody>\n",
              "</table>\n",
              "</div>\n",
              "      <button class=\"colab-df-convert\" onclick=\"convertToInteractive('df-37757e03-1f64-464f-b17f-b53c68620e58')\"\n",
              "              title=\"Convert this dataframe to an interactive table.\"\n",
              "              style=\"display:none;\">\n",
              "        \n",
              "  <svg xmlns=\"http://www.w3.org/2000/svg\" height=\"24px\"viewBox=\"0 0 24 24\"\n",
              "       width=\"24px\">\n",
              "    <path d=\"M0 0h24v24H0V0z\" fill=\"none\"/>\n",
              "    <path d=\"M18.56 5.44l.94 2.06.94-2.06 2.06-.94-2.06-.94-.94-2.06-.94 2.06-2.06.94zm-11 1L8.5 8.5l.94-2.06 2.06-.94-2.06-.94L8.5 2.5l-.94 2.06-2.06.94zm10 10l.94 2.06.94-2.06 2.06-.94-2.06-.94-.94-2.06-.94 2.06-2.06.94z\"/><path d=\"M17.41 7.96l-1.37-1.37c-.4-.4-.92-.59-1.43-.59-.52 0-1.04.2-1.43.59L10.3 9.45l-7.72 7.72c-.78.78-.78 2.05 0 2.83L4 21.41c.39.39.9.59 1.41.59.51 0 1.02-.2 1.41-.59l7.78-7.78 2.81-2.81c.8-.78.8-2.07 0-2.86zM5.41 20L4 18.59l7.72-7.72 1.47 1.35L5.41 20z\"/>\n",
              "  </svg>\n",
              "      </button>\n",
              "      \n",
              "  <style>\n",
              "    .colab-df-container {\n",
              "      display:flex;\n",
              "      flex-wrap:wrap;\n",
              "      gap: 12px;\n",
              "    }\n",
              "\n",
              "    .colab-df-convert {\n",
              "      background-color: #E8F0FE;\n",
              "      border: none;\n",
              "      border-radius: 50%;\n",
              "      cursor: pointer;\n",
              "      display: none;\n",
              "      fill: #1967D2;\n",
              "      height: 32px;\n",
              "      padding: 0 0 0 0;\n",
              "      width: 32px;\n",
              "    }\n",
              "\n",
              "    .colab-df-convert:hover {\n",
              "      background-color: #E2EBFA;\n",
              "      box-shadow: 0px 1px 2px rgba(60, 64, 67, 0.3), 0px 1px 3px 1px rgba(60, 64, 67, 0.15);\n",
              "      fill: #174EA6;\n",
              "    }\n",
              "\n",
              "    [theme=dark] .colab-df-convert {\n",
              "      background-color: #3B4455;\n",
              "      fill: #D2E3FC;\n",
              "    }\n",
              "\n",
              "    [theme=dark] .colab-df-convert:hover {\n",
              "      background-color: #434B5C;\n",
              "      box-shadow: 0px 1px 3px 1px rgba(0, 0, 0, 0.15);\n",
              "      filter: drop-shadow(0px 1px 2px rgba(0, 0, 0, 0.3));\n",
              "      fill: #FFFFFF;\n",
              "    }\n",
              "  </style>\n",
              "\n",
              "      <script>\n",
              "        const buttonEl =\n",
              "          document.querySelector('#df-37757e03-1f64-464f-b17f-b53c68620e58 button.colab-df-convert');\n",
              "        buttonEl.style.display =\n",
              "          google.colab.kernel.accessAllowed ? 'block' : 'none';\n",
              "\n",
              "        async function convertToInteractive(key) {\n",
              "          const element = document.querySelector('#df-37757e03-1f64-464f-b17f-b53c68620e58');\n",
              "          const dataTable =\n",
              "            await google.colab.kernel.invokeFunction('convertToInteractive',\n",
              "                                                     [key], {});\n",
              "          if (!dataTable) return;\n",
              "\n",
              "          const docLinkHtml = 'Like what you see? Visit the ' +\n",
              "            '<a target=\"_blank\" href=https://colab.research.google.com/notebooks/data_table.ipynb>data table notebook</a>'\n",
              "            + ' to learn more about interactive tables.';\n",
              "          element.innerHTML = '';\n",
              "          dataTable['output_type'] = 'display_data';\n",
              "          await google.colab.output.renderOutput(dataTable, element);\n",
              "          const docLink = document.createElement('div');\n",
              "          docLink.innerHTML = docLinkHtml;\n",
              "          element.appendChild(docLink);\n",
              "        }\n",
              "      </script>\n",
              "    </div>\n",
              "  </div>\n",
              "  "
            ]
          },
          "metadata": {},
          "execution_count": 5
        }
      ]
    },
    {
      "cell_type": "code",
      "source": [
        "df1.describe()"
      ],
      "metadata": {
        "colab": {
          "base_uri": "https://localhost:8080/",
          "height": 300
        },
        "id": "6uaxILj2NY0U",
        "outputId": "04019059-fbde-41d5-fc06-919f50e009df"
      },
      "execution_count": null,
      "outputs": [
        {
          "output_type": "execute_result",
          "data": {
            "text/plain": [
              "       amount_usd_in_dollars\n",
              "count           1.513719e+06\n",
              "mean            1.548466e+02\n",
              "std             6.161886e+02\n",
              "min             2.010000e+00\n",
              "25%             3.215000e+01\n",
              "50%             6.104000e+01\n",
              "75%             1.260600e+02\n",
              "max             2.592028e+05"
            ],
            "text/html": [
              "\n",
              "  <div id=\"df-f1613d4a-3474-4d06-9740-74eb2e0263f7\">\n",
              "    <div class=\"colab-df-container\">\n",
              "      <div>\n",
              "<style scoped>\n",
              "    .dataframe tbody tr th:only-of-type {\n",
              "        vertical-align: middle;\n",
              "    }\n",
              "\n",
              "    .dataframe tbody tr th {\n",
              "        vertical-align: top;\n",
              "    }\n",
              "\n",
              "    .dataframe thead th {\n",
              "        text-align: right;\n",
              "    }\n",
              "</style>\n",
              "<table border=\"1\" class=\"dataframe\">\n",
              "  <thead>\n",
              "    <tr style=\"text-align: right;\">\n",
              "      <th></th>\n",
              "      <th>amount_usd_in_dollars</th>\n",
              "    </tr>\n",
              "  </thead>\n",
              "  <tbody>\n",
              "    <tr>\n",
              "      <th>count</th>\n",
              "      <td>1.513719e+06</td>\n",
              "    </tr>\n",
              "    <tr>\n",
              "      <th>mean</th>\n",
              "      <td>1.548466e+02</td>\n",
              "    </tr>\n",
              "    <tr>\n",
              "      <th>std</th>\n",
              "      <td>6.161886e+02</td>\n",
              "    </tr>\n",
              "    <tr>\n",
              "      <th>min</th>\n",
              "      <td>2.010000e+00</td>\n",
              "    </tr>\n",
              "    <tr>\n",
              "      <th>25%</th>\n",
              "      <td>3.215000e+01</td>\n",
              "    </tr>\n",
              "    <tr>\n",
              "      <th>50%</th>\n",
              "      <td>6.104000e+01</td>\n",
              "    </tr>\n",
              "    <tr>\n",
              "      <th>75%</th>\n",
              "      <td>1.260600e+02</td>\n",
              "    </tr>\n",
              "    <tr>\n",
              "      <th>max</th>\n",
              "      <td>2.592028e+05</td>\n",
              "    </tr>\n",
              "  </tbody>\n",
              "</table>\n",
              "</div>\n",
              "      <button class=\"colab-df-convert\" onclick=\"convertToInteractive('df-f1613d4a-3474-4d06-9740-74eb2e0263f7')\"\n",
              "              title=\"Convert this dataframe to an interactive table.\"\n",
              "              style=\"display:none;\">\n",
              "        \n",
              "  <svg xmlns=\"http://www.w3.org/2000/svg\" height=\"24px\"viewBox=\"0 0 24 24\"\n",
              "       width=\"24px\">\n",
              "    <path d=\"M0 0h24v24H0V0z\" fill=\"none\"/>\n",
              "    <path d=\"M18.56 5.44l.94 2.06.94-2.06 2.06-.94-2.06-.94-.94-2.06-.94 2.06-2.06.94zm-11 1L8.5 8.5l.94-2.06 2.06-.94-2.06-.94L8.5 2.5l-.94 2.06-2.06.94zm10 10l.94 2.06.94-2.06 2.06-.94-2.06-.94-.94-2.06-.94 2.06-2.06.94z\"/><path d=\"M17.41 7.96l-1.37-1.37c-.4-.4-.92-.59-1.43-.59-.52 0-1.04.2-1.43.59L10.3 9.45l-7.72 7.72c-.78.78-.78 2.05 0 2.83L4 21.41c.39.39.9.59 1.41.59.51 0 1.02-.2 1.41-.59l7.78-7.78 2.81-2.81c.8-.78.8-2.07 0-2.86zM5.41 20L4 18.59l7.72-7.72 1.47 1.35L5.41 20z\"/>\n",
              "  </svg>\n",
              "      </button>\n",
              "      \n",
              "  <style>\n",
              "    .colab-df-container {\n",
              "      display:flex;\n",
              "      flex-wrap:wrap;\n",
              "      gap: 12px;\n",
              "    }\n",
              "\n",
              "    .colab-df-convert {\n",
              "      background-color: #E8F0FE;\n",
              "      border: none;\n",
              "      border-radius: 50%;\n",
              "      cursor: pointer;\n",
              "      display: none;\n",
              "      fill: #1967D2;\n",
              "      height: 32px;\n",
              "      padding: 0 0 0 0;\n",
              "      width: 32px;\n",
              "    }\n",
              "\n",
              "    .colab-df-convert:hover {\n",
              "      background-color: #E2EBFA;\n",
              "      box-shadow: 0px 1px 2px rgba(60, 64, 67, 0.3), 0px 1px 3px 1px rgba(60, 64, 67, 0.15);\n",
              "      fill: #174EA6;\n",
              "    }\n",
              "\n",
              "    [theme=dark] .colab-df-convert {\n",
              "      background-color: #3B4455;\n",
              "      fill: #D2E3FC;\n",
              "    }\n",
              "\n",
              "    [theme=dark] .colab-df-convert:hover {\n",
              "      background-color: #434B5C;\n",
              "      box-shadow: 0px 1px 3px 1px rgba(0, 0, 0, 0.15);\n",
              "      filter: drop-shadow(0px 1px 2px rgba(0, 0, 0, 0.3));\n",
              "      fill: #FFFFFF;\n",
              "    }\n",
              "  </style>\n",
              "\n",
              "      <script>\n",
              "        const buttonEl =\n",
              "          document.querySelector('#df-f1613d4a-3474-4d06-9740-74eb2e0263f7 button.colab-df-convert');\n",
              "        buttonEl.style.display =\n",
              "          google.colab.kernel.accessAllowed ? 'block' : 'none';\n",
              "\n",
              "        async function convertToInteractive(key) {\n",
              "          const element = document.querySelector('#df-f1613d4a-3474-4d06-9740-74eb2e0263f7');\n",
              "          const dataTable =\n",
              "            await google.colab.kernel.invokeFunction('convertToInteractive',\n",
              "                                                     [key], {});\n",
              "          if (!dataTable) return;\n",
              "\n",
              "          const docLinkHtml = 'Like what you see? Visit the ' +\n",
              "            '<a target=\"_blank\" href=https://colab.research.google.com/notebooks/data_table.ipynb>data table notebook</a>'\n",
              "            + ' to learn more about interactive tables.';\n",
              "          element.innerHTML = '';\n",
              "          dataTable['output_type'] = 'display_data';\n",
              "          await google.colab.output.renderOutput(dataTable, element);\n",
              "          const docLink = document.createElement('div');\n",
              "          docLink.innerHTML = docLinkHtml;\n",
              "          element.appendChild(docLink);\n",
              "        }\n",
              "      </script>\n",
              "    </div>\n",
              "  </div>\n",
              "  "
            ]
          },
          "metadata": {},
          "execution_count": 6
        }
      ]
    },
    {
      "cell_type": "markdown",
      "source": [
        "Now let's check if there is any wrong/unrealistic data points </br>\n",
        "The data isn't too complicated, and the main thing we need to check is if the amound used in dollars is larger than zero, cause if not, we may encounter a fraud or other tech issue and that's out of our scope this time\n",
        "\n",
        "\n",
        "\n"
      ],
      "metadata": {
        "id": "-Sp2_W1Vv6br"
      }
    },
    {
      "cell_type": "code",
      "source": [
        "df1[(df1['amount_usd_in_dollars']<0)]"
      ],
      "metadata": {
        "colab": {
          "base_uri": "https://localhost:8080/",
          "height": 49
        },
        "id": "XAII31ssuiT4",
        "outputId": "ec025d64-d045-4c9f-f357-50fd7f273a4f"
      },
      "execution_count": null,
      "outputs": [
        {
          "output_type": "execute_result",
          "data": {
            "text/plain": [
              "Empty DataFrame\n",
              "Columns: [merchant, time, amount_usd_in_dollars]\n",
              "Index: []"
            ],
            "text/html": [
              "\n",
              "  <div id=\"df-72773286-2f9b-4cc2-bf0e-0be4f6aa5944\">\n",
              "    <div class=\"colab-df-container\">\n",
              "      <div>\n",
              "<style scoped>\n",
              "    .dataframe tbody tr th:only-of-type {\n",
              "        vertical-align: middle;\n",
              "    }\n",
              "\n",
              "    .dataframe tbody tr th {\n",
              "        vertical-align: top;\n",
              "    }\n",
              "\n",
              "    .dataframe thead th {\n",
              "        text-align: right;\n",
              "    }\n",
              "</style>\n",
              "<table border=\"1\" class=\"dataframe\">\n",
              "  <thead>\n",
              "    <tr style=\"text-align: right;\">\n",
              "      <th></th>\n",
              "      <th>merchant</th>\n",
              "      <th>time</th>\n",
              "      <th>amount_usd_in_dollars</th>\n",
              "    </tr>\n",
              "  </thead>\n",
              "  <tbody>\n",
              "  </tbody>\n",
              "</table>\n",
              "</div>\n",
              "      <button class=\"colab-df-convert\" onclick=\"convertToInteractive('df-72773286-2f9b-4cc2-bf0e-0be4f6aa5944')\"\n",
              "              title=\"Convert this dataframe to an interactive table.\"\n",
              "              style=\"display:none;\">\n",
              "        \n",
              "  <svg xmlns=\"http://www.w3.org/2000/svg\" height=\"24px\"viewBox=\"0 0 24 24\"\n",
              "       width=\"24px\">\n",
              "    <path d=\"M0 0h24v24H0V0z\" fill=\"none\"/>\n",
              "    <path d=\"M18.56 5.44l.94 2.06.94-2.06 2.06-.94-2.06-.94-.94-2.06-.94 2.06-2.06.94zm-11 1L8.5 8.5l.94-2.06 2.06-.94-2.06-.94L8.5 2.5l-.94 2.06-2.06.94zm10 10l.94 2.06.94-2.06 2.06-.94-2.06-.94-.94-2.06-.94 2.06-2.06.94z\"/><path d=\"M17.41 7.96l-1.37-1.37c-.4-.4-.92-.59-1.43-.59-.52 0-1.04.2-1.43.59L10.3 9.45l-7.72 7.72c-.78.78-.78 2.05 0 2.83L4 21.41c.39.39.9.59 1.41.59.51 0 1.02-.2 1.41-.59l7.78-7.78 2.81-2.81c.8-.78.8-2.07 0-2.86zM5.41 20L4 18.59l7.72-7.72 1.47 1.35L5.41 20z\"/>\n",
              "  </svg>\n",
              "      </button>\n",
              "      \n",
              "  <style>\n",
              "    .colab-df-container {\n",
              "      display:flex;\n",
              "      flex-wrap:wrap;\n",
              "      gap: 12px;\n",
              "    }\n",
              "\n",
              "    .colab-df-convert {\n",
              "      background-color: #E8F0FE;\n",
              "      border: none;\n",
              "      border-radius: 50%;\n",
              "      cursor: pointer;\n",
              "      display: none;\n",
              "      fill: #1967D2;\n",
              "      height: 32px;\n",
              "      padding: 0 0 0 0;\n",
              "      width: 32px;\n",
              "    }\n",
              "\n",
              "    .colab-df-convert:hover {\n",
              "      background-color: #E2EBFA;\n",
              "      box-shadow: 0px 1px 2px rgba(60, 64, 67, 0.3), 0px 1px 3px 1px rgba(60, 64, 67, 0.15);\n",
              "      fill: #174EA6;\n",
              "    }\n",
              "\n",
              "    [theme=dark] .colab-df-convert {\n",
              "      background-color: #3B4455;\n",
              "      fill: #D2E3FC;\n",
              "    }\n",
              "\n",
              "    [theme=dark] .colab-df-convert:hover {\n",
              "      background-color: #434B5C;\n",
              "      box-shadow: 0px 1px 3px 1px rgba(0, 0, 0, 0.15);\n",
              "      filter: drop-shadow(0px 1px 2px rgba(0, 0, 0, 0.3));\n",
              "      fill: #FFFFFF;\n",
              "    }\n",
              "  </style>\n",
              "\n",
              "      <script>\n",
              "        const buttonEl =\n",
              "          document.querySelector('#df-72773286-2f9b-4cc2-bf0e-0be4f6aa5944 button.colab-df-convert');\n",
              "        buttonEl.style.display =\n",
              "          google.colab.kernel.accessAllowed ? 'block' : 'none';\n",
              "\n",
              "        async function convertToInteractive(key) {\n",
              "          const element = document.querySelector('#df-72773286-2f9b-4cc2-bf0e-0be4f6aa5944');\n",
              "          const dataTable =\n",
              "            await google.colab.kernel.invokeFunction('convertToInteractive',\n",
              "                                                     [key], {});\n",
              "          if (!dataTable) return;\n",
              "\n",
              "          const docLinkHtml = 'Like what you see? Visit the ' +\n",
              "            '<a target=\"_blank\" href=https://colab.research.google.com/notebooks/data_table.ipynb>data table notebook</a>'\n",
              "            + ' to learn more about interactive tables.';\n",
              "          element.innerHTML = '';\n",
              "          dataTable['output_type'] = 'display_data';\n",
              "          await google.colab.output.renderOutput(dataTable, element);\n",
              "          const docLink = document.createElement('div');\n",
              "          docLink.innerHTML = docLinkHtml;\n",
              "          element.appendChild(docLink);\n",
              "        }\n",
              "      </script>\n",
              "    </div>\n",
              "  </div>\n",
              "  "
            ]
          },
          "metadata": {},
          "execution_count": 7
        }
      ]
    },
    {
      "cell_type": "markdown",
      "source": [
        "We noticed all of our amount is positive so our data is in good shape </br>\n",
        "Now let's look at the distribution of amount used in dollars and see if we need to deal with outliers"
      ],
      "metadata": {
        "id": "MkGZ0JhNyF5M"
      }
    },
    {
      "cell_type": "code",
      "source": [
        "df1['amount_usd_in_dollars'].hist()"
      ],
      "metadata": {
        "colab": {
          "base_uri": "https://localhost:8080/",
          "height": 294
        },
        "id": "3fArMJTZyDRo",
        "outputId": "fc05b1c2-37a9-4629-935c-b24cb602e276"
      },
      "execution_count": null,
      "outputs": [
        {
          "output_type": "execute_result",
          "data": {
            "text/plain": [
              "<matplotlib.axes._subplots.AxesSubplot at 0x7f28e94f0490>"
            ]
          },
          "metadata": {},
          "execution_count": 8
        },
        {
          "output_type": "display_data",
          "data": {
            "text/plain": [
              "<Figure size 432x288 with 1 Axes>"
            ],
            "image/png": "[encoded data removed]"
          },
          "metadata": {
            "needs_background": "light"
          }
        }
      ]
    },
    {
      "cell_type": "markdown",
      "source": [
        "We noticed there is potential outlier to our data\n",
        "</br>\n",
        "Let's take a look at the max and min value for transactions and which merchants are related to them "
      ],
      "metadata": {
        "id": "leHeiwFh1TqJ"
      }
    },
    {
      "cell_type": "code",
      "source": [
        "df1['amount_usd_in_dollars'].max()"
      ],
      "metadata": {
        "colab": {
          "base_uri": "https://localhost:8080/"
        },
        "id": "2lOlwxL5zqEX",
        "outputId": "9c1af8f6-7cb4-47b0-ace3-6fada42d8c3e"
      },
      "execution_count": null,
      "outputs": [
        {
          "output_type": "execute_result",
          "data": {
            "text/plain": [
              "259202.8"
            ]
          },
          "metadata": {},
          "execution_count": 9
        }
      ]
    },
    {
      "cell_type": "code",
      "source": [
        "df1['amount_usd_in_dollars'].min()"
      ],
      "metadata": {
        "colab": {
          "base_uri": "https://localhost:8080/"
        },
        "id": "qND-Lh1O1lcj",
        "outputId": "9254de29-704d-435c-f967-81b678dd9234"
      },
      "execution_count": null,
      "outputs": [
        {
          "output_type": "execute_result",
          "data": {
            "text/plain": [
              "2.01"
            ]
          },
          "metadata": {},
          "execution_count": 10
        }
      ]
    },
    {
      "cell_type": "code",
      "source": [
        "df1[(df1['amount_usd_in_dollars']==259202.8)]\n",
        "df1[(df1['merchant']=='0838e4078e')]"
      ],
      "metadata": {
        "colab": {
          "base_uri": "https://localhost:8080/",
          "height": 143
        },
        "id": "jiGvtMBQz8Xn",
        "outputId": "d5e2d712-fc05-46f9-e5fb-dfbc27309bcd"
      },
      "execution_count": null,
      "outputs": [
        {
          "output_type": "execute_result",
          "data": {
            "text/plain": [
              "           merchant                 time  amount_usd_in_dollars\n",
              "596898   0838e4078e  2034-04-29 16:21:18                2063.00\n",
              "725232   0838e4078e  2034-06-06 17:59:10                2193.73\n",
              "1393899  0838e4078e  2034-08-04 18:53:26              259202.80"
            ],
            "text/html": [
              "\n",
              "  <div id=\"df-5989456e-04e5-48da-96c7-c08cd2659765\">\n",
              "    <div class=\"colab-df-container\">\n",
              "      <div>\n",
              "<style scoped>\n",
              "    .dataframe tbody tr th:only-of-type {\n",
              "        vertical-align: middle;\n",
              "    }\n",
              "\n",
              "    .dataframe tbody tr th {\n",
              "        vertical-align: top;\n",
              "    }\n",
              "\n",
              "    .dataframe thead th {\n",
              "        text-align: right;\n",
              "    }\n",
              "</style>\n",
              "<table border=\"1\" class=\"dataframe\">\n",
              "  <thead>\n",
              "    <tr style=\"text-align: right;\">\n",
              "      <th></th>\n",
              "      <th>merchant</th>\n",
              "      <th>time</th>\n",
              "      <th>amount_usd_in_dollars</th>\n",
              "    </tr>\n",
              "  </thead>\n",
              "  <tbody>\n",
              "    <tr>\n",
              "      <th>596898</th>\n",
              "      <td>0838e4078e</td>\n",
              "      <td>2034-04-29 16:21:18</td>\n",
              "      <td>2063.00</td>\n",
              "    </tr>\n",
              "    <tr>\n",
              "      <th>725232</th>\n",
              "      <td>0838e4078e</td>\n",
              "      <td>2034-06-06 17:59:10</td>\n",
              "      <td>2193.73</td>\n",
              "    </tr>\n",
              "    <tr>\n",
              "      <th>1393899</th>\n",
              "      <td>0838e4078e</td>\n",
              "      <td>2034-08-04 18:53:26</td>\n",
              "      <td>259202.80</td>\n",
              "    </tr>\n",
              "  </tbody>\n",
              "</table>\n",
              "</div>\n",
              "      <button class=\"colab-df-convert\" onclick=\"convertToInteractive('df-5989456e-04e5-48da-96c7-c08cd2659765')\"\n",
              "              title=\"Convert this dataframe to an interactive table.\"\n",
              "              style=\"display:none;\">\n",
              "        \n",
              "  <svg xmlns=\"http://www.w3.org/2000/svg\" height=\"24px\"viewBox=\"0 0 24 24\"\n",
              "       width=\"24px\">\n",
              "    <path d=\"M0 0h24v24H0V0z\" fill=\"none\"/>\n",
              "    <path d=\"M18.56 5.44l.94 2.06.94-2.06 2.06-.94-2.06-.94-.94-2.06-.94 2.06-2.06.94zm-11 1L8.5 8.5l.94-2.06 2.06-.94-2.06-.94L8.5 2.5l-.94 2.06-2.06.94zm10 10l.94 2.06.94-2.06 2.06-.94-2.06-.94-.94-2.06-.94 2.06-2.06.94z\"/><path d=\"M17.41 7.96l-1.37-1.37c-.4-.4-.92-.59-1.43-.59-.52 0-1.04.2-1.43.59L10.3 9.45l-7.72 7.72c-.78.78-.78 2.05 0 2.83L4 21.41c.39.39.9.59 1.41.59.51 0 1.02-.2 1.41-.59l7.78-7.78 2.81-2.81c.8-.78.8-2.07 0-2.86zM5.41 20L4 18.59l7.72-7.72 1.47 1.35L5.41 20z\"/>\n",
              "  </svg>\n",
              "      </button>\n",
              "      \n",
              "  <style>\n",
              "    .colab-df-container {\n",
              "      display:flex;\n",
              "      flex-wrap:wrap;\n",
              "      gap: 12px;\n",
              "    }\n",
              "\n",
              "    .colab-df-convert {\n",
              "      background-color: #E8F0FE;\n",
              "      border: none;\n",
              "      border-radius: 50%;\n",
              "      cursor: pointer;\n",
              "      display: none;\n",
              "      fill: #1967D2;\n",
              "      height: 32px;\n",
              "      padding: 0 0 0 0;\n",
              "      width: 32px;\n",
              "    }\n",
              "\n",
              "    .colab-df-convert:hover {\n",
              "      background-color: #E2EBFA;\n",
              "      box-shadow: 0px 1px 2px rgba(60, 64, 67, 0.3), 0px 1px 3px 1px rgba(60, 64, 67, 0.15);\n",
              "      fill: #174EA6;\n",
              "    }\n",
              "\n",
              "    [theme=dark] .colab-df-convert {\n",
              "      background-color: #3B4455;\n",
              "      fill: #D2E3FC;\n",
              "    }\n",
              "\n",
              "    [theme=dark] .colab-df-convert:hover {\n",
              "      background-color: #434B5C;\n",
              "      box-shadow: 0px 1px 3px 1px rgba(0, 0, 0, 0.15);\n",
              "      filter: drop-shadow(0px 1px 2px rgba(0, 0, 0, 0.3));\n",
              "      fill: #FFFFFF;\n",
              "    }\n",
              "  </style>\n",
              "\n",
              "      <script>\n",
              "        const buttonEl =\n",
              "          document.querySelector('#df-5989456e-04e5-48da-96c7-c08cd2659765 button.colab-df-convert');\n",
              "        buttonEl.style.display =\n",
              "          google.colab.kernel.accessAllowed ? 'block' : 'none';\n",
              "\n",
              "        async function convertToInteractive(key) {\n",
              "          const element = document.querySelector('#df-5989456e-04e5-48da-96c7-c08cd2659765');\n",
              "          const dataTable =\n",
              "            await google.colab.kernel.invokeFunction('convertToInteractive',\n",
              "                                                     [key], {});\n",
              "          if (!dataTable) return;\n",
              "\n",
              "          const docLinkHtml = 'Like what you see? Visit the ' +\n",
              "            '<a target=\"_blank\" href=https://colab.research.google.com/notebooks/data_table.ipynb>data table notebook</a>'\n",
              "            + ' to learn more about interactive tables.';\n",
              "          element.innerHTML = '';\n",
              "          dataTable['output_type'] = 'display_data';\n",
              "          await google.colab.output.renderOutput(dataTable, element);\n",
              "          const docLink = document.createElement('div');\n",
              "          docLink.innerHTML = docLinkHtml;\n",
              "          element.appendChild(docLink);\n",
              "        }\n",
              "      </script>\n",
              "    </div>\n",
              "  </div>\n",
              "  "
            ]
          },
          "metadata": {},
          "execution_count": 11
        }
      ]
    },
    {
      "cell_type": "code",
      "source": [
        "df1[(df1['amount_usd_in_dollars']==2.01)]"
      ],
      "metadata": {
        "colab": {
          "base_uri": "https://localhost:8080/",
          "height": 423
        },
        "id": "1DmHckz40xui",
        "outputId": "38ffc49d-5a3b-4b25-fedc-e223b531161a"
      },
      "execution_count": null,
      "outputs": [
        {
          "output_type": "execute_result",
          "data": {
            "text/plain": [
              "           merchant                 time  amount_usd_in_dollars\n",
              "71854    3ee378c358  2034-12-04 06:57:32                   2.01\n",
              "76819    c5b09bf41e  2034-11-29 06:56:35                   2.01\n",
              "104032   abd48df37f  2034-09-11 04:40:23                   2.01\n",
              "108460   73e20f6c65  2034-05-27 21:44:27                   2.01\n",
              "128085   23f7a2b8b5  2034-02-02 16:18:18                   2.01\n",
              "...             ...                  ...                    ...\n",
              "1387672  abd48df37f  2034-09-11 16:37:59                   2.01\n",
              "1401647  89e2d29885  2034-04-10 12:21:14                   2.01\n",
              "1460734  72c2cdfb6a  2033-11-18 07:11:57                   2.01\n",
              "1487447  d6fe440e06  2034-09-01 23:32:36                   2.01\n",
              "1490437  23f7a2b8b5  2034-02-02 18:03:21                   2.01\n",
              "\n",
              "[61 rows x 3 columns]"
            ],
            "text/html": [
              "\n",
              "  <div id=\"df-ecd116c2-d334-4e0a-bed2-68eed34811fc\">\n",
              "    <div class=\"colab-df-container\">\n",
              "      <div>\n",
              "<style scoped>\n",
              "    .dataframe tbody tr th:only-of-type {\n",
              "        vertical-align: middle;\n",
              "    }\n",
              "\n",
              "    .dataframe tbody tr th {\n",
              "        vertical-align: top;\n",
              "    }\n",
              "\n",
              "    .dataframe thead th {\n",
              "        text-align: right;\n",
              "    }\n",
              "</style>\n",
              "<table border=\"1\" class=\"dataframe\">\n",
              "  <thead>\n",
              "    <tr style=\"text-align: right;\">\n",
              "      <th></th>\n",
              "      <th>merchant</th>\n",
              "      <th>time</th>\n",
              "      <th>amount_usd_in_dollars</th>\n",
              "    </tr>\n",
              "  </thead>\n",
              "  <tbody>\n",
              "    <tr>\n",
              "      <th>71854</th>\n",
              "      <td>3ee378c358</td>\n",
              "      <td>2034-12-04 06:57:32</td>\n",
              "      <td>2.01</td>\n",
              "    </tr>\n",
              "    <tr>\n",
              "      <th>76819</th>\n",
              "      <td>c5b09bf41e</td>\n",
              "      <td>2034-11-29 06:56:35</td>\n",
              "      <td>2.01</td>\n",
              "    </tr>\n",
              "    <tr>\n",
              "      <th>104032</th>\n",
              "      <td>abd48df37f</td>\n",
              "      <td>2034-09-11 04:40:23</td>\n",
              "      <td>2.01</td>\n",
              "    </tr>\n",
              "    <tr>\n",
              "      <th>108460</th>\n",
              "      <td>73e20f6c65</td>\n",
              "      <td>2034-05-27 21:44:27</td>\n",
              "      <td>2.01</td>\n",
              "    </tr>\n",
              "    <tr>\n",
              "      <th>128085</th>\n",
              "      <td>23f7a2b8b5</td>\n",
              "      <td>2034-02-02 16:18:18</td>\n",
              "      <td>2.01</td>\n",
              "    </tr>\n",
              "    <tr>\n",
              "      <th>...</th>\n",
              "      <td>...</td>\n",
              "      <td>...</td>\n",
              "      <td>...</td>\n",
              "    </tr>\n",
              "    <tr>\n",
              "      <th>1387672</th>\n",
              "      <td>abd48df37f</td>\n",
              "      <td>2034-09-11 16:37:59</td>\n",
              "      <td>2.01</td>\n",
              "    </tr>\n",
              "    <tr>\n",
              "      <th>1401647</th>\n",
              "      <td>89e2d29885</td>\n",
              "      <td>2034-04-10 12:21:14</td>\n",
              "      <td>2.01</td>\n",
              "    </tr>\n",
              "    <tr>\n",
              "      <th>1460734</th>\n",
              "      <td>72c2cdfb6a</td>\n",
              "      <td>2033-11-18 07:11:57</td>\n",
              "      <td>2.01</td>\n",
              "    </tr>\n",
              "    <tr>\n",
              "      <th>1487447</th>\n",
              "      <td>d6fe440e06</td>\n",
              "      <td>2034-09-01 23:32:36</td>\n",
              "      <td>2.01</td>\n",
              "    </tr>\n",
              "    <tr>\n",
              "      <th>1490437</th>\n",
              "      <td>23f7a2b8b5</td>\n",
              "      <td>2034-02-02 18:03:21</td>\n",
              "      <td>2.01</td>\n",
              "    </tr>\n",
              "  </tbody>\n",
              "</table>\n",
              "<p>61 rows × 3 columns</p>\n",
              "</div>\n",
              "      <button class=\"colab-df-convert\" onclick=\"convertToInteractive('df-ecd116c2-d334-4e0a-bed2-68eed34811fc')\"\n",
              "              title=\"Convert this dataframe to an interactive table.\"\n",
              "              style=\"display:none;\">\n",
              "        \n",
              "  <svg xmlns=\"http://www.w3.org/2000/svg\" height=\"24px\"viewBox=\"0 0 24 24\"\n",
              "       width=\"24px\">\n",
              "    <path d=\"M0 0h24v24H0V0z\" fill=\"none\"/>\n",
              "    <path d=\"M18.56 5.44l.94 2.06.94-2.06 2.06-.94-2.06-.94-.94-2.06-.94 2.06-2.06.94zm-11 1L8.5 8.5l.94-2.06 2.06-.94-2.06-.94L8.5 2.5l-.94 2.06-2.06.94zm10 10l.94 2.06.94-2.06 2.06-.94-2.06-.94-.94-2.06-.94 2.06-2.06.94z\"/><path d=\"M17.41 7.96l-1.37-1.37c-.4-.4-.92-.59-1.43-.59-.52 0-1.04.2-1.43.59L10.3 9.45l-7.72 7.72c-.78.78-.78 2.05 0 2.83L4 21.41c.39.39.9.59 1.41.59.51 0 1.02-.2 1.41-.59l7.78-7.78 2.81-2.81c.8-.78.8-2.07 0-2.86zM5.41 20L4 18.59l7.72-7.72 1.47 1.35L5.41 20z\"/>\n",
              "  </svg>\n",
              "      </button>\n",
              "      \n",
              "  <style>\n",
              "    .colab-df-container {\n",
              "      display:flex;\n",
              "      flex-wrap:wrap;\n",
              "      gap: 12px;\n",
              "    }\n",
              "\n",
              "    .colab-df-convert {\n",
              "      background-color: #E8F0FE;\n",
              "      border: none;\n",
              "      border-radius: 50%;\n",
              "      cursor: pointer;\n",
              "      display: none;\n",
              "      fill: #1967D2;\n",
              "      height: 32px;\n",
              "      padding: 0 0 0 0;\n",
              "      width: 32px;\n",
              "    }\n",
              "\n",
              "    .colab-df-convert:hover {\n",
              "      background-color: #E2EBFA;\n",
              "      box-shadow: 0px 1px 2px rgba(60, 64, 67, 0.3), 0px 1px 3px 1px rgba(60, 64, 67, 0.15);\n",
              "      fill: #174EA6;\n",
              "    }\n",
              "\n",
              "    [theme=dark] .colab-df-convert {\n",
              "      background-color: #3B4455;\n",
              "      fill: #D2E3FC;\n",
              "    }\n",
              "\n",
              "    [theme=dark] .colab-df-convert:hover {\n",
              "      background-color: #434B5C;\n",
              "      box-shadow: 0px 1px 3px 1px rgba(0, 0, 0, 0.15);\n",
              "      filter: drop-shadow(0px 1px 2px rgba(0, 0, 0, 0.3));\n",
              "      fill: #FFFFFF;\n",
              "    }\n",
              "  </style>\n",
              "\n",
              "      <script>\n",
              "        const buttonEl =\n",
              "          document.querySelector('#df-ecd116c2-d334-4e0a-bed2-68eed34811fc button.colab-df-convert');\n",
              "        buttonEl.style.display =\n",
              "          google.colab.kernel.accessAllowed ? 'block' : 'none';\n",
              "\n",
              "        async function convertToInteractive(key) {\n",
              "          const element = document.querySelector('#df-ecd116c2-d334-4e0a-bed2-68eed34811fc');\n",
              "          const dataTable =\n",
              "            await google.colab.kernel.invokeFunction('convertToInteractive',\n",
              "                                                     [key], {});\n",
              "          if (!dataTable) return;\n",
              "\n",
              "          const docLinkHtml = 'Like what you see? Visit the ' +\n",
              "            '<a target=\"_blank\" href=https://colab.research.google.com/notebooks/data_table.ipynb>data table notebook</a>'\n",
              "            + ' to learn more about interactive tables.';\n",
              "          element.innerHTML = '';\n",
              "          dataTable['output_type'] = 'display_data';\n",
              "          await google.colab.output.renderOutput(dataTable, element);\n",
              "          const docLink = document.createElement('div');\n",
              "          docLink.innerHTML = docLinkHtml;\n",
              "          element.appendChild(docLink);\n",
              "        }\n",
              "      </script>\n",
              "    </div>\n",
              "  </div>\n",
              "  "
            ]
          },
          "metadata": {},
          "execution_count": 12
        }
      ]
    },
    {
      "cell_type": "markdown",
      "source": [
        "There is only one merchant with the max transaction, and the other transactions associated with this merchant is not really small, this transaction is potentially a wrong record, but there might be other reasons, let's keep this record and we will pay attention to this merchant when we do analysis later </br>\n",
        "There are 61 transactions with the min value, nothing to be worried about. </br>\n"
      ],
      "metadata": {
        "id": "Lfbwy3wL2Xy8"
      }
    },
    {
      "cell_type": "markdown",
      "source": [
        "### Data Exploration and Preprocessing"
      ],
      "metadata": {
        "id": "3YzBWRcTLXne"
      }
    },
    {
      "cell_type": "markdown",
      "source": [
        "Now, we noticed there are only several transactions with amount larger than 25000 usd, to better understand the data, I will inspect the transactions within range 25000 usd"
      ],
      "metadata": {
        "id": "lixU3QLdLfed"
      }
    },
    {
      "cell_type": "code",
      "source": [
        "df1[(df1['amount_usd_in_dollars']>25000)]"
      ],
      "metadata": {
        "colab": {
          "base_uri": "https://localhost:8080/",
          "height": 423
        },
        "id": "K_aBSyHf3d0e",
        "outputId": "1c8bceeb-85ff-4265-8c83-3d17794e366b"
      },
      "execution_count": null,
      "outputs": [
        {
          "output_type": "execute_result",
          "data": {
            "text/plain": [
              "           merchant                 time  amount_usd_in_dollars\n",
              "24186    ed184b7e75  2034-09-07 11:03:37               30550.92\n",
              "28978    b993083163  2034-10-16 21:29:24              103855.08\n",
              "35263    69821cf0e2  2034-11-29 15:36:06               27218.13\n",
              "47559    95efa5154d  2034-10-24 15:32:53               45708.61\n",
              "50771    29f7ac8ef4  2033-11-25 22:35:20               25784.11\n",
              "...             ...                  ...                    ...\n",
              "1429658  60fbdf7cfa  2034-08-08 00:41:34               47846.71\n",
              "1442960  79495b0a8c  2034-12-28 15:31:56               91559.76\n",
              "1465055  1e941a2507  2034-08-24 16:14:10               42248.28\n",
              "1467395  b993083163  2034-10-04 01:00:02               85319.07\n",
              "1471907  59a62facad  2034-11-07 18:36:44               28986.52\n",
              "\n",
              "[69 rows x 3 columns]"
            ],
            "text/html": [
              "\n",
              "  <div id=\"df-3eec6ad3-4c61-41ff-aaad-f69ba408ab22\">\n",
              "    <div class=\"colab-df-container\">\n",
              "      <div>\n",
              "<style scoped>\n",
              "    .dataframe tbody tr th:only-of-type {\n",
              "        vertical-align: middle;\n",
              "    }\n",
              "\n",
              "    .dataframe tbody tr th {\n",
              "        vertical-align: top;\n",
              "    }\n",
              "\n",
              "    .dataframe thead th {\n",
              "        text-align: right;\n",
              "    }\n",
              "</style>\n",
              "<table border=\"1\" class=\"dataframe\">\n",
              "  <thead>\n",
              "    <tr style=\"text-align: right;\">\n",
              "      <th></th>\n",
              "      <th>merchant</th>\n",
              "      <th>time</th>\n",
              "      <th>amount_usd_in_dollars</th>\n",
              "    </tr>\n",
              "  </thead>\n",
              "  <tbody>\n",
              "    <tr>\n",
              "      <th>24186</th>\n",
              "      <td>ed184b7e75</td>\n",
              "      <td>2034-09-07 11:03:37</td>\n",
              "      <td>30550.92</td>\n",
              "    </tr>\n",
              "    <tr>\n",
              "      <th>28978</th>\n",
              "      <td>b993083163</td>\n",
              "      <td>2034-10-16 21:29:24</td>\n",
              "      <td>103855.08</td>\n",
              "    </tr>\n",
              "    <tr>\n",
              "      <th>35263</th>\n",
              "      <td>69821cf0e2</td>\n",
              "      <td>2034-11-29 15:36:06</td>\n",
              "      <td>27218.13</td>\n",
              "    </tr>\n",
              "    <tr>\n",
              "      <th>47559</th>\n",
              "      <td>95efa5154d</td>\n",
              "      <td>2034-10-24 15:32:53</td>\n",
              "      <td>45708.61</td>\n",
              "    </tr>\n",
              "    <tr>\n",
              "      <th>50771</th>\n",
              "      <td>29f7ac8ef4</td>\n",
              "      <td>2033-11-25 22:35:20</td>\n",
              "      <td>25784.11</td>\n",
              "    </tr>\n",
              "    <tr>\n",
              "      <th>...</th>\n",
              "      <td>...</td>\n",
              "      <td>...</td>\n",
              "      <td>...</td>\n",
              "    </tr>\n",
              "    <tr>\n",
              "      <th>1429658</th>\n",
              "      <td>60fbdf7cfa</td>\n",
              "      <td>2034-08-08 00:41:34</td>\n",
              "      <td>47846.71</td>\n",
              "    </tr>\n",
              "    <tr>\n",
              "      <th>1442960</th>\n",
              "      <td>79495b0a8c</td>\n",
              "      <td>2034-12-28 15:31:56</td>\n",
              "      <td>91559.76</td>\n",
              "    </tr>\n",
              "    <tr>\n",
              "      <th>1465055</th>\n",
              "      <td>1e941a2507</td>\n",
              "      <td>2034-08-24 16:14:10</td>\n",
              "      <td>42248.28</td>\n",
              "    </tr>\n",
              "    <tr>\n",
              "      <th>1467395</th>\n",
              "      <td>b993083163</td>\n",
              "      <td>2034-10-04 01:00:02</td>\n",
              "      <td>85319.07</td>\n",
              "    </tr>\n",
              "    <tr>\n",
              "      <th>1471907</th>\n",
              "      <td>59a62facad</td>\n",
              "      <td>2034-11-07 18:36:44</td>\n",
              "      <td>28986.52</td>\n",
              "    </tr>\n",
              "  </tbody>\n",
              "</table>\n",
              "<p>69 rows × 3 columns</p>\n",
              "</div>\n",
              "      <button class=\"colab-df-convert\" onclick=\"convertToInteractive('df-3eec6ad3-4c61-41ff-aaad-f69ba408ab22')\"\n",
              "              title=\"Convert this dataframe to an interactive table.\"\n",
              "              style=\"display:none;\">\n",
              "        \n",
              "  <svg xmlns=\"http://www.w3.org/2000/svg\" height=\"24px\"viewBox=\"0 0 24 24\"\n",
              "       width=\"24px\">\n",
              "    <path d=\"M0 0h24v24H0V0z\" fill=\"none\"/>\n",
              "    <path d=\"M18.56 5.44l.94 2.06.94-2.06 2.06-.94-2.06-.94-.94-2.06-.94 2.06-2.06.94zm-11 1L8.5 8.5l.94-2.06 2.06-.94-2.06-.94L8.5 2.5l-.94 2.06-2.06.94zm10 10l.94 2.06.94-2.06 2.06-.94-2.06-.94-.94-2.06-.94 2.06-2.06.94z\"/><path d=\"M17.41 7.96l-1.37-1.37c-.4-.4-.92-.59-1.43-.59-.52 0-1.04.2-1.43.59L10.3 9.45l-7.72 7.72c-.78.78-.78 2.05 0 2.83L4 21.41c.39.39.9.59 1.41.59.51 0 1.02-.2 1.41-.59l7.78-7.78 2.81-2.81c.8-.78.8-2.07 0-2.86zM5.41 20L4 18.59l7.72-7.72 1.47 1.35L5.41 20z\"/>\n",
              "  </svg>\n",
              "      </button>\n",
              "      \n",
              "  <style>\n",
              "    .colab-df-container {\n",
              "      display:flex;\n",
              "      flex-wrap:wrap;\n",
              "      gap: 12px;\n",
              "    }\n",
              "\n",
              "    .colab-df-convert {\n",
              "      background-color: #E8F0FE;\n",
              "      border: none;\n",
              "      border-radius: 50%;\n",
              "      cursor: pointer;\n",
              "      display: none;\n",
              "      fill: #1967D2;\n",
              "      height: 32px;\n",
              "      padding: 0 0 0 0;\n",
              "      width: 32px;\n",
              "    }\n",
              "\n",
              "    .colab-df-convert:hover {\n",
              "      background-color: #E2EBFA;\n",
              "      box-shadow: 0px 1px 2px rgba(60, 64, 67, 0.3), 0px 1px 3px 1px rgba(60, 64, 67, 0.15);\n",
              "      fill: #174EA6;\n",
              "    }\n",
              "\n",
              "    [theme=dark] .colab-df-convert {\n",
              "      background-color: #3B4455;\n",
              "      fill: #D2E3FC;\n",
              "    }\n",
              "\n",
              "    [theme=dark] .colab-df-convert:hover {\n",
              "      background-color: #434B5C;\n",
              "      box-shadow: 0px 1px 3px 1px rgba(0, 0, 0, 0.15);\n",
              "      filter: drop-shadow(0px 1px 2px rgba(0, 0, 0, 0.3));\n",
              "      fill: #FFFFFF;\n",
              "    }\n",
              "  </style>\n",
              "\n",
              "      <script>\n",
              "        const buttonEl =\n",
              "          document.querySelector('#df-3eec6ad3-4c61-41ff-aaad-f69ba408ab22 button.colab-df-convert');\n",
              "        buttonEl.style.display =\n",
              "          google.colab.kernel.accessAllowed ? 'block' : 'none';\n",
              "\n",
              "        async function convertToInteractive(key) {\n",
              "          const element = document.querySelector('#df-3eec6ad3-4c61-41ff-aaad-f69ba408ab22');\n",
              "          const dataTable =\n",
              "            await google.colab.kernel.invokeFunction('convertToInteractive',\n",
              "                                                     [key], {});\n",
              "          if (!dataTable) return;\n",
              "\n",
              "          const docLinkHtml = 'Like what you see? Visit the ' +\n",
              "            '<a target=\"_blank\" href=https://colab.research.google.com/notebooks/data_table.ipynb>data table notebook</a>'\n",
              "            + ' to learn more about interactive tables.';\n",
              "          element.innerHTML = '';\n",
              "          dataTable['output_type'] = 'display_data';\n",
              "          await google.colab.output.renderOutput(dataTable, element);\n",
              "          const docLink = document.createElement('div');\n",
              "          docLink.innerHTML = docLinkHtml;\n",
              "          element.appendChild(docLink);\n",
              "        }\n",
              "      </script>\n",
              "    </div>\n",
              "  </div>\n",
              "  "
            ]
          },
          "metadata": {},
          "execution_count": 13
        }
      ]
    },
    {
      "cell_type": "code",
      "source": [
        "bin_values = np.arange(start=0, stop=25000, step=1000)\n",
        "df1['amount_usd_in_dollars'].hist(bins=bin_values, figsize=[14,6])"
      ],
      "metadata": {
        "colab": {
          "base_uri": "https://localhost:8080/",
          "height": 403
        },
        "id": "c7ZaHPOb1qMN",
        "outputId": "c073387f-7f0f-4547-c287-d57cd81df236"
      },
      "execution_count": null,
      "outputs": [
        {
          "output_type": "execute_result",
          "data": {
            "text/plain": [
              "<matplotlib.axes._subplots.AxesSubplot at 0x7f28e94c4ed0>"
            ]
          },
          "metadata": {},
          "execution_count": 14
        },
        {
          "output_type": "display_data",
          "data": {
            "text/plain": [
              "<Figure size 1008x432 with 1 Axes>"
            ],
            "image/png": "[encoded data removed]"
          },
          "metadata": {
            "needs_background": "light"
          }
        }
      ]
    },
    {
      "cell_type": "markdown",
      "source": [
        "We can see most transaction amounts are relatively small, but there are also some transactions with larger amount, so it is valuable to pay attention to different amounts when we do user segmentation later. </br>\n",
        "</br>\n",
        "Now, let's take a look at some more insights"
      ],
      "metadata": {
        "id": "628vQUmqKOPL"
      }
    },
    {
      "cell_type": "code",
      "source": [
        "#top ten active merchants \n",
        "df1.merchant.value_counts()[:10].plot(kind='bar')"
      ],
      "metadata": {
        "colab": {
          "base_uri": "https://localhost:8080/",
          "height": 336
        },
        "id": "7ycKv60T3sZF",
        "outputId": "a7f57c69-a34d-4bb2-afad-f7d9951a0ef1"
      },
      "execution_count": null,
      "outputs": [
        {
          "output_type": "execute_result",
          "data": {
            "text/plain": [
              "<matplotlib.axes._subplots.AxesSubplot at 0x7f28e8f0e5d0>"
            ]
          },
          "metadata": {},
          "execution_count": 15
        },
        {
          "output_type": "display_data",
          "data": {
            "text/plain": [
              "<Figure size 432x288 with 1 Axes>"
            ],
            "image/png": "[encoded data removed]"
          },
          "metadata": {
            "needs_background": "light"
          }
        }
      ]
    },
    {
      "cell_type": "code",
      "source": [
        "#add a new column frequency to identify active users\n",
        "df1['frequency'] = df1['merchant'].map(df1['merchant'].value_counts())"
      ],
      "metadata": {
        "id": "Esen7iIdNGX1"
      },
      "execution_count": null,
      "outputs": []
    },
    {
      "cell_type": "code",
      "source": [
        "#add new column average amount to identify high spenders\n",
        "df1['average_amount'] = df1.groupby(['merchant'])['amount_usd_in_dollars'].transform('mean')"
      ],
      "metadata": {
        "id": "gRZI5cLiP-nB"
      },
      "execution_count": null,
      "outputs": []
    },
    {
      "cell_type": "code",
      "source": [
        "df1.head()"
      ],
      "metadata": {
        "colab": {
          "base_uri": "https://localhost:8080/",
          "height": 206
        },
        "id": "ncpjGtmmQmQ7",
        "outputId": "10f46b53-ed78-401c-f840-571ce19c035e"
      },
      "execution_count": null,
      "outputs": [
        {
          "output_type": "execute_result",
          "data": {
            "text/plain": [
              "     merchant                 time  amount_usd_in_dollars  frequency  \\\n",
              "1  faa029c6b0  2034-06-17 23:34:14                  63.49        544   \n",
              "2  ed7a7d91aa  2034-12-27 00:40:38                  38.54         16   \n",
              "3  5608f200cf  2034-04-30 01:29:42                   7.89      25512   \n",
              "4  15b1a0d61e  2034-09-16 01:06:23                  44.52        521   \n",
              "5  4770051790  2034-07-22 16:21:42                 202.03        574   \n",
              "\n",
              "   average_amount  \n",
              "1      167.299926  \n",
              "2      169.585000  \n",
              "3        8.196759  \n",
              "4       57.656392  \n",
              "5      452.910767  "
            ],
            "text/html": [
              "\n",
              "  <div id=\"df-771057c8-63b5-4e3d-8d78-0e242bfce824\">\n",
              "    <div class=\"colab-df-container\">\n",
              "      <div>\n",
              "<style scoped>\n",
              "    .dataframe tbody tr th:only-of-type {\n",
              "        vertical-align: middle;\n",
              "    }\n",
              "\n",
              "    .dataframe tbody tr th {\n",
              "        vertical-align: top;\n",
              "    }\n",
              "\n",
              "    .dataframe thead th {\n",
              "        text-align: right;\n",
              "    }\n",
              "</style>\n",
              "<table border=\"1\" class=\"dataframe\">\n",
              "  <thead>\n",
              "    <tr style=\"text-align: right;\">\n",
              "      <th></th>\n",
              "      <th>merchant</th>\n",
              "      <th>time</th>\n",
              "      <th>amount_usd_in_dollars</th>\n",
              "      <th>frequency</th>\n",
              "      <th>average_amount</th>\n",
              "    </tr>\n",
              "  </thead>\n",
              "  <tbody>\n",
              "    <tr>\n",
              "      <th>1</th>\n",
              "      <td>faa029c6b0</td>\n",
              "      <td>2034-06-17 23:34:14</td>\n",
              "      <td>63.49</td>\n",
              "      <td>544</td>\n",
              "      <td>167.299926</td>\n",
              "    </tr>\n",
              "    <tr>\n",
              "      <th>2</th>\n",
              "      <td>ed7a7d91aa</td>\n",
              "      <td>2034-12-27 00:40:38</td>\n",
              "      <td>38.54</td>\n",
              "      <td>16</td>\n",
              "      <td>169.585000</td>\n",
              "    </tr>\n",
              "    <tr>\n",
              "      <th>3</th>\n",
              "      <td>5608f200cf</td>\n",
              "      <td>2034-04-30 01:29:42</td>\n",
              "      <td>7.89</td>\n",
              "      <td>25512</td>\n",
              "      <td>8.196759</td>\n",
              "    </tr>\n",
              "    <tr>\n",
              "      <th>4</th>\n",
              "      <td>15b1a0d61e</td>\n",
              "      <td>2034-09-16 01:06:23</td>\n",
              "      <td>44.52</td>\n",
              "      <td>521</td>\n",
              "      <td>57.656392</td>\n",
              "    </tr>\n",
              "    <tr>\n",
              "      <th>5</th>\n",
              "      <td>4770051790</td>\n",
              "      <td>2034-07-22 16:21:42</td>\n",
              "      <td>202.03</td>\n",
              "      <td>574</td>\n",
              "      <td>452.910767</td>\n",
              "    </tr>\n",
              "  </tbody>\n",
              "</table>\n",
              "</div>\n",
              "      <button class=\"colab-df-convert\" onclick=\"convertToInteractive('df-771057c8-63b5-4e3d-8d78-0e242bfce824')\"\n",
              "              title=\"Convert this dataframe to an interactive table.\"\n",
              "              style=\"display:none;\">\n",
              "        \n",
              "  <svg xmlns=\"http://www.w3.org/2000/svg\" height=\"24px\"viewBox=\"0 0 24 24\"\n",
              "       width=\"24px\">\n",
              "    <path d=\"M0 0h24v24H0V0z\" fill=\"none\"/>\n",
              "    <path d=\"M18.56 5.44l.94 2.06.94-2.06 2.06-.94-2.06-.94-.94-2.06-.94 2.06-2.06.94zm-11 1L8.5 8.5l.94-2.06 2.06-.94-2.06-.94L8.5 2.5l-.94 2.06-2.06.94zm10 10l.94 2.06.94-2.06 2.06-.94-2.06-.94-.94-2.06-.94 2.06-2.06.94z\"/><path d=\"M17.41 7.96l-1.37-1.37c-.4-.4-.92-.59-1.43-.59-.52 0-1.04.2-1.43.59L10.3 9.45l-7.72 7.72c-.78.78-.78 2.05 0 2.83L4 21.41c.39.39.9.59 1.41.59.51 0 1.02-.2 1.41-.59l7.78-7.78 2.81-2.81c.8-.78.8-2.07 0-2.86zM5.41 20L4 18.59l7.72-7.72 1.47 1.35L5.41 20z\"/>\n",
              "  </svg>\n",
              "      </button>\n",
              "      \n",
              "  <style>\n",
              "    .colab-df-container {\n",
              "      display:flex;\n",
              "      flex-wrap:wrap;\n",
              "      gap: 12px;\n",
              "    }\n",
              "\n",
              "    .colab-df-convert {\n",
              "      background-color: #E8F0FE;\n",
              "      border: none;\n",
              "      border-radius: 50%;\n",
              "      cursor: pointer;\n",
              "      display: none;\n",
              "      fill: #1967D2;\n",
              "      height: 32px;\n",
              "      padding: 0 0 0 0;\n",
              "      width: 32px;\n",
              "    }\n",
              "\n",
              "    .colab-df-convert:hover {\n",
              "      background-color: #E2EBFA;\n",
              "      box-shadow: 0px 1px 2px rgba(60, 64, 67, 0.3), 0px 1px 3px 1px rgba(60, 64, 67, 0.15);\n",
              "      fill: #174EA6;\n",
              "    }\n",
              "\n",
              "    [theme=dark] .colab-df-convert {\n",
              "      background-color: #3B4455;\n",
              "      fill: #D2E3FC;\n",
              "    }\n",
              "\n",
              "    [theme=dark] .colab-df-convert:hover {\n",
              "      background-color: #434B5C;\n",
              "      box-shadow: 0px 1px 3px 1px rgba(0, 0, 0, 0.15);\n",
              "      filter: drop-shadow(0px 1px 2px rgba(0, 0, 0, 0.3));\n",
              "      fill: #FFFFFF;\n",
              "    }\n",
              "  </style>\n",
              "\n",
              "      <script>\n",
              "        const buttonEl =\n",
              "          document.querySelector('#df-771057c8-63b5-4e3d-8d78-0e242bfce824 button.colab-df-convert');\n",
              "        buttonEl.style.display =\n",
              "          google.colab.kernel.accessAllowed ? 'block' : 'none';\n",
              "\n",
              "        async function convertToInteractive(key) {\n",
              "          const element = document.querySelector('#df-771057c8-63b5-4e3d-8d78-0e242bfce824');\n",
              "          const dataTable =\n",
              "            await google.colab.kernel.invokeFunction('convertToInteractive',\n",
              "                                                     [key], {});\n",
              "          if (!dataTable) return;\n",
              "\n",
              "          const docLinkHtml = 'Like what you see? Visit the ' +\n",
              "            '<a target=\"_blank\" href=https://colab.research.google.com/notebooks/data_table.ipynb>data table notebook</a>'\n",
              "            + ' to learn more about interactive tables.';\n",
              "          element.innerHTML = '';\n",
              "          dataTable['output_type'] = 'display_data';\n",
              "          await google.colab.output.renderOutput(dataTable, element);\n",
              "          const docLink = document.createElement('div');\n",
              "          docLink.innerHTML = docLinkHtml;\n",
              "          element.appendChild(docLink);\n",
              "        }\n",
              "      </script>\n",
              "    </div>\n",
              "  </div>\n",
              "  "
            ]
          },
          "metadata": {},
          "execution_count": 116
        }
      ]
    },
    {
      "cell_type": "code",
      "source": [
        "df1.groupby('merchant')['amount_usd_in_dollars'].mean().nlargest(10).plot(kind='bar')\n",
        "#notice the merchant with the largest amount transaction is at the top2\n",
        "#we have two merchants with extreme high transaction amount"
      ],
      "metadata": {
        "colab": {
          "base_uri": "https://localhost:8080/",
          "height": 350
        },
        "id": "lIHzy52US3cz",
        "outputId": "877ce8b8-35b4-4120-d4f6-cd66acdd8c1d"
      },
      "execution_count": null,
      "outputs": [
        {
          "output_type": "execute_result",
          "data": {
            "text/plain": [
              "<matplotlib.axes._subplots.AxesSubplot at 0x7f28e8e72a50>"
            ]
          },
          "metadata": {},
          "execution_count": 18
        },
        {
          "output_type": "display_data",
          "data": {
            "text/plain": [
              "<Figure size 432x288 with 1 Axes>"
            ],
            "image/png": "[encoded data removed]"
          },
          "metadata": {
            "needs_background": "light"
          }
        }
      ]
    },
    {
      "cell_type": "markdown",
      "source": [
        "It's interesting to notice that the merchants with highest spendings and the merchants with most number of transactions are not overlapping. \n"
      ],
      "metadata": {
        "id": "XlABbNmsTq9s"
      }
    },
    {
      "cell_type": "code",
      "source": [
        "# convert time from string to date \n",
        "df1['time'] = pd.to_datetime(df1['time'])\n",
        "# create columns for year and month of the time\n",
        "df1['year'] = df1['time'].dt.strftime('%Y')\n",
        "df1['month'] = df1['time'].dt.strftime('%m')"
      ],
      "metadata": {
        "id": "VAMbpTAfTO-A"
      },
      "execution_count": null,
      "outputs": []
    },
    {
      "cell_type": "code",
      "source": [
        "df1.head()"
      ],
      "metadata": {
        "colab": {
          "base_uri": "https://localhost:8080/",
          "height": 206
        },
        "id": "oUQprYgrVAOQ",
        "outputId": "5bcc5a7c-4669-4caf-e3c8-33568317ede1"
      },
      "execution_count": null,
      "outputs": [
        {
          "output_type": "execute_result",
          "data": {
            "text/plain": [
              "     merchant                time  amount_usd_in_dollars  frequency  \\\n",
              "1  faa029c6b0 2034-06-17 23:34:14                  63.49        544   \n",
              "2  ed7a7d91aa 2034-12-27 00:40:38                  38.54         16   \n",
              "3  5608f200cf 2034-04-30 01:29:42                   7.89      25512   \n",
              "4  15b1a0d61e 2034-09-16 01:06:23                  44.52        521   \n",
              "5  4770051790 2034-07-22 16:21:42                 202.03        574   \n",
              "\n",
              "   average_amount  year month  \n",
              "1      167.299926  2034    06  \n",
              "2      169.585000  2034    12  \n",
              "3        8.196759  2034    04  \n",
              "4       57.656392  2034    09  \n",
              "5      452.910767  2034    07  "
            ],
            "text/html": [
              "\n",
              "  <div id=\"df-f961d65d-1651-412c-ac7b-4ae625ba5518\">\n",
              "    <div class=\"colab-df-container\">\n",
              "      <div>\n",
              "<style scoped>\n",
              "    .dataframe tbody tr th:only-of-type {\n",
              "        vertical-align: middle;\n",
              "    }\n",
              "\n",
              "    .dataframe tbody tr th {\n",
              "        vertical-align: top;\n",
              "    }\n",
              "\n",
              "    .dataframe thead th {\n",
              "        text-align: right;\n",
              "    }\n",
              "</style>\n",
              "<table border=\"1\" class=\"dataframe\">\n",
              "  <thead>\n",
              "    <tr style=\"text-align: right;\">\n",
              "      <th></th>\n",
              "      <th>merchant</th>\n",
              "      <th>time</th>\n",
              "      <th>amount_usd_in_dollars</th>\n",
              "      <th>frequency</th>\n",
              "      <th>average_amount</th>\n",
              "      <th>year</th>\n",
              "      <th>month</th>\n",
              "    </tr>\n",
              "  </thead>\n",
              "  <tbody>\n",
              "    <tr>\n",
              "      <th>1</th>\n",
              "      <td>faa029c6b0</td>\n",
              "      <td>2034-06-17 23:34:14</td>\n",
              "      <td>63.49</td>\n",
              "      <td>544</td>\n",
              "      <td>167.299926</td>\n",
              "      <td>2034</td>\n",
              "      <td>06</td>\n",
              "    </tr>\n",
              "    <tr>\n",
              "      <th>2</th>\n",
              "      <td>ed7a7d91aa</td>\n",
              "      <td>2034-12-27 00:40:38</td>\n",
              "      <td>38.54</td>\n",
              "      <td>16</td>\n",
              "      <td>169.585000</td>\n",
              "      <td>2034</td>\n",
              "      <td>12</td>\n",
              "    </tr>\n",
              "    <tr>\n",
              "      <th>3</th>\n",
              "      <td>5608f200cf</td>\n",
              "      <td>2034-04-30 01:29:42</td>\n",
              "      <td>7.89</td>\n",
              "      <td>25512</td>\n",
              "      <td>8.196759</td>\n",
              "      <td>2034</td>\n",
              "      <td>04</td>\n",
              "    </tr>\n",
              "    <tr>\n",
              "      <th>4</th>\n",
              "      <td>15b1a0d61e</td>\n",
              "      <td>2034-09-16 01:06:23</td>\n",
              "      <td>44.52</td>\n",
              "      <td>521</td>\n",
              "      <td>57.656392</td>\n",
              "      <td>2034</td>\n",
              "      <td>09</td>\n",
              "    </tr>\n",
              "    <tr>\n",
              "      <th>5</th>\n",
              "      <td>4770051790</td>\n",
              "      <td>2034-07-22 16:21:42</td>\n",
              "      <td>202.03</td>\n",
              "      <td>574</td>\n",
              "      <td>452.910767</td>\n",
              "      <td>2034</td>\n",
              "      <td>07</td>\n",
              "    </tr>\n",
              "  </tbody>\n",
              "</table>\n",
              "</div>\n",
              "      <button class=\"colab-df-convert\" onclick=\"convertToInteractive('df-f961d65d-1651-412c-ac7b-4ae625ba5518')\"\n",
              "              title=\"Convert this dataframe to an interactive table.\"\n",
              "              style=\"display:none;\">\n",
              "        \n",
              "  <svg xmlns=\"http://www.w3.org/2000/svg\" height=\"24px\"viewBox=\"0 0 24 24\"\n",
              "       width=\"24px\">\n",
              "    <path d=\"M0 0h24v24H0V0z\" fill=\"none\"/>\n",
              "    <path d=\"M18.56 5.44l.94 2.06.94-2.06 2.06-.94-2.06-.94-.94-2.06-.94 2.06-2.06.94zm-11 1L8.5 8.5l.94-2.06 2.06-.94-2.06-.94L8.5 2.5l-.94 2.06-2.06.94zm10 10l.94 2.06.94-2.06 2.06-.94-2.06-.94-.94-2.06-.94 2.06-2.06.94z\"/><path d=\"M17.41 7.96l-1.37-1.37c-.4-.4-.92-.59-1.43-.59-.52 0-1.04.2-1.43.59L10.3 9.45l-7.72 7.72c-.78.78-.78 2.05 0 2.83L4 21.41c.39.39.9.59 1.41.59.51 0 1.02-.2 1.41-.59l7.78-7.78 2.81-2.81c.8-.78.8-2.07 0-2.86zM5.41 20L4 18.59l7.72-7.72 1.47 1.35L5.41 20z\"/>\n",
              "  </svg>\n",
              "      </button>\n",
              "      \n",
              "  <style>\n",
              "    .colab-df-container {\n",
              "      display:flex;\n",
              "      flex-wrap:wrap;\n",
              "      gap: 12px;\n",
              "    }\n",
              "\n",
              "    .colab-df-convert {\n",
              "      background-color: #E8F0FE;\n",
              "      border: none;\n",
              "      border-radius: 50%;\n",
              "      cursor: pointer;\n",
              "      display: none;\n",
              "      fill: #1967D2;\n",
              "      height: 32px;\n",
              "      padding: 0 0 0 0;\n",
              "      width: 32px;\n",
              "    }\n",
              "\n",
              "    .colab-df-convert:hover {\n",
              "      background-color: #E2EBFA;\n",
              "      box-shadow: 0px 1px 2px rgba(60, 64, 67, 0.3), 0px 1px 3px 1px rgba(60, 64, 67, 0.15);\n",
              "      fill: #174EA6;\n",
              "    }\n",
              "\n",
              "    [theme=dark] .colab-df-convert {\n",
              "      background-color: #3B4455;\n",
              "      fill: #D2E3FC;\n",
              "    }\n",
              "\n",
              "    [theme=dark] .colab-df-convert:hover {\n",
              "      background-color: #434B5C;\n",
              "      box-shadow: 0px 1px 3px 1px rgba(0, 0, 0, 0.15);\n",
              "      filter: drop-shadow(0px 1px 2px rgba(0, 0, 0, 0.3));\n",
              "      fill: #FFFFFF;\n",
              "    }\n",
              "  </style>\n",
              "\n",
              "      <script>\n",
              "        const buttonEl =\n",
              "          document.querySelector('#df-f961d65d-1651-412c-ac7b-4ae625ba5518 button.colab-df-convert');\n",
              "        buttonEl.style.display =\n",
              "          google.colab.kernel.accessAllowed ? 'block' : 'none';\n",
              "\n",
              "        async function convertToInteractive(key) {\n",
              "          const element = document.querySelector('#df-f961d65d-1651-412c-ac7b-4ae625ba5518');\n",
              "          const dataTable =\n",
              "            await google.colab.kernel.invokeFunction('convertToInteractive',\n",
              "                                                     [key], {});\n",
              "          if (!dataTable) return;\n",
              "\n",
              "          const docLinkHtml = 'Like what you see? Visit the ' +\n",
              "            '<a target=\"_blank\" href=https://colab.research.google.com/notebooks/data_table.ipynb>data table notebook</a>'\n",
              "            + ' to learn more about interactive tables.';\n",
              "          element.innerHTML = '';\n",
              "          dataTable['output_type'] = 'display_data';\n",
              "          await google.colab.output.renderOutput(dataTable, element);\n",
              "          const docLink = document.createElement('div');\n",
              "          docLink.innerHTML = docLinkHtml;\n",
              "          element.appendChild(docLink);\n",
              "        }\n",
              "      </script>\n",
              "    </div>\n",
              "  </div>\n",
              "  "
            ]
          },
          "metadata": {},
          "execution_count": 20
        }
      ]
    },
    {
      "cell_type": "code",
      "source": [
        "#number of unique merchants in our data\n",
        "df1['merchant'].nunique()"
      ],
      "metadata": {
        "colab": {
          "base_uri": "https://localhost:8080/"
        },
        "id": "TELbAhwSXqiJ",
        "outputId": "21ae7f20-bab9-4164-f53c-9df4830fe6aa"
      },
      "execution_count": null,
      "outputs": [
        {
          "output_type": "execute_result",
          "data": {
            "text/plain": [
              "14351"
            ]
          },
          "metadata": {},
          "execution_count": 21
        }
      ]
    },
    {
      "cell_type": "code",
      "source": [
        "# check those merchants who are active in both 2033 and 2034\n",
        "df2 = df1.groupby('merchant').filter(lambda x: {'2034', '2033'}.issubset(x['year']))\n",
        "df2['merchant'].nunique()\n",
        "#4464 out of 14351 merchants are active in both years"
      ],
      "metadata": {
        "colab": {
          "base_uri": "https://localhost:8080/"
        },
        "id": "2ATfWNIqVBUF",
        "outputId": "b9cf9a31-4e5a-4d9b-f580-06ac4dbb0a1b"
      },
      "execution_count": null,
      "outputs": [
        {
          "output_type": "execute_result",
          "data": {
            "text/plain": [
              "4464"
            ]
          },
          "metadata": {},
          "execution_count": 22
        }
      ]
    },
    {
      "cell_type": "code",
      "source": [
        "dfu = df1.groupby(['year']).month.value_counts().unstack()\n",
        "ax = dfu.plot(kind='bar', figsize=(7, 5), xlabel='transaction distribution in different year', ylabel='Count', rot=0)\n",
        "ax.legend(title='month', bbox_to_anchor=(1, 1), loc='upper left')\n",
        "#we have most transactions at the end of each year\n",
        "#we have much more transactions in 2034 than 2033"
      ],
      "metadata": {
        "colab": {
          "base_uri": "https://localhost:8080/",
          "height": 353
        },
        "id": "aYSiZW40azN3",
        "outputId": "431690d8-e4c2-4a42-a10f-8231fb233b84"
      },
      "execution_count": null,
      "outputs": [
        {
          "output_type": "execute_result",
          "data": {
            "text/plain": [
              "<matplotlib.legend.Legend at 0x7f28e8db2a50>"
            ]
          },
          "metadata": {},
          "execution_count": 23
        },
        {
          "output_type": "display_data",
          "data": {
            "text/plain": [
              "<Figure size 504x360 with 1 Axes>"
            ],
            "image/png": "[encoded data removed]"
          },
          "metadata": {
            "needs_background": "light"
          }
        }
      ]
    },
    {
      "cell_type": "code",
      "source": [
        "#since this is a made-up data, so we will get the most recent transaction date as our present date\n",
        "present = df1['time'].max()\n",
        "print(present)"
      ],
      "metadata": {
        "colab": {
          "base_uri": "https://localhost:8080/"
        },
        "id": "YiBmHPFIb3Ho",
        "outputId": "b47342a5-e347-4732-a703-276e482ad785"
      },
      "execution_count": null,
      "outputs": [
        {
          "output_type": "stream",
          "name": "stdout",
          "text": [
            "2034-12-31 07:59:40\n"
          ]
        }
      ]
    },
    {
      "cell_type": "markdown",
      "source": [
        "## Question 1: Identify different business (User Segmentation)"
      ],
      "metadata": {
        "id": "T9jG7r3HSdO0"
      }
    },
    {
      "cell_type": "markdown",
      "source": [
        "This question asks: \"Using only the given data, how would you identify different kinds of businesses in the sample? Please generate assignments for each merchant.\" There are many ways to tackle down this problem, the one I chose is called ***\"RMF Analysis\"*** </br>\n",
        "</br>\n",
        "\"RFM (Recency, Frequency, Monetary) analysis is a behavior-based approach grouping customers into segments. It groups the customers on the basis of their previous purchase transactions. How recently, how often, and how much did a customer buy. \" ([reference](https://academicjournals.org/article/article1380555311_Wei%20et%20al%20(1)3334.pdf))</br>\n",
        "</br>\n",
        "The main reason I use this method is not only because our data only have timestamp and money value, but also this is one of the most effective way of user segmentation, and it allows us to determine churned customer easily. </br>\n",
        "Customers with the lowest recency, highest frequency and monetary amounts considered as top customer</br>\n",
        "</br>\n",
        "\n",
        "\n"
      ],
      "metadata": {
        "id": "FP7ZNVTYS9E5"
      }
    },
    {
      "cell_type": "markdown",
      "source": [
        "> create a new dataframe with recency, frequency and monetary value of each merchant </br>\n",
        "**RECENCY:** Days since last purchase </br>\n",
        "**FREQUENCY:** Total number of purchases </br>\n",
        "**MONETARY VALUE:** Total money this customer spent </br>\n",
        "\n",
        "\n",
        "\n"
      ],
      "metadata": {
        "id": "iUhAHaOxqHhB"
      }
    },
    {
      "cell_type": "code",
      "source": [
        "#add a new column : invoiceNo to record as the index of our records\n",
        "df1['invoiceNo'] = range(1, len(df1) + 1)"
      ],
      "metadata": {
        "id": "YT5MjB0Wc55b"
      },
      "execution_count": null,
      "outputs": []
    },
    {
      "cell_type": "code",
      "source": [
        "\n",
        "df2= df1.groupby('merchant').agg({'time': lambda date: (present - date.max()).days,\n",
        "                                        'invoiceNo': lambda num: len(num),\n",
        "                                        'amount_usd_in_dollars': lambda price: price.sum()})"
      ],
      "metadata": {
        "id": "4iBtlMBtY3-O"
      },
      "execution_count": null,
      "outputs": []
    },
    {
      "cell_type": "code",
      "source": [
        "df2.columns=['recency','frequency','monetary']"
      ],
      "metadata": {
        "id": "QzOng9Q6eDwS"
      },
      "execution_count": null,
      "outputs": []
    },
    {
      "cell_type": "code",
      "source": [
        "df2.head()"
      ],
      "metadata": {
        "colab": {
          "base_uri": "https://localhost:8080/",
          "height": 237
        },
        "id": "ZimeJ6Gwdcgn",
        "outputId": "a09b47de-3293-44ac-9820-c6ca7a5597b7"
      },
      "execution_count": null,
      "outputs": [
        {
          "output_type": "execute_result",
          "data": {
            "text/plain": [
              "            recency  frequency  monetary\n",
              "merchant                                \n",
              "0002b63b92      593          1     33.79\n",
              "0002d07bba       15          4    892.78\n",
              "00057d4302      514         28    295.21\n",
              "000bcff341      508          1     78.26\n",
              "000ddbf0ca      576          1    102.99"
            ],
            "text/html": [
              "\n",
              "  <div id=\"df-fe903906-7ff6-4a2c-bcef-89b2c0aed5b1\">\n",
              "    <div class=\"colab-df-container\">\n",
              "      <div>\n",
              "<style scoped>\n",
              "    .dataframe tbody tr th:only-of-type {\n",
              "        vertical-align: middle;\n",
              "    }\n",
              "\n",
              "    .dataframe tbody tr th {\n",
              "        vertical-align: top;\n",
              "    }\n",
              "\n",
              "    .dataframe thead th {\n",
              "        text-align: right;\n",
              "    }\n",
              "</style>\n",
              "<table border=\"1\" class=\"dataframe\">\n",
              "  <thead>\n",
              "    <tr style=\"text-align: right;\">\n",
              "      <th></th>\n",
              "      <th>recency</th>\n",
              "      <th>frequency</th>\n",
              "      <th>monetary</th>\n",
              "    </tr>\n",
              "    <tr>\n",
              "      <th>merchant</th>\n",
              "      <th></th>\n",
              "      <th></th>\n",
              "      <th></th>\n",
              "    </tr>\n",
              "  </thead>\n",
              "  <tbody>\n",
              "    <tr>\n",
              "      <th>0002b63b92</th>\n",
              "      <td>593</td>\n",
              "      <td>1</td>\n",
              "      <td>33.79</td>\n",
              "    </tr>\n",
              "    <tr>\n",
              "      <th>0002d07bba</th>\n",
              "      <td>15</td>\n",
              "      <td>4</td>\n",
              "      <td>892.78</td>\n",
              "    </tr>\n",
              "    <tr>\n",
              "      <th>00057d4302</th>\n",
              "      <td>514</td>\n",
              "      <td>28</td>\n",
              "      <td>295.21</td>\n",
              "    </tr>\n",
              "    <tr>\n",
              "      <th>000bcff341</th>\n",
              "      <td>508</td>\n",
              "      <td>1</td>\n",
              "      <td>78.26</td>\n",
              "    </tr>\n",
              "    <tr>\n",
              "      <th>000ddbf0ca</th>\n",
              "      <td>576</td>\n",
              "      <td>1</td>\n",
              "      <td>102.99</td>\n",
              "    </tr>\n",
              "  </tbody>\n",
              "</table>\n",
              "</div>\n",
              "      <button class=\"colab-df-convert\" onclick=\"convertToInteractive('df-fe903906-7ff6-4a2c-bcef-89b2c0aed5b1')\"\n",
              "              title=\"Convert this dataframe to an interactive table.\"\n",
              "              style=\"display:none;\">\n",
              "        \n",
              "  <svg xmlns=\"http://www.w3.org/2000/svg\" height=\"24px\"viewBox=\"0 0 24 24\"\n",
              "       width=\"24px\">\n",
              "    <path d=\"M0 0h24v24H0V0z\" fill=\"none\"/>\n",
              "    <path d=\"M18.56 5.44l.94 2.06.94-2.06 2.06-.94-2.06-.94-.94-2.06-.94 2.06-2.06.94zm-11 1L8.5 8.5l.94-2.06 2.06-.94-2.06-.94L8.5 2.5l-.94 2.06-2.06.94zm10 10l.94 2.06.94-2.06 2.06-.94-2.06-.94-.94-2.06-.94 2.06-2.06.94z\"/><path d=\"M17.41 7.96l-1.37-1.37c-.4-.4-.92-.59-1.43-.59-.52 0-1.04.2-1.43.59L10.3 9.45l-7.72 7.72c-.78.78-.78 2.05 0 2.83L4 21.41c.39.39.9.59 1.41.59.51 0 1.02-.2 1.41-.59l7.78-7.78 2.81-2.81c.8-.78.8-2.07 0-2.86zM5.41 20L4 18.59l7.72-7.72 1.47 1.35L5.41 20z\"/>\n",
              "  </svg>\n",
              "      </button>\n",
              "      \n",
              "  <style>\n",
              "    .colab-df-container {\n",
              "      display:flex;\n",
              "      flex-wrap:wrap;\n",
              "      gap: 12px;\n",
              "    }\n",
              "\n",
              "    .colab-df-convert {\n",
              "      background-color: #E8F0FE;\n",
              "      border: none;\n",
              "      border-radius: 50%;\n",
              "      cursor: pointer;\n",
              "      display: none;\n",
              "      fill: #1967D2;\n",
              "      height: 32px;\n",
              "      padding: 0 0 0 0;\n",
              "      width: 32px;\n",
              "    }\n",
              "\n",
              "    .colab-df-convert:hover {\n",
              "      background-color: #E2EBFA;\n",
              "      box-shadow: 0px 1px 2px rgba(60, 64, 67, 0.3), 0px 1px 3px 1px rgba(60, 64, 67, 0.15);\n",
              "      fill: #174EA6;\n",
              "    }\n",
              "\n",
              "    [theme=dark] .colab-df-convert {\n",
              "      background-color: #3B4455;\n",
              "      fill: #D2E3FC;\n",
              "    }\n",
              "\n",
              "    [theme=dark] .colab-df-convert:hover {\n",
              "      background-color: #434B5C;\n",
              "      box-shadow: 0px 1px 3px 1px rgba(0, 0, 0, 0.15);\n",
              "      filter: drop-shadow(0px 1px 2px rgba(0, 0, 0, 0.3));\n",
              "      fill: #FFFFFF;\n",
              "    }\n",
              "  </style>\n",
              "\n",
              "      <script>\n",
              "        const buttonEl =\n",
              "          document.querySelector('#df-fe903906-7ff6-4a2c-bcef-89b2c0aed5b1 button.colab-df-convert');\n",
              "        buttonEl.style.display =\n",
              "          google.colab.kernel.accessAllowed ? 'block' : 'none';\n",
              "\n",
              "        async function convertToInteractive(key) {\n",
              "          const element = document.querySelector('#df-fe903906-7ff6-4a2c-bcef-89b2c0aed5b1');\n",
              "          const dataTable =\n",
              "            await google.colab.kernel.invokeFunction('convertToInteractive',\n",
              "                                                     [key], {});\n",
              "          if (!dataTable) return;\n",
              "\n",
              "          const docLinkHtml = 'Like what you see? Visit the ' +\n",
              "            '<a target=\"_blank\" href=https://colab.research.google.com/notebooks/data_table.ipynb>data table notebook</a>'\n",
              "            + ' to learn more about interactive tables.';\n",
              "          element.innerHTML = '';\n",
              "          dataTable['output_type'] = 'display_data';\n",
              "          await google.colab.output.renderOutput(dataTable, element);\n",
              "          const docLink = document.createElement('div');\n",
              "          docLink.innerHTML = docLinkHtml;\n",
              "          element.appendChild(docLink);\n",
              "        }\n",
              "      </script>\n",
              "    </div>\n",
              "  </div>\n",
              "  "
            ]
          },
          "metadata": {},
          "execution_count": 233
        }
      ]
    },
    {
      "cell_type": "code",
      "source": [
        "df2.describe()"
      ],
      "metadata": {
        "colab": {
          "base_uri": "https://localhost:8080/",
          "height": 300
        },
        "id": "bl-DV-lA3Qlo",
        "outputId": "8c061a35-d940-4b7c-91fd-9e23f97aa477"
      },
      "execution_count": null,
      "outputs": [
        {
          "output_type": "execute_result",
          "data": {
            "text/plain": [
              "            recency     frequency      monetary\n",
              "count  14351.000000  14351.000000  1.435100e+04\n",
              "mean     136.266532    105.478294  1.633296e+04\n",
              "std      174.497343    527.717966  6.431726e+04\n",
              "min        0.000000      1.000000  2.010000e+00\n",
              "25%        9.000000      3.000000  3.626300e+02\n",
              "50%       51.000000     11.000000  1.602620e+03\n",
              "75%      212.000000     45.000000  8.230995e+03\n",
              "max      728.000000  25512.000000  2.369072e+06"
            ],
            "text/html": [
              "\n",
              "  <div id=\"df-64712a01-520f-4fb4-9e61-50b004b50f0f\">\n",
              "    <div class=\"colab-df-container\">\n",
              "      <div>\n",
              "<style scoped>\n",
              "    .dataframe tbody tr th:only-of-type {\n",
              "        vertical-align: middle;\n",
              "    }\n",
              "\n",
              "    .dataframe tbody tr th {\n",
              "        vertical-align: top;\n",
              "    }\n",
              "\n",
              "    .dataframe thead th {\n",
              "        text-align: right;\n",
              "    }\n",
              "</style>\n",
              "<table border=\"1\" class=\"dataframe\">\n",
              "  <thead>\n",
              "    <tr style=\"text-align: right;\">\n",
              "      <th></th>\n",
              "      <th>recency</th>\n",
              "      <th>frequency</th>\n",
              "      <th>monetary</th>\n",
              "    </tr>\n",
              "  </thead>\n",
              "  <tbody>\n",
              "    <tr>\n",
              "      <th>count</th>\n",
              "      <td>14351.000000</td>\n",
              "      <td>14351.000000</td>\n",
              "      <td>1.435100e+04</td>\n",
              "    </tr>\n",
              "    <tr>\n",
              "      <th>mean</th>\n",
              "      <td>136.266532</td>\n",
              "      <td>105.478294</td>\n",
              "      <td>1.633296e+04</td>\n",
              "    </tr>\n",
              "    <tr>\n",
              "      <th>std</th>\n",
              "      <td>174.497343</td>\n",
              "      <td>527.717966</td>\n",
              "      <td>6.431726e+04</td>\n",
              "    </tr>\n",
              "    <tr>\n",
              "      <th>min</th>\n",
              "      <td>0.000000</td>\n",
              "      <td>1.000000</td>\n",
              "      <td>2.010000e+00</td>\n",
              "    </tr>\n",
              "    <tr>\n",
              "      <th>25%</th>\n",
              "      <td>9.000000</td>\n",
              "      <td>3.000000</td>\n",
              "      <td>3.626300e+02</td>\n",
              "    </tr>\n",
              "    <tr>\n",
              "      <th>50%</th>\n",
              "      <td>51.000000</td>\n",
              "      <td>11.000000</td>\n",
              "      <td>1.602620e+03</td>\n",
              "    </tr>\n",
              "    <tr>\n",
              "      <th>75%</th>\n",
              "      <td>212.000000</td>\n",
              "      <td>45.000000</td>\n",
              "      <td>8.230995e+03</td>\n",
              "    </tr>\n",
              "    <tr>\n",
              "      <th>max</th>\n",
              "      <td>728.000000</td>\n",
              "      <td>25512.000000</td>\n",
              "      <td>2.369072e+06</td>\n",
              "    </tr>\n",
              "  </tbody>\n",
              "</table>\n",
              "</div>\n",
              "      <button class=\"colab-df-convert\" onclick=\"convertToInteractive('df-64712a01-520f-4fb4-9e61-50b004b50f0f')\"\n",
              "              title=\"Convert this dataframe to an interactive table.\"\n",
              "              style=\"display:none;\">\n",
              "        \n",
              "  <svg xmlns=\"http://www.w3.org/2000/svg\" height=\"24px\"viewBox=\"0 0 24 24\"\n",
              "       width=\"24px\">\n",
              "    <path d=\"M0 0h24v24H0V0z\" fill=\"none\"/>\n",
              "    <path d=\"M18.56 5.44l.94 2.06.94-2.06 2.06-.94-2.06-.94-.94-2.06-.94 2.06-2.06.94zm-11 1L8.5 8.5l.94-2.06 2.06-.94-2.06-.94L8.5 2.5l-.94 2.06-2.06.94zm10 10l.94 2.06.94-2.06 2.06-.94-2.06-.94-.94-2.06-.94 2.06-2.06.94z\"/><path d=\"M17.41 7.96l-1.37-1.37c-.4-.4-.92-.59-1.43-.59-.52 0-1.04.2-1.43.59L10.3 9.45l-7.72 7.72c-.78.78-.78 2.05 0 2.83L4 21.41c.39.39.9.59 1.41.59.51 0 1.02-.2 1.41-.59l7.78-7.78 2.81-2.81c.8-.78.8-2.07 0-2.86zM5.41 20L4 18.59l7.72-7.72 1.47 1.35L5.41 20z\"/>\n",
              "  </svg>\n",
              "      </button>\n",
              "      \n",
              "  <style>\n",
              "    .colab-df-container {\n",
              "      display:flex;\n",
              "      flex-wrap:wrap;\n",
              "      gap: 12px;\n",
              "    }\n",
              "\n",
              "    .colab-df-convert {\n",
              "      background-color: #E8F0FE;\n",
              "      border: none;\n",
              "      border-radius: 50%;\n",
              "      cursor: pointer;\n",
              "      display: none;\n",
              "      fill: #1967D2;\n",
              "      height: 32px;\n",
              "      padding: 0 0 0 0;\n",
              "      width: 32px;\n",
              "    }\n",
              "\n",
              "    .colab-df-convert:hover {\n",
              "      background-color: #E2EBFA;\n",
              "      box-shadow: 0px 1px 2px rgba(60, 64, 67, 0.3), 0px 1px 3px 1px rgba(60, 64, 67, 0.15);\n",
              "      fill: #174EA6;\n",
              "    }\n",
              "\n",
              "    [theme=dark] .colab-df-convert {\n",
              "      background-color: #3B4455;\n",
              "      fill: #D2E3FC;\n",
              "    }\n",
              "\n",
              "    [theme=dark] .colab-df-convert:hover {\n",
              "      background-color: #434B5C;\n",
              "      box-shadow: 0px 1px 3px 1px rgba(0, 0, 0, 0.15);\n",
              "      filter: drop-shadow(0px 1px 2px rgba(0, 0, 0, 0.3));\n",
              "      fill: #FFFFFF;\n",
              "    }\n",
              "  </style>\n",
              "\n",
              "      <script>\n",
              "        const buttonEl =\n",
              "          document.querySelector('#df-64712a01-520f-4fb4-9e61-50b004b50f0f button.colab-df-convert');\n",
              "        buttonEl.style.display =\n",
              "          google.colab.kernel.accessAllowed ? 'block' : 'none';\n",
              "\n",
              "        async function convertToInteractive(key) {\n",
              "          const element = document.querySelector('#df-64712a01-520f-4fb4-9e61-50b004b50f0f');\n",
              "          const dataTable =\n",
              "            await google.colab.kernel.invokeFunction('convertToInteractive',\n",
              "                                                     [key], {});\n",
              "          if (!dataTable) return;\n",
              "\n",
              "          const docLinkHtml = 'Like what you see? Visit the ' +\n",
              "            '<a target=\"_blank\" href=https://colab.research.google.com/notebooks/data_table.ipynb>data table notebook</a>'\n",
              "            + ' to learn more about interactive tables.';\n",
              "          element.innerHTML = '';\n",
              "          dataTable['output_type'] = 'display_data';\n",
              "          await google.colab.output.renderOutput(dataTable, element);\n",
              "          const docLink = document.createElement('div');\n",
              "          docLink.innerHTML = docLinkHtml;\n",
              "          element.appendChild(docLink);\n",
              "        }\n",
              "      </script>\n",
              "    </div>\n",
              "  </div>\n",
              "  "
            ]
          },
          "metadata": {},
          "execution_count": 234
        }
      ]
    },
    {
      "cell_type": "markdown",
      "source": [
        "### Split metrics"
      ],
      "metadata": {
        "id": "9JGyrtCbWVoX"
      }
    },
    {
      "cell_type": "markdown",
      "source": [
        "There are 8 general segments for RMF based on quartiles on Recency, Monetary and Frequency </br>\n",
        "\n",
        "> *There are more segments, but we care the most of these*\n",
        "\n",
        "\n",
        "\n",
        "\n",
        "\n",
        "*   Best Customers(RMF 111): Bought most recently, and most often, spend the most\n",
        "*   Loyal Customers(RMF X1X): Buy most frequently and recently\n",
        "*   Big Spenders(RMF XX1): Spend the most\n",
        "*   Active Customers(RMF 1XX): Spend most recently\n",
        "*   Almost Lost (RMF 3XX): Haven't purchased for a period of time\n",
        "*   Lost Customers(RMF 4XX): Haven't purchsed for long time\n",
        "*   Faithful Customers(RMF X13,X14): return often, but not spend a lot\n",
        "*   Other active Customers\n",
        "\n",
        "\n",
        "\n"
      ],
      "metadata": {
        "id": "lWlB-FKvWe-Y"
      }
    },
    {
      "cell_type": "code",
      "source": [
        "quantiles = df2.quantile(q=[0.25,0.5,0.75])\n",
        "quantiles = quantiles.to_dict()"
      ],
      "metadata": {
        "id": "h6-r7MDVWdRf"
      },
      "execution_count": null,
      "outputs": []
    },
    {
      "cell_type": "code",
      "source": [
        "#create a segmented RMF table\n",
        "def RScore(x,p,d):\n",
        "    if x <= d[p][0.25]:\n",
        "        return 1\n",
        "    elif x <= d[p][0.50]:\n",
        "        return 2\n",
        "    elif x <= d[p][0.75]: \n",
        "        return 3\n",
        "    else:\n",
        "        return 4\n",
        "    \n",
        "def FMScore(x,p,d):\n",
        "    if x <= d[p][0.25]:\n",
        "        return 4\n",
        "    elif x <= d[p][0.50]:\n",
        "        return 3\n",
        "    elif x <= d[p][0.75]: \n",
        "        return 2\n",
        "    else:\n",
        "        return 1\n",
        "\n",
        "segmented_rfm = df2 \n",
        "segmented_rfm['r_quartile'] = segmented_rfm['recency'].apply(RScore, args=('recency',quantiles,))\n",
        "segmented_rfm['f_quartile'] = segmented_rfm['frequency'].apply(FMScore, args=('frequency',quantiles,))\n",
        "segmented_rfm['m_quartile'] = segmented_rfm['monetary'].apply(FMScore, args=('monetary',quantiles,))\n",
        "#create RMF score based on quartile for recency, frequency and monetary\n",
        "segmented_rfm['RFMScore'] = segmented_rfm.r_quartile.map(str) + segmented_rfm.f_quartile.map(str) + segmented_rfm.m_quartile.map(str)\n",
        "segmented_rfm.head()"
      ],
      "metadata": {
        "colab": {
          "base_uri": "https://localhost:8080/",
          "height": 237
        },
        "id": "-5zo0PXoZuMR",
        "outputId": "ee4d9478-070e-40e4-8fc5-78b43a6919b2"
      },
      "execution_count": null,
      "outputs": [
        {
          "output_type": "execute_result",
          "data": {
            "text/plain": [
              "            recency  frequency  monetary  r_quartile  f_quartile  m_quartile  \\\n",
              "merchant                                                                       \n",
              "0002b63b92      593          1     33.79           4           4           4   \n",
              "0002d07bba       15          4    892.78           2           3           3   \n",
              "00057d4302      514         28    295.21           4           2           4   \n",
              "000bcff341      508          1     78.26           4           4           4   \n",
              "000ddbf0ca      576          1    102.99           4           4           4   \n",
              "\n",
              "           RFMScore  \n",
              "merchant             \n",
              "0002b63b92      444  \n",
              "0002d07bba      233  \n",
              "00057d4302      424  \n",
              "000bcff341      444  \n",
              "000ddbf0ca      444  "
            ],
            "text/html": [
              "\n",
              "  <div id=\"df-d7e7da36-f68c-4949-a480-74b902982dcb\">\n",
              "    <div class=\"colab-df-container\">\n",
              "      <div>\n",
              "<style scoped>\n",
              "    .dataframe tbody tr th:only-of-type {\n",
              "        vertical-align: middle;\n",
              "    }\n",
              "\n",
              "    .dataframe tbody tr th {\n",
              "        vertical-align: top;\n",
              "    }\n",
              "\n",
              "    .dataframe thead th {\n",
              "        text-align: right;\n",
              "    }\n",
              "</style>\n",
              "<table border=\"1\" class=\"dataframe\">\n",
              "  <thead>\n",
              "    <tr style=\"text-align: right;\">\n",
              "      <th></th>\n",
              "      <th>recency</th>\n",
              "      <th>frequency</th>\n",
              "      <th>monetary</th>\n",
              "      <th>r_quartile</th>\n",
              "      <th>f_quartile</th>\n",
              "      <th>m_quartile</th>\n",
              "      <th>RFMScore</th>\n",
              "    </tr>\n",
              "    <tr>\n",
              "      <th>merchant</th>\n",
              "      <th></th>\n",
              "      <th></th>\n",
              "      <th></th>\n",
              "      <th></th>\n",
              "      <th></th>\n",
              "      <th></th>\n",
              "      <th></th>\n",
              "    </tr>\n",
              "  </thead>\n",
              "  <tbody>\n",
              "    <tr>\n",
              "      <th>0002b63b92</th>\n",
              "      <td>593</td>\n",
              "      <td>1</td>\n",
              "      <td>33.79</td>\n",
              "      <td>4</td>\n",
              "      <td>4</td>\n",
              "      <td>4</td>\n",
              "      <td>444</td>\n",
              "    </tr>\n",
              "    <tr>\n",
              "      <th>0002d07bba</th>\n",
              "      <td>15</td>\n",
              "      <td>4</td>\n",
              "      <td>892.78</td>\n",
              "      <td>2</td>\n",
              "      <td>3</td>\n",
              "      <td>3</td>\n",
              "      <td>233</td>\n",
              "    </tr>\n",
              "    <tr>\n",
              "      <th>00057d4302</th>\n",
              "      <td>514</td>\n",
              "      <td>28</td>\n",
              "      <td>295.21</td>\n",
              "      <td>4</td>\n",
              "      <td>2</td>\n",
              "      <td>4</td>\n",
              "      <td>424</td>\n",
              "    </tr>\n",
              "    <tr>\n",
              "      <th>000bcff341</th>\n",
              "      <td>508</td>\n",
              "      <td>1</td>\n",
              "      <td>78.26</td>\n",
              "      <td>4</td>\n",
              "      <td>4</td>\n",
              "      <td>4</td>\n",
              "      <td>444</td>\n",
              "    </tr>\n",
              "    <tr>\n",
              "      <th>000ddbf0ca</th>\n",
              "      <td>576</td>\n",
              "      <td>1</td>\n",
              "      <td>102.99</td>\n",
              "      <td>4</td>\n",
              "      <td>4</td>\n",
              "      <td>4</td>\n",
              "      <td>444</td>\n",
              "    </tr>\n",
              "  </tbody>\n",
              "</table>\n",
              "</div>\n",
              "      <button class=\"colab-df-convert\" onclick=\"convertToInteractive('df-d7e7da36-f68c-4949-a480-74b902982dcb')\"\n",
              "              title=\"Convert this dataframe to an interactive table.\"\n",
              "              style=\"display:none;\">\n",
              "        \n",
              "  <svg xmlns=\"http://www.w3.org/2000/svg\" height=\"24px\"viewBox=\"0 0 24 24\"\n",
              "       width=\"24px\">\n",
              "    <path d=\"M0 0h24v24H0V0z\" fill=\"none\"/>\n",
              "    <path d=\"M18.56 5.44l.94 2.06.94-2.06 2.06-.94-2.06-.94-.94-2.06-.94 2.06-2.06.94zm-11 1L8.5 8.5l.94-2.06 2.06-.94-2.06-.94L8.5 2.5l-.94 2.06-2.06.94zm10 10l.94 2.06.94-2.06 2.06-.94-2.06-.94-.94-2.06-.94 2.06-2.06.94z\"/><path d=\"M17.41 7.96l-1.37-1.37c-.4-.4-.92-.59-1.43-.59-.52 0-1.04.2-1.43.59L10.3 9.45l-7.72 7.72c-.78.78-.78 2.05 0 2.83L4 21.41c.39.39.9.59 1.41.59.51 0 1.02-.2 1.41-.59l7.78-7.78 2.81-2.81c.8-.78.8-2.07 0-2.86zM5.41 20L4 18.59l7.72-7.72 1.47 1.35L5.41 20z\"/>\n",
              "  </svg>\n",
              "      </button>\n",
              "      \n",
              "  <style>\n",
              "    .colab-df-container {\n",
              "      display:flex;\n",
              "      flex-wrap:wrap;\n",
              "      gap: 12px;\n",
              "    }\n",
              "\n",
              "    .colab-df-convert {\n",
              "      background-color: #E8F0FE;\n",
              "      border: none;\n",
              "      border-radius: 50%;\n",
              "      cursor: pointer;\n",
              "      display: none;\n",
              "      fill: #1967D2;\n",
              "      height: 32px;\n",
              "      padding: 0 0 0 0;\n",
              "      width: 32px;\n",
              "    }\n",
              "\n",
              "    .colab-df-convert:hover {\n",
              "      background-color: #E2EBFA;\n",
              "      box-shadow: 0px 1px 2px rgba(60, 64, 67, 0.3), 0px 1px 3px 1px rgba(60, 64, 67, 0.15);\n",
              "      fill: #174EA6;\n",
              "    }\n",
              "\n",
              "    [theme=dark] .colab-df-convert {\n",
              "      background-color: #3B4455;\n",
              "      fill: #D2E3FC;\n",
              "    }\n",
              "\n",
              "    [theme=dark] .colab-df-convert:hover {\n",
              "      background-color: #434B5C;\n",
              "      box-shadow: 0px 1px 3px 1px rgba(0, 0, 0, 0.15);\n",
              "      filter: drop-shadow(0px 1px 2px rgba(0, 0, 0, 0.3));\n",
              "      fill: #FFFFFF;\n",
              "    }\n",
              "  </style>\n",
              "\n",
              "      <script>\n",
              "        const buttonEl =\n",
              "          document.querySelector('#df-d7e7da36-f68c-4949-a480-74b902982dcb button.colab-df-convert');\n",
              "        buttonEl.style.display =\n",
              "          google.colab.kernel.accessAllowed ? 'block' : 'none';\n",
              "\n",
              "        async function convertToInteractive(key) {\n",
              "          const element = document.querySelector('#df-d7e7da36-f68c-4949-a480-74b902982dcb');\n",
              "          const dataTable =\n",
              "            await google.colab.kernel.invokeFunction('convertToInteractive',\n",
              "                                                     [key], {});\n",
              "          if (!dataTable) return;\n",
              "\n",
              "          const docLinkHtml = 'Like what you see? Visit the ' +\n",
              "            '<a target=\"_blank\" href=https://colab.research.google.com/notebooks/data_table.ipynb>data table notebook</a>'\n",
              "            + ' to learn more about interactive tables.';\n",
              "          element.innerHTML = '';\n",
              "          dataTable['output_type'] = 'display_data';\n",
              "          await google.colab.output.renderOutput(dataTable, element);\n",
              "          const docLink = document.createElement('div');\n",
              "          docLink.innerHTML = docLinkHtml;\n",
              "          element.appendChild(docLink);\n",
              "        }\n",
              "      </script>\n",
              "    </div>\n",
              "  </div>\n",
              "  "
            ]
          },
          "metadata": {},
          "execution_count": 236
        }
      ]
    },
    {
      "cell_type": "code",
      "source": [
        "segmented_rfm.info()"
      ],
      "metadata": {
        "colab": {
          "base_uri": "https://localhost:8080/"
        },
        "id": "u0dptfIera9z",
        "outputId": "73db8ae5-b9e5-4412-cc40-9cfd4f21c2ee"
      },
      "execution_count": null,
      "outputs": [
        {
          "output_type": "stream",
          "name": "stdout",
          "text": [
            "<class 'pandas.core.frame.DataFrame'>\n",
            "Index: 14351 entries, 0002b63b92 to fff1754102\n",
            "Data columns (total 7 columns):\n",
            " #   Column      Non-Null Count  Dtype  \n",
            "---  ------      --------------  -----  \n",
            " 0   recency     14351 non-null  int64  \n",
            " 1   frequency   14351 non-null  int64  \n",
            " 2   monetary    14351 non-null  float64\n",
            " 3   r_quartile  14351 non-null  int64  \n",
            " 4   f_quartile  14351 non-null  int64  \n",
            " 5   m_quartile  14351 non-null  int64  \n",
            " 6   RFMScore    14351 non-null  object \n",
            "dtypes: float64(1), int64(5), object(1)\n",
            "memory usage: 896.9+ KB\n"
          ]
        }
      ]
    },
    {
      "cell_type": "code",
      "source": [
        "def segment(row):\n",
        "  if row['RFMScore']=='111':\n",
        "    return 'Best Customer'\n",
        "  elif row['f_quartile']==1 & row['m_quartile']>=3:\n",
        "    return 'Faithful Customer'\n",
        "  elif row['f_quartile']==1:\n",
        "    return 'Loyal Customer'\n",
        "  elif row['r_quartile']==1:\n",
        "    return 'Active Customer'\n",
        "  elif row['m_quartile']==1:\n",
        "    return 'Big Spender'\n",
        "  elif row['r_quartile']==3:\n",
        "    return 'Almost Lost'\n",
        "  elif row['r_quartile']==4:\n",
        "    return 'Lost Customer'\n",
        "  else:\n",
        "    return 'Other Active Customer'"
      ],
      "metadata": {
        "id": "FASdXnI7auZt"
      },
      "execution_count": null,
      "outputs": []
    },
    {
      "cell_type": "code",
      "source": [
        "segmented_rfm['segments'] = segmented_rfm.apply(segment, axis=1)"
      ],
      "metadata": {
        "id": "AE9pQhzCqUtC"
      },
      "execution_count": null,
      "outputs": []
    },
    {
      "cell_type": "code",
      "source": [
        "\n",
        "segmented_rfm.segments.value_counts().plot(kind='bar')\n",
        "print(segmented_rfm['segments'].value_counts()) "
      ],
      "metadata": {
        "colab": {
          "base_uri": "https://localhost:8080/",
          "height": 512
        },
        "id": "4TE9-q7ItPtE",
        "outputId": "a0cf4fbd-cc25-40ff-db23-d652e87f0875"
      },
      "execution_count": null,
      "outputs": [
        {
          "output_type": "stream",
          "name": "stdout",
          "text": [
            "Lost Customer            3075\n",
            "Almost Lost              2908\n",
            "Other Active Customer    2457\n",
            "Loyal Customer           1858\n",
            "Best Customer            1683\n",
            "Active Customer          1609\n",
            "Big Spender               761\n",
            "Name: segments, dtype: int64\n"
          ]
        },
        {
          "output_type": "display_data",
          "data": {
            "text/plain": [
              "<Figure size 432x288 with 1 Axes>"
            ],
            "image/png": "[encoded data removed]"
          },
          "metadata": {
            "needs_background": "light"
          }
        }
      ]
    },
    {
      "cell_type": "code",
      "source": [
        "#put segments back to original data to get more insights\n",
        "segmented_rfm.reset_index(inplace=True)\n",
        "df3 = pd.merge(df1, segmented_rfm, on=\"merchant\")"
      ],
      "metadata": {
        "id": "5QYkjskouDlF"
      },
      "execution_count": null,
      "outputs": []
    },
    {
      "cell_type": "code",
      "source": [
        "# to avoid overcounting merchants\n",
        "df3_=df3.drop_duplicates(subset=['merchant'])"
      ],
      "metadata": {
        "id": "8uSGixe1lGOi"
      },
      "execution_count": null,
      "outputs": []
    },
    {
      "cell_type": "code",
      "source": [
        "plt = df3_.groupby(['year']).segments.value_counts().unstack()\n",
        "ax = plt.plot(kind='bar', figsize=(7, 5), xlabel='segments distribution in different year', ylabel='Count', rot=0)\n",
        "ax.legend(title='customer segments', bbox_to_anchor=(1, 1), loc='upper left')"
      ],
      "metadata": {
        "colab": {
          "base_uri": "https://localhost:8080/",
          "height": 352
        },
        "id": "ZjgRhiSEu_oH",
        "outputId": "0dcc4fcd-7f7c-49b9-abc6-17a20cece283"
      },
      "execution_count": null,
      "outputs": [
        {
          "output_type": "execute_result",
          "data": {
            "text/plain": [
              "<matplotlib.legend.Legend at 0x7f28dce842d0>"
            ]
          },
          "metadata": {},
          "execution_count": 243
        },
        {
          "output_type": "display_data",
          "data": {
            "text/plain": [
              "<Figure size 504x360 with 1 Axes>"
            ],
            "image/png": "[encoded data removed]"
          },
          "metadata": {
            "needs_background": "light"
          }
        }
      ]
    },
    {
      "cell_type": "markdown",
      "source": [
        "> We can tell for both years, there are lots of Lost customers in 2033, and the percentage reduced a lot in 2034"
      ],
      "metadata": {
        "id": "LmaEZ6Y5voJH"
      }
    },
    {
      "cell_type": "code",
      "source": [
        "plt = df3_.groupby(['segments']).month.value_counts().unstack()\n",
        "ax = plt.plot(kind='bar', figsize=(15, 12), xlabel='segments distribution in different month', ylabel='Count', rot=0)\n",
        "ax.legend(title='month', bbox_to_anchor=(1, 1), loc='upper left')"
      ],
      "metadata": {
        "colab": {
          "base_uri": "https://localhost:8080/",
          "height": 732
        },
        "id": "KEbnKp8Xvz32",
        "outputId": "10c3698f-273a-4b92-c1e2-317a5919fb27"
      },
      "execution_count": null,
      "outputs": [
        {
          "output_type": "execute_result",
          "data": {
            "text/plain": [
              "<matplotlib.legend.Legend at 0x7f28d7151b50>"
            ]
          },
          "metadata": {},
          "execution_count": 244
        },
        {
          "output_type": "display_data",
          "data": {
            "text/plain": [
              "<Figure size 1080x864 with 1 Axes>"
            ],
            "image/png": "[encoded data removed]"
          },
          "metadata": {
            "needs_background": "light"
          }
        }
      ]
    },
    {
      "cell_type": "markdown",
      "source": [
        "> Insights: </br>\n",
        "\n",
        "\n",
        "*   There are the highest number of best customers and active customers in December.\n",
        "*   Customers' loyalty increases along the year\n",
        "*   Customers become more active along the year\n",
        "*   Customers spend similarly in each month\n",
        "*   We normally lose customers during March and May\n",
        "\n",
        "\n",
        "</br>\n"
      ],
      "metadata": {
        "id": "vMnt8fKYwGfo"
      }
    },
    {
      "cell_type": "markdown",
      "source": [
        "## Question 2 : Customer Churn Analysis"
      ],
      "metadata": {
        "id": "zXc6O8w4qRgC"
      }
    },
    {
      "cell_type": "markdown",
      "source": [
        "This part solve the problems: </br>\n",
        "\n",
        "\n",
        "> 1. Identify merchants that have already churned in the dataset\n",
        "2. Build a model to predict which active merchants are most likely to churn in the near future\n",
        "\n",
        "**We define churn as :** </br>\n",
        "When an existing customer, user, subscriber, or any kind of return client stops doing business or ends the relationship with the company over a defined period of time, and usually measured per month</br>\n",
        "</br>\n",
        "By analyzing customer churn, we can find a potential way to reduce our customer churn rate, in return as increasing number of active users. </br>\n",
        "The following part will discuss how we can identify a churned customer and a potential churn customer. Then there are many ways the team can do to possibly get the customer back, one of the most potential way is to send emails with coupon or benefits to the customers to help them stay.\n"
      ],
      "metadata": {
        "id": "bDMKmvELqt7q"
      }
    },
    {
      "cell_type": "markdown",
      "source": [
        "### Part 1: Identify Churned Merchant"
      ],
      "metadata": {
        "id": "Po9YFFZsu-8S"
      }
    },
    {
      "cell_type": "markdown",
      "source": [
        "\n",
        "\n",
        "> in the previous parts, we have created dataset with recency, which describes how many days has past since the last day the merchant is active </br>\n",
        "\n",
        "\n",
        "K-means clustering is used to cluster the merchants into churned and non churned groups. </br>\n",
        "\n",
        "The K-Means is an unsupervised learning algorithm and one of the simplest algorithm used for clustering tasks.</br>\n",
        "The values which are within a cluster are very similar to each other but, the values across different clusters vary enormously.</br>\n",
        " K-Means clustering works really well with medium and large-sized data.\n",
        "\n"
      ],
      "metadata": {
        "id": "tmjEjT9-xb_t"
      }
    },
    {
      "cell_type": "code",
      "source": [
        "df2.head()"
      ],
      "metadata": {
        "colab": {
          "base_uri": "https://localhost:8080/",
          "height": 206
        },
        "id": "9Z0h7iDeyIEV",
        "outputId": "4010c856-eaa7-442f-a859-31e7c7210dde"
      },
      "execution_count": null,
      "outputs": [
        {
          "output_type": "execute_result",
          "data": {
            "text/plain": [
              "     merchant  recency  frequency  monetary  r_quartile  f_quartile  \\\n",
              "0  0002b63b92      593          1     33.79           4           4   \n",
              "1  0002d07bba       15          4    892.78           2           3   \n",
              "2  00057d4302      514         28    295.21           4           2   \n",
              "3  000bcff341      508          1     78.26           4           4   \n",
              "4  000ddbf0ca      576          1    102.99           4           4   \n",
              "\n",
              "   m_quartile RFMScore               segments  \n",
              "0           4      444          Lost Customer  \n",
              "1           3      233  Other Active Customer  \n",
              "2           4      424          Lost Customer  \n",
              "3           4      444          Lost Customer  \n",
              "4           4      444          Lost Customer  "
            ],
            "text/html": [
              "\n",
              "  <div id=\"df-8422bc35-5721-41db-87fa-320cb530ca51\">\n",
              "    <div class=\"colab-df-container\">\n",
              "      <div>\n",
              "<style scoped>\n",
              "    .dataframe tbody tr th:only-of-type {\n",
              "        vertical-align: middle;\n",
              "    }\n",
              "\n",
              "    .dataframe tbody tr th {\n",
              "        vertical-align: top;\n",
              "    }\n",
              "\n",
              "    .dataframe thead th {\n",
              "        text-align: right;\n",
              "    }\n",
              "</style>\n",
              "<table border=\"1\" class=\"dataframe\">\n",
              "  <thead>\n",
              "    <tr style=\"text-align: right;\">\n",
              "      <th></th>\n",
              "      <th>merchant</th>\n",
              "      <th>recency</th>\n",
              "      <th>frequency</th>\n",
              "      <th>monetary</th>\n",
              "      <th>r_quartile</th>\n",
              "      <th>f_quartile</th>\n",
              "      <th>m_quartile</th>\n",
              "      <th>RFMScore</th>\n",
              "      <th>segments</th>\n",
              "    </tr>\n",
              "  </thead>\n",
              "  <tbody>\n",
              "    <tr>\n",
              "      <th>0</th>\n",
              "      <td>0002b63b92</td>\n",
              "      <td>593</td>\n",
              "      <td>1</td>\n",
              "      <td>33.79</td>\n",
              "      <td>4</td>\n",
              "      <td>4</td>\n",
              "      <td>4</td>\n",
              "      <td>444</td>\n",
              "      <td>Lost Customer</td>\n",
              "    </tr>\n",
              "    <tr>\n",
              "      <th>1</th>\n",
              "      <td>0002d07bba</td>\n",
              "      <td>15</td>\n",
              "      <td>4</td>\n",
              "      <td>892.78</td>\n",
              "      <td>2</td>\n",
              "      <td>3</td>\n",
              "      <td>3</td>\n",
              "      <td>233</td>\n",
              "      <td>Other Active Customer</td>\n",
              "    </tr>\n",
              "    <tr>\n",
              "      <th>2</th>\n",
              "      <td>00057d4302</td>\n",
              "      <td>514</td>\n",
              "      <td>28</td>\n",
              "      <td>295.21</td>\n",
              "      <td>4</td>\n",
              "      <td>2</td>\n",
              "      <td>4</td>\n",
              "      <td>424</td>\n",
              "      <td>Lost Customer</td>\n",
              "    </tr>\n",
              "    <tr>\n",
              "      <th>3</th>\n",
              "      <td>000bcff341</td>\n",
              "      <td>508</td>\n",
              "      <td>1</td>\n",
              "      <td>78.26</td>\n",
              "      <td>4</td>\n",
              "      <td>4</td>\n",
              "      <td>4</td>\n",
              "      <td>444</td>\n",
              "      <td>Lost Customer</td>\n",
              "    </tr>\n",
              "    <tr>\n",
              "      <th>4</th>\n",
              "      <td>000ddbf0ca</td>\n",
              "      <td>576</td>\n",
              "      <td>1</td>\n",
              "      <td>102.99</td>\n",
              "      <td>4</td>\n",
              "      <td>4</td>\n",
              "      <td>4</td>\n",
              "      <td>444</td>\n",
              "      <td>Lost Customer</td>\n",
              "    </tr>\n",
              "  </tbody>\n",
              "</table>\n",
              "</div>\n",
              "      <button class=\"colab-df-convert\" onclick=\"convertToInteractive('df-8422bc35-5721-41db-87fa-320cb530ca51')\"\n",
              "              title=\"Convert this dataframe to an interactive table.\"\n",
              "              style=\"display:none;\">\n",
              "        \n",
              "  <svg xmlns=\"http://www.w3.org/2000/svg\" height=\"24px\"viewBox=\"0 0 24 24\"\n",
              "       width=\"24px\">\n",
              "    <path d=\"M0 0h24v24H0V0z\" fill=\"none\"/>\n",
              "    <path d=\"M18.56 5.44l.94 2.06.94-2.06 2.06-.94-2.06-.94-.94-2.06-.94 2.06-2.06.94zm-11 1L8.5 8.5l.94-2.06 2.06-.94-2.06-.94L8.5 2.5l-.94 2.06-2.06.94zm10 10l.94 2.06.94-2.06 2.06-.94-2.06-.94-.94-2.06-.94 2.06-2.06.94z\"/><path d=\"M17.41 7.96l-1.37-1.37c-.4-.4-.92-.59-1.43-.59-.52 0-1.04.2-1.43.59L10.3 9.45l-7.72 7.72c-.78.78-.78 2.05 0 2.83L4 21.41c.39.39.9.59 1.41.59.51 0 1.02-.2 1.41-.59l7.78-7.78 2.81-2.81c.8-.78.8-2.07 0-2.86zM5.41 20L4 18.59l7.72-7.72 1.47 1.35L5.41 20z\"/>\n",
              "  </svg>\n",
              "      </button>\n",
              "      \n",
              "  <style>\n",
              "    .colab-df-container {\n",
              "      display:flex;\n",
              "      flex-wrap:wrap;\n",
              "      gap: 12px;\n",
              "    }\n",
              "\n",
              "    .colab-df-convert {\n",
              "      background-color: #E8F0FE;\n",
              "      border: none;\n",
              "      border-radius: 50%;\n",
              "      cursor: pointer;\n",
              "      display: none;\n",
              "      fill: #1967D2;\n",
              "      height: 32px;\n",
              "      padding: 0 0 0 0;\n",
              "      width: 32px;\n",
              "    }\n",
              "\n",
              "    .colab-df-convert:hover {\n",
              "      background-color: #E2EBFA;\n",
              "      box-shadow: 0px 1px 2px rgba(60, 64, 67, 0.3), 0px 1px 3px 1px rgba(60, 64, 67, 0.15);\n",
              "      fill: #174EA6;\n",
              "    }\n",
              "\n",
              "    [theme=dark] .colab-df-convert {\n",
              "      background-color: #3B4455;\n",
              "      fill: #D2E3FC;\n",
              "    }\n",
              "\n",
              "    [theme=dark] .colab-df-convert:hover {\n",
              "      background-color: #434B5C;\n",
              "      box-shadow: 0px 1px 3px 1px rgba(0, 0, 0, 0.15);\n",
              "      filter: drop-shadow(0px 1px 2px rgba(0, 0, 0, 0.3));\n",
              "      fill: #FFFFFF;\n",
              "    }\n",
              "  </style>\n",
              "\n",
              "      <script>\n",
              "        const buttonEl =\n",
              "          document.querySelector('#df-8422bc35-5721-41db-87fa-320cb530ca51 button.colab-df-convert');\n",
              "        buttonEl.style.display =\n",
              "          google.colab.kernel.accessAllowed ? 'block' : 'none';\n",
              "\n",
              "        async function convertToInteractive(key) {\n",
              "          const element = document.querySelector('#df-8422bc35-5721-41db-87fa-320cb530ca51');\n",
              "          const dataTable =\n",
              "            await google.colab.kernel.invokeFunction('convertToInteractive',\n",
              "                                                     [key], {});\n",
              "          if (!dataTable) return;\n",
              "\n",
              "          const docLinkHtml = 'Like what you see? Visit the ' +\n",
              "            '<a target=\"_blank\" href=https://colab.research.google.com/notebooks/data_table.ipynb>data table notebook</a>'\n",
              "            + ' to learn more about interactive tables.';\n",
              "          element.innerHTML = '';\n",
              "          dataTable['output_type'] = 'display_data';\n",
              "          await google.colab.output.renderOutput(dataTable, element);\n",
              "          const docLink = document.createElement('div');\n",
              "          docLink.innerHTML = docLinkHtml;\n",
              "          element.appendChild(docLink);\n",
              "        }\n",
              "      </script>\n",
              "    </div>\n",
              "  </div>\n",
              "  "
            ]
          },
          "metadata": {},
          "execution_count": 41
        }
      ]
    },
    {
      "cell_type": "code",
      "source": [
        "df_kmeans= df2[['recency', 'frequency', 'monetary']]"
      ],
      "metadata": {
        "id": "gtyPOTcYCcQ1"
      },
      "execution_count": null,
      "outputs": []
    },
    {
      "cell_type": "code",
      "source": [
        "#standardization\n",
        "## data transformation: K-means is sensitive to variance in data, and features with larger variance have more emphasis on result\n",
        "X = preprocessing.normalize(df_kmeans) "
      ],
      "metadata": {
        "id": "Kb9YdyRjyWjm"
      },
      "execution_count": null,
      "outputs": []
    },
    {
      "cell_type": "code",
      "source": [
        "#set cluster to 2\n",
        "clusters = 2\n",
        "model = KMeans(init = 'k-means++', #minimize the variance \n",
        "               n_clusters = clusters, \n",
        "               n_init = 12)\n",
        "model.fit(X)"
      ],
      "metadata": {
        "colab": {
          "base_uri": "https://localhost:8080/"
        },
        "id": "guFkFQBowhpH",
        "outputId": "8c997551-c176-4c38-b80a-19d33fc814f6"
      },
      "execution_count": null,
      "outputs": [
        {
          "output_type": "execute_result",
          "data": {
            "text/plain": [
              "KMeans(n_clusters=2, n_init=12)"
            ]
          },
          "metadata": {},
          "execution_count": 251
        }
      ]
    },
    {
      "cell_type": "code",
      "source": [
        "#get the labels \n",
        "labels = model.labels_\n",
        "print(cl(labels[:100], attrs = ['bold']))"
      ],
      "metadata": {
        "colab": {
          "base_uri": "https://localhost:8080/"
        },
        "id": "YV9G87q8C0bz",
        "outputId": "1e92c401-7385-4964-84ee-b0af49f44836"
      },
      "execution_count": null,
      "outputs": [
        {
          "output_type": "stream",
          "name": "stdout",
          "text": [
            "\u001b[1m[1 0 1 1 1 0 0 1 1 0 0 0 0 0 0 0 0 0 1 0 1 0 0 0 1 1 0 0 0 0 0 0 0 0 0 0 0\n",
            " 0 1 0 0 0 0 0 0 0 0 0 0 1 0 0 0 0 0 0 0 0 1 0 0 0 1 0 0 0 0 1 0 0 0 0 1 0\n",
            " 0 0 0 0 0 1 0 0 0 1 0 0 1 0 1 0 0 1 0 0 0 0 1 0 0 0]\u001b[0m\n"
          ]
        }
      ]
    },
    {
      "cell_type": "code",
      "source": [
        "#check the distribution of each cluster\n",
        "sns.countplot(labels)"
      ],
      "metadata": {
        "colab": {
          "base_uri": "https://localhost:8080/",
          "height": 283
        },
        "id": "S0YmA08YC4kS",
        "outputId": "d7fdeecf-67c5-4bac-dd58-78e6c9680ecd"
      },
      "execution_count": null,
      "outputs": [
        {
          "output_type": "execute_result",
          "data": {
            "text/plain": [
              "<matplotlib.axes._subplots.AxesSubplot at 0x7f28d600e150>"
            ]
          },
          "metadata": {},
          "execution_count": 253
        },
        {
          "output_type": "display_data",
          "data": {
            "text/plain": [
              "<Figure size 432x288 with 1 Axes>"
            ],
            "image/png": "[encoded data removed]"
          },
          "metadata": {
            "needs_background": "light"
          }
        }
      ]
    },
    {
      "cell_type": "markdown",
      "source": [
        "> most of our customers haven't churned"
      ],
      "metadata": {
        "id": "1b9w7NhUDI-P"
      }
    },
    {
      "cell_type": "code",
      "source": [
        "df2['churn'] = labels\n",
        "df2.head()"
      ],
      "metadata": {
        "colab": {
          "base_uri": "https://localhost:8080/",
          "height": 206
        },
        "id": "slyND-pHDEfM",
        "outputId": "a34de9d6-a5a9-4cf5-b96b-e9aa1773bb66"
      },
      "execution_count": null,
      "outputs": [
        {
          "output_type": "execute_result",
          "data": {
            "text/plain": [
              "     merchant  recency  frequency  monetary  r_quartile  f_quartile  \\\n",
              "0  0002b63b92      593          1     33.79           4           4   \n",
              "1  0002d07bba       15          4    892.78           2           3   \n",
              "2  00057d4302      514         28    295.21           4           2   \n",
              "3  000bcff341      508          1     78.26           4           4   \n",
              "4  000ddbf0ca      576          1    102.99           4           4   \n",
              "\n",
              "   m_quartile RFMScore               segments  churn  \n",
              "0           4      444          Lost Customer      1  \n",
              "1           3      233  Other Active Customer      0  \n",
              "2           4      424          Lost Customer      1  \n",
              "3           4      444          Lost Customer      1  \n",
              "4           4      444          Lost Customer      1  "
            ],
            "text/html": [
              "\n",
              "  <div id=\"df-54287ad4-ebc6-4aac-bea3-a7fda758278d\">\n",
              "    <div class=\"colab-df-container\">\n",
              "      <div>\n",
              "<style scoped>\n",
              "    .dataframe tbody tr th:only-of-type {\n",
              "        vertical-align: middle;\n",
              "    }\n",
              "\n",
              "    .dataframe tbody tr th {\n",
              "        vertical-align: top;\n",
              "    }\n",
              "\n",
              "    .dataframe thead th {\n",
              "        text-align: right;\n",
              "    }\n",
              "</style>\n",
              "<table border=\"1\" class=\"dataframe\">\n",
              "  <thead>\n",
              "    <tr style=\"text-align: right;\">\n",
              "      <th></th>\n",
              "      <th>merchant</th>\n",
              "      <th>recency</th>\n",
              "      <th>frequency</th>\n",
              "      <th>monetary</th>\n",
              "      <th>r_quartile</th>\n",
              "      <th>f_quartile</th>\n",
              "      <th>m_quartile</th>\n",
              "      <th>RFMScore</th>\n",
              "      <th>segments</th>\n",
              "      <th>churn</th>\n",
              "    </tr>\n",
              "  </thead>\n",
              "  <tbody>\n",
              "    <tr>\n",
              "      <th>0</th>\n",
              "      <td>0002b63b92</td>\n",
              "      <td>593</td>\n",
              "      <td>1</td>\n",
              "      <td>33.79</td>\n",
              "      <td>4</td>\n",
              "      <td>4</td>\n",
              "      <td>4</td>\n",
              "      <td>444</td>\n",
              "      <td>Lost Customer</td>\n",
              "      <td>1</td>\n",
              "    </tr>\n",
              "    <tr>\n",
              "      <th>1</th>\n",
              "      <td>0002d07bba</td>\n",
              "      <td>15</td>\n",
              "      <td>4</td>\n",
              "      <td>892.78</td>\n",
              "      <td>2</td>\n",
              "      <td>3</td>\n",
              "      <td>3</td>\n",
              "      <td>233</td>\n",
              "      <td>Other Active Customer</td>\n",
              "      <td>0</td>\n",
              "    </tr>\n",
              "    <tr>\n",
              "      <th>2</th>\n",
              "      <td>00057d4302</td>\n",
              "      <td>514</td>\n",
              "      <td>28</td>\n",
              "      <td>295.21</td>\n",
              "      <td>4</td>\n",
              "      <td>2</td>\n",
              "      <td>4</td>\n",
              "      <td>424</td>\n",
              "      <td>Lost Customer</td>\n",
              "      <td>1</td>\n",
              "    </tr>\n",
              "    <tr>\n",
              "      <th>3</th>\n",
              "      <td>000bcff341</td>\n",
              "      <td>508</td>\n",
              "      <td>1</td>\n",
              "      <td>78.26</td>\n",
              "      <td>4</td>\n",
              "      <td>4</td>\n",
              "      <td>4</td>\n",
              "      <td>444</td>\n",
              "      <td>Lost Customer</td>\n",
              "      <td>1</td>\n",
              "    </tr>\n",
              "    <tr>\n",
              "      <th>4</th>\n",
              "      <td>000ddbf0ca</td>\n",
              "      <td>576</td>\n",
              "      <td>1</td>\n",
              "      <td>102.99</td>\n",
              "      <td>4</td>\n",
              "      <td>4</td>\n",
              "      <td>4</td>\n",
              "      <td>444</td>\n",
              "      <td>Lost Customer</td>\n",
              "      <td>1</td>\n",
              "    </tr>\n",
              "  </tbody>\n",
              "</table>\n",
              "</div>\n",
              "      <button class=\"colab-df-convert\" onclick=\"convertToInteractive('df-54287ad4-ebc6-4aac-bea3-a7fda758278d')\"\n",
              "              title=\"Convert this dataframe to an interactive table.\"\n",
              "              style=\"display:none;\">\n",
              "        \n",
              "  <svg xmlns=\"http://www.w3.org/2000/svg\" height=\"24px\"viewBox=\"0 0 24 24\"\n",
              "       width=\"24px\">\n",
              "    <path d=\"M0 0h24v24H0V0z\" fill=\"none\"/>\n",
              "    <path d=\"M18.56 5.44l.94 2.06.94-2.06 2.06-.94-2.06-.94-.94-2.06-.94 2.06-2.06.94zm-11 1L8.5 8.5l.94-2.06 2.06-.94-2.06-.94L8.5 2.5l-.94 2.06-2.06.94zm10 10l.94 2.06.94-2.06 2.06-.94-2.06-.94-.94-2.06-.94 2.06-2.06.94z\"/><path d=\"M17.41 7.96l-1.37-1.37c-.4-.4-.92-.59-1.43-.59-.52 0-1.04.2-1.43.59L10.3 9.45l-7.72 7.72c-.78.78-.78 2.05 0 2.83L4 21.41c.39.39.9.59 1.41.59.51 0 1.02-.2 1.41-.59l7.78-7.78 2.81-2.81c.8-.78.8-2.07 0-2.86zM5.41 20L4 18.59l7.72-7.72 1.47 1.35L5.41 20z\"/>\n",
              "  </svg>\n",
              "      </button>\n",
              "      \n",
              "  <style>\n",
              "    .colab-df-container {\n",
              "      display:flex;\n",
              "      flex-wrap:wrap;\n",
              "      gap: 12px;\n",
              "    }\n",
              "\n",
              "    .colab-df-convert {\n",
              "      background-color: #E8F0FE;\n",
              "      border: none;\n",
              "      border-radius: 50%;\n",
              "      cursor: pointer;\n",
              "      display: none;\n",
              "      fill: #1967D2;\n",
              "      height: 32px;\n",
              "      padding: 0 0 0 0;\n",
              "      width: 32px;\n",
              "    }\n",
              "\n",
              "    .colab-df-convert:hover {\n",
              "      background-color: #E2EBFA;\n",
              "      box-shadow: 0px 1px 2px rgba(60, 64, 67, 0.3), 0px 1px 3px 1px rgba(60, 64, 67, 0.15);\n",
              "      fill: #174EA6;\n",
              "    }\n",
              "\n",
              "    [theme=dark] .colab-df-convert {\n",
              "      background-color: #3B4455;\n",
              "      fill: #D2E3FC;\n",
              "    }\n",
              "\n",
              "    [theme=dark] .colab-df-convert:hover {\n",
              "      background-color: #434B5C;\n",
              "      box-shadow: 0px 1px 3px 1px rgba(0, 0, 0, 0.15);\n",
              "      filter: drop-shadow(0px 1px 2px rgba(0, 0, 0, 0.3));\n",
              "      fill: #FFFFFF;\n",
              "    }\n",
              "  </style>\n",
              "\n",
              "      <script>\n",
              "        const buttonEl =\n",
              "          document.querySelector('#df-54287ad4-ebc6-4aac-bea3-a7fda758278d button.colab-df-convert');\n",
              "        buttonEl.style.display =\n",
              "          google.colab.kernel.accessAllowed ? 'block' : 'none';\n",
              "\n",
              "        async function convertToInteractive(key) {\n",
              "          const element = document.querySelector('#df-54287ad4-ebc6-4aac-bea3-a7fda758278d');\n",
              "          const dataTable =\n",
              "            await google.colab.kernel.invokeFunction('convertToInteractive',\n",
              "                                                     [key], {});\n",
              "          if (!dataTable) return;\n",
              "\n",
              "          const docLinkHtml = 'Like what you see? Visit the ' +\n",
              "            '<a target=\"_blank\" href=https://colab.research.google.com/notebooks/data_table.ipynb>data table notebook</a>'\n",
              "            + ' to learn more about interactive tables.';\n",
              "          element.innerHTML = '';\n",
              "          dataTable['output_type'] = 'display_data';\n",
              "          await google.colab.output.renderOutput(dataTable, element);\n",
              "          const docLink = document.createElement('div');\n",
              "          docLink.innerHTML = docLinkHtml;\n",
              "          element.appendChild(docLink);\n",
              "        }\n",
              "      </script>\n",
              "    </div>\n",
              "  </div>\n",
              "  "
            ]
          },
          "metadata": {},
          "execution_count": 254
        }
      ]
    },
    {
      "cell_type": "code",
      "source": [
        "#get the distribution of churn \n",
        "print(df2['churn'].value_counts()) "
      ],
      "metadata": {
        "id": "6lQ23xDgwjcX",
        "colab": {
          "base_uri": "https://localhost:8080/"
        },
        "outputId": "b4e7bcc5-990f-467c-9a40-46b2f51f77de"
      },
      "execution_count": null,
      "outputs": [
        {
          "output_type": "stream",
          "name": "stdout",
          "text": [
            "0    11773\n",
            "1     2578\n",
            "Name: churn, dtype: int64\n"
          ]
        }
      ]
    },
    {
      "cell_type": "markdown",
      "source": [
        "> Identify customers who already churned in the dataset"
      ],
      "metadata": {
        "id": "J1jbNqbBl45f"
      }
    },
    {
      "cell_type": "code",
      "source": [
        "df2[(df2['churn']==1)]"
      ],
      "metadata": {
        "colab": {
          "base_uri": "https://localhost:8080/",
          "height": 423
        },
        "id": "i9PLzYAMl4V-",
        "outputId": "ae4dd7e8-50be-4989-e992-38e4b7cdc568"
      },
      "execution_count": null,
      "outputs": [
        {
          "output_type": "execute_result",
          "data": {
            "text/plain": [
              "         merchant  recency  frequency  monetary  r_quartile  f_quartile  \\\n",
              "0      0002b63b92      593          1     33.79           4           4   \n",
              "2      00057d4302      514         28    295.21           4           2   \n",
              "3      000bcff341      508          1     78.26           4           4   \n",
              "4      000ddbf0ca      576          1    102.99           4           4   \n",
              "7      001f7b7a4f      303          1     64.44           4           4   \n",
              "...           ...      ...        ...       ...         ...         ...   \n",
              "14338  ffaeb2e3ce      651          1     53.44           4           4   \n",
              "14341  ffc06f74ff      158          2    102.35           3           4   \n",
              "14342  ffc46fd720      204          6    200.58           3           3   \n",
              "14346  ffd3e45675      703          5    726.26           4           3   \n",
              "14349  ffec05edb9      319          3    159.34           4           4   \n",
              "\n",
              "       m_quartile RFMScore       segments  churn  \n",
              "0               4      444  Lost Customer      1  \n",
              "2               4      424  Lost Customer      1  \n",
              "3               4      444  Lost Customer      1  \n",
              "4               4      444  Lost Customer      1  \n",
              "7               4      444  Lost Customer      1  \n",
              "...           ...      ...            ...    ...  \n",
              "14338           4      444  Lost Customer      1  \n",
              "14341           4      344    Almost Lost      1  \n",
              "14342           4      334    Almost Lost      1  \n",
              "14346           3      433  Lost Customer      1  \n",
              "14349           4      444  Lost Customer      1  \n",
              "\n",
              "[2578 rows x 10 columns]"
            ],
            "text/html": [
              "\n",
              "  <div id=\"df-66226d6e-ab2f-4e7f-bd8c-227d4012b434\">\n",
              "    <div class=\"colab-df-container\">\n",
              "      <div>\n",
              "<style scoped>\n",
              "    .dataframe tbody tr th:only-of-type {\n",
              "        vertical-align: middle;\n",
              "    }\n",
              "\n",
              "    .dataframe tbody tr th {\n",
              "        vertical-align: top;\n",
              "    }\n",
              "\n",
              "    .dataframe thead th {\n",
              "        text-align: right;\n",
              "    }\n",
              "</style>\n",
              "<table border=\"1\" class=\"dataframe\">\n",
              "  <thead>\n",
              "    <tr style=\"text-align: right;\">\n",
              "      <th></th>\n",
              "      <th>merchant</th>\n",
              "      <th>recency</th>\n",
              "      <th>frequency</th>\n",
              "      <th>monetary</th>\n",
              "      <th>r_quartile</th>\n",
              "      <th>f_quartile</th>\n",
              "      <th>m_quartile</th>\n",
              "      <th>RFMScore</th>\n",
              "      <th>segments</th>\n",
              "      <th>churn</th>\n",
              "    </tr>\n",
              "  </thead>\n",
              "  <tbody>\n",
              "    <tr>\n",
              "      <th>0</th>\n",
              "      <td>0002b63b92</td>\n",
              "      <td>593</td>\n",
              "      <td>1</td>\n",
              "      <td>33.79</td>\n",
              "      <td>4</td>\n",
              "      <td>4</td>\n",
              "      <td>4</td>\n",
              "      <td>444</td>\n",
              "      <td>Lost Customer</td>\n",
              "      <td>1</td>\n",
              "    </tr>\n",
              "    <tr>\n",
              "      <th>2</th>\n",
              "      <td>00057d4302</td>\n",
              "      <td>514</td>\n",
              "      <td>28</td>\n",
              "      <td>295.21</td>\n",
              "      <td>4</td>\n",
              "      <td>2</td>\n",
              "      <td>4</td>\n",
              "      <td>424</td>\n",
              "      <td>Lost Customer</td>\n",
              "      <td>1</td>\n",
              "    </tr>\n",
              "    <tr>\n",
              "      <th>3</th>\n",
              "      <td>000bcff341</td>\n",
              "      <td>508</td>\n",
              "      <td>1</td>\n",
              "      <td>78.26</td>\n",
              "      <td>4</td>\n",
              "      <td>4</td>\n",
              "      <td>4</td>\n",
              "      <td>444</td>\n",
              "      <td>Lost Customer</td>\n",
              "      <td>1</td>\n",
              "    </tr>\n",
              "    <tr>\n",
              "      <th>4</th>\n",
              "      <td>000ddbf0ca</td>\n",
              "      <td>576</td>\n",
              "      <td>1</td>\n",
              "      <td>102.99</td>\n",
              "      <td>4</td>\n",
              "      <td>4</td>\n",
              "      <td>4</td>\n",
              "      <td>444</td>\n",
              "      <td>Lost Customer</td>\n",
              "      <td>1</td>\n",
              "    </tr>\n",
              "    <tr>\n",
              "      <th>7</th>\n",
              "      <td>001f7b7a4f</td>\n",
              "      <td>303</td>\n",
              "      <td>1</td>\n",
              "      <td>64.44</td>\n",
              "      <td>4</td>\n",
              "      <td>4</td>\n",
              "      <td>4</td>\n",
              "      <td>444</td>\n",
              "      <td>Lost Customer</td>\n",
              "      <td>1</td>\n",
              "    </tr>\n",
              "    <tr>\n",
              "      <th>...</th>\n",
              "      <td>...</td>\n",
              "      <td>...</td>\n",
              "      <td>...</td>\n",
              "      <td>...</td>\n",
              "      <td>...</td>\n",
              "      <td>...</td>\n",
              "      <td>...</td>\n",
              "      <td>...</td>\n",
              "      <td>...</td>\n",
              "      <td>...</td>\n",
              "    </tr>\n",
              "    <tr>\n",
              "      <th>14338</th>\n",
              "      <td>ffaeb2e3ce</td>\n",
              "      <td>651</td>\n",
              "      <td>1</td>\n",
              "      <td>53.44</td>\n",
              "      <td>4</td>\n",
              "      <td>4</td>\n",
              "      <td>4</td>\n",
              "      <td>444</td>\n",
              "      <td>Lost Customer</td>\n",
              "      <td>1</td>\n",
              "    </tr>\n",
              "    <tr>\n",
              "      <th>14341</th>\n",
              "      <td>ffc06f74ff</td>\n",
              "      <td>158</td>\n",
              "      <td>2</td>\n",
              "      <td>102.35</td>\n",
              "      <td>3</td>\n",
              "      <td>4</td>\n",
              "      <td>4</td>\n",
              "      <td>344</td>\n",
              "      <td>Almost Lost</td>\n",
              "      <td>1</td>\n",
              "    </tr>\n",
              "    <tr>\n",
              "      <th>14342</th>\n",
              "      <td>ffc46fd720</td>\n",
              "      <td>204</td>\n",
              "      <td>6</td>\n",
              "      <td>200.58</td>\n",
              "      <td>3</td>\n",
              "      <td>3</td>\n",
              "      <td>4</td>\n",
              "      <td>334</td>\n",
              "      <td>Almost Lost</td>\n",
              "      <td>1</td>\n",
              "    </tr>\n",
              "    <tr>\n",
              "      <th>14346</th>\n",
              "      <td>ffd3e45675</td>\n",
              "      <td>703</td>\n",
              "      <td>5</td>\n",
              "      <td>726.26</td>\n",
              "      <td>4</td>\n",
              "      <td>3</td>\n",
              "      <td>3</td>\n",
              "      <td>433</td>\n",
              "      <td>Lost Customer</td>\n",
              "      <td>1</td>\n",
              "    </tr>\n",
              "    <tr>\n",
              "      <th>14349</th>\n",
              "      <td>ffec05edb9</td>\n",
              "      <td>319</td>\n",
              "      <td>3</td>\n",
              "      <td>159.34</td>\n",
              "      <td>4</td>\n",
              "      <td>4</td>\n",
              "      <td>4</td>\n",
              "      <td>444</td>\n",
              "      <td>Lost Customer</td>\n",
              "      <td>1</td>\n",
              "    </tr>\n",
              "  </tbody>\n",
              "</table>\n",
              "<p>2578 rows × 10 columns</p>\n",
              "</div>\n",
              "      <button class=\"colab-df-convert\" onclick=\"convertToInteractive('df-66226d6e-ab2f-4e7f-bd8c-227d4012b434')\"\n",
              "              title=\"Convert this dataframe to an interactive table.\"\n",
              "              style=\"display:none;\">\n",
              "        \n",
              "  <svg xmlns=\"http://www.w3.org/2000/svg\" height=\"24px\"viewBox=\"0 0 24 24\"\n",
              "       width=\"24px\">\n",
              "    <path d=\"M0 0h24v24H0V0z\" fill=\"none\"/>\n",
              "    <path d=\"M18.56 5.44l.94 2.06.94-2.06 2.06-.94-2.06-.94-.94-2.06-.94 2.06-2.06.94zm-11 1L8.5 8.5l.94-2.06 2.06-.94-2.06-.94L8.5 2.5l-.94 2.06-2.06.94zm10 10l.94 2.06.94-2.06 2.06-.94-2.06-.94-.94-2.06-.94 2.06-2.06.94z\"/><path d=\"M17.41 7.96l-1.37-1.37c-.4-.4-.92-.59-1.43-.59-.52 0-1.04.2-1.43.59L10.3 9.45l-7.72 7.72c-.78.78-.78 2.05 0 2.83L4 21.41c.39.39.9.59 1.41.59.51 0 1.02-.2 1.41-.59l7.78-7.78 2.81-2.81c.8-.78.8-2.07 0-2.86zM5.41 20L4 18.59l7.72-7.72 1.47 1.35L5.41 20z\"/>\n",
              "  </svg>\n",
              "      </button>\n",
              "      \n",
              "  <style>\n",
              "    .colab-df-container {\n",
              "      display:flex;\n",
              "      flex-wrap:wrap;\n",
              "      gap: 12px;\n",
              "    }\n",
              "\n",
              "    .colab-df-convert {\n",
              "      background-color: #E8F0FE;\n",
              "      border: none;\n",
              "      border-radius: 50%;\n",
              "      cursor: pointer;\n",
              "      display: none;\n",
              "      fill: #1967D2;\n",
              "      height: 32px;\n",
              "      padding: 0 0 0 0;\n",
              "      width: 32px;\n",
              "    }\n",
              "\n",
              "    .colab-df-convert:hover {\n",
              "      background-color: #E2EBFA;\n",
              "      box-shadow: 0px 1px 2px rgba(60, 64, 67, 0.3), 0px 1px 3px 1px rgba(60, 64, 67, 0.15);\n",
              "      fill: #174EA6;\n",
              "    }\n",
              "\n",
              "    [theme=dark] .colab-df-convert {\n",
              "      background-color: #3B4455;\n",
              "      fill: #D2E3FC;\n",
              "    }\n",
              "\n",
              "    [theme=dark] .colab-df-convert:hover {\n",
              "      background-color: #434B5C;\n",
              "      box-shadow: 0px 1px 3px 1px rgba(0, 0, 0, 0.15);\n",
              "      filter: drop-shadow(0px 1px 2px rgba(0, 0, 0, 0.3));\n",
              "      fill: #FFFFFF;\n",
              "    }\n",
              "  </style>\n",
              "\n",
              "      <script>\n",
              "        const buttonEl =\n",
              "          document.querySelector('#df-66226d6e-ab2f-4e7f-bd8c-227d4012b434 button.colab-df-convert');\n",
              "        buttonEl.style.display =\n",
              "          google.colab.kernel.accessAllowed ? 'block' : 'none';\n",
              "\n",
              "        async function convertToInteractive(key) {\n",
              "          const element = document.querySelector('#df-66226d6e-ab2f-4e7f-bd8c-227d4012b434');\n",
              "          const dataTable =\n",
              "            await google.colab.kernel.invokeFunction('convertToInteractive',\n",
              "                                                     [key], {});\n",
              "          if (!dataTable) return;\n",
              "\n",
              "          const docLinkHtml = 'Like what you see? Visit the ' +\n",
              "            '<a target=\"_blank\" href=https://colab.research.google.com/notebooks/data_table.ipynb>data table notebook</a>'\n",
              "            + ' to learn more about interactive tables.';\n",
              "          element.innerHTML = '';\n",
              "          dataTable['output_type'] = 'display_data';\n",
              "          await google.colab.output.renderOutput(dataTable, element);\n",
              "          const docLink = document.createElement('div');\n",
              "          docLink.innerHTML = docLinkHtml;\n",
              "          element.appendChild(docLink);\n",
              "        }\n",
              "      </script>\n",
              "    </div>\n",
              "  </div>\n",
              "  "
            ]
          },
          "metadata": {},
          "execution_count": 256
        }
      ]
    },
    {
      "cell_type": "markdown",
      "source": [
        "\n",
        "\n",
        "> Find out how churned and non churned customers are different in frequency and monetary\n",
        "\n"
      ],
      "metadata": {
        "id": "LFTtJjJa0mqK"
      }
    },
    {
      "cell_type": "code",
      "source": [
        "df2.groupby('churn')['monetary'].mean().plot(kind='bar')"
      ],
      "metadata": {
        "colab": {
          "base_uri": "https://localhost:8080/",
          "height": 294
        },
        "id": "6vREA_2A0ReC",
        "outputId": "afe8113b-cba2-4b9e-c4bf-d2a71d860131"
      },
      "execution_count": null,
      "outputs": [
        {
          "output_type": "execute_result",
          "data": {
            "text/plain": [
              "<matplotlib.axes._subplots.AxesSubplot at 0x7f28d6051710>"
            ]
          },
          "metadata": {},
          "execution_count": 257
        },
        {
          "output_type": "display_data",
          "data": {
            "text/plain": [
              "<Figure size 432x288 with 1 Axes>"
            ],
            "image/png": "[encoded data removed]"
          },
          "metadata": {
            "needs_background": "light"
          }
        }
      ]
    },
    {
      "cell_type": "markdown",
      "source": [
        "not surprisingly, non churned customers have much more total transaction amount than churned customers, and that's one of the reason why we need to try to reduce customer churn rate"
      ],
      "metadata": {
        "id": "slW0n0Nn2WBg"
      }
    },
    {
      "cell_type": "code",
      "source": [
        "df2.groupby('churn')['frequency'].mean().plot(kind='bar')"
      ],
      "metadata": {
        "colab": {
          "base_uri": "https://localhost:8080/",
          "height": 294
        },
        "id": "b5wZ7P7g06h4",
        "outputId": "09f04a60-462c-41dc-de1f-121488b11e0d"
      },
      "execution_count": null,
      "outputs": [
        {
          "output_type": "execute_result",
          "data": {
            "text/plain": [
              "<matplotlib.axes._subplots.AxesSubplot at 0x7f28d5f97e50>"
            ]
          },
          "metadata": {},
          "execution_count": 258
        },
        {
          "output_type": "display_data",
          "data": {
            "text/plain": [
              "<Figure size 432x288 with 1 Axes>"
            ],
            "image/png": "[encoded data removed]"
          },
          "metadata": {
            "needs_background": "light"
          }
        }
      ]
    },
    {
      "cell_type": "markdown",
      "source": [
        "also not surprisingly, non churned customers have much higher frequency than churned customers, reduced number of transactions will eventually result in reduced revenue"
      ],
      "metadata": {
        "id": "wkLOiXiS2gHZ"
      }
    },
    {
      "cell_type": "code",
      "source": [
        "plt = df2.groupby(['churn']).segments.value_counts().unstack()\n",
        "ax = plt.plot(kind='bar', figsize=(8, 7), xlabel='segments distribution between churned and non churned customer', ylabel='Count', rot=0)\n",
        "ax.legend(title='segments', bbox_to_anchor=(1, 1), loc='upper left')"
      ],
      "metadata": {
        "colab": {
          "base_uri": "https://localhost:8080/",
          "height": 460
        },
        "id": "MmBkZloJG2im",
        "outputId": "8c55b29f-ea59-4ece-ab2c-6ddd1bf3ab2f"
      },
      "execution_count": null,
      "outputs": [
        {
          "output_type": "execute_result",
          "data": {
            "text/plain": [
              "<matplotlib.legend.Legend at 0x7f28d5f94ad0>"
            ]
          },
          "metadata": {},
          "execution_count": 259
        },
        {
          "output_type": "display_data",
          "data": {
            "text/plain": [
              "<Figure size 576x504 with 1 Axes>"
            ],
            "image/png": "[encoded data removed]"
          },
          "metadata": {
            "needs_background": "light"
          }
        }
      ]
    },
    {
      "cell_type": "markdown",
      "source": [
        "> This plot, again, proved the correctness of our definition of churn. </br>\n",
        " \n",
        "\n",
        "*   The majority segments for churned customers are *'Almost Lost'* and *'Lost Customers'* Which as we expected\n",
        "*   There is no *'Active Customer'* or *'Best Customer'* in churned group\n",
        "*   In non churned group, numbers of other active customers is large, gives us a hint that there is some potentials for us to divide the *'Other Active Customers'* further.\n",
        "\n"
      ],
      "metadata": {
        "id": "fiFR3tD1deDL"
      }
    },
    {
      "cell_type": "markdown",
      "source": [
        "### Part 2: Predict Potential Customer Churn"
      ],
      "metadata": {
        "id": "WKmS8PpI4CoJ"
      }
    },
    {
      "cell_type": "markdown",
      "source": [
        "To possibly reduce customer churn rate, we need to firstly predict which active customer may churn in the future and take actions with these customers. </br>\n",
        "This part will include: </br>\n",
        "> 1. Model Training and Selection \n",
        "2. Optimize Hyperparameters with Grid Search\n",
        "3. Model Evaluation\n",
        "4. Feature Selection\n",
        "\n",
        "**Models used:** Logistic Regression, K Nearest Neighbor, Random Forest </br>\n"
      ],
      "metadata": {
        "id": "LJt9npD94YO6"
      }
    },
    {
      "cell_type": "markdown",
      "source": [
        "#### Part 2.1: Model Training and Selection"
      ],
      "metadata": {
        "id": "01actqVb4Myh"
      }
    },
    {
      "cell_type": "code",
      "source": [
        "\n",
        "df_agg= df1.groupby('merchant').agg({'time': lambda date: date.max(),\n",
        "                                        'invoiceNo': lambda num: len(num),\n",
        "                                        'amount_usd_in_dollars': lambda price: price.mean()})"
      ],
      "metadata": {
        "id": "vtEZgROblgnE"
      },
      "execution_count": null,
      "outputs": []
    },
    {
      "cell_type": "code",
      "source": [
        "df=df2[['merchant','churn']]\n",
        "df4 = pd.merge(df_agg, df, on=\"merchant\")"
      ],
      "metadata": {
        "id": "WWmBA3HLOC63"
      },
      "execution_count": null,
      "outputs": []
    },
    {
      "cell_type": "code",
      "source": [
        "df4['frequency'] = df4['invoiceNo']"
      ],
      "metadata": {
        "id": "PNixy_N6l5mz"
      },
      "execution_count": null,
      "outputs": []
    },
    {
      "cell_type": "code",
      "source": [
        "df4['time']= pd.to_datetime(df4['time'])\n",
        "df4['hour'] = df4['time'].dt.hour\n",
        "df4['day'] = df4['time'].dt.day\n",
        "df4['year']= df4['time'].dt.year\n",
        "df4['month']= df4['time'].dt.month\n",
        "\n",
        "df4.head()"
      ],
      "metadata": {
        "colab": {
          "base_uri": "https://localhost:8080/",
          "height": 206
        },
        "id": "BJEQ-3E0OXlm",
        "outputId": "4cd3f28a-7ab3-4844-feee-f24ac24c53bc"
      },
      "execution_count": null,
      "outputs": [
        {
          "output_type": "execute_result",
          "data": {
            "text/plain": [
              "     merchant                time  invoiceNo  amount_usd_in_dollars  churn  \\\n",
              "0  0002b63b92 2033-05-16 20:07:57          1              33.790000      1   \n",
              "1  0002d07bba 2034-12-15 09:56:19          4             223.195000      0   \n",
              "2  00057d4302 2033-08-04 04:26:40         28              10.543214      1   \n",
              "3  000bcff341 2033-08-09 20:18:36          1              78.260000      1   \n",
              "4  000ddbf0ca 2033-06-02 13:25:12          1             102.990000      1   \n",
              "\n",
              "   frequency  hour  day  year  month  \n",
              "0          1    20   16  2033      5  \n",
              "1          4     9   15  2034     12  \n",
              "2         28     4    4  2033      8  \n",
              "3          1    20    9  2033      8  \n",
              "4          1    13    2  2033      6  "
            ],
            "text/html": [
              "\n",
              "  <div id=\"df-f7194f6e-f490-401c-b689-009a7a790877\">\n",
              "    <div class=\"colab-df-container\">\n",
              "      <div>\n",
              "<style scoped>\n",
              "    .dataframe tbody tr th:only-of-type {\n",
              "        vertical-align: middle;\n",
              "    }\n",
              "\n",
              "    .dataframe tbody tr th {\n",
              "        vertical-align: top;\n",
              "    }\n",
              "\n",
              "    .dataframe thead th {\n",
              "        text-align: right;\n",
              "    }\n",
              "</style>\n",
              "<table border=\"1\" class=\"dataframe\">\n",
              "  <thead>\n",
              "    <tr style=\"text-align: right;\">\n",
              "      <th></th>\n",
              "      <th>merchant</th>\n",
              "      <th>time</th>\n",
              "      <th>invoiceNo</th>\n",
              "      <th>amount_usd_in_dollars</th>\n",
              "      <th>churn</th>\n",
              "      <th>frequency</th>\n",
              "      <th>hour</th>\n",
              "      <th>day</th>\n",
              "      <th>year</th>\n",
              "      <th>month</th>\n",
              "    </tr>\n",
              "  </thead>\n",
              "  <tbody>\n",
              "    <tr>\n",
              "      <th>0</th>\n",
              "      <td>0002b63b92</td>\n",
              "      <td>2033-05-16 20:07:57</td>\n",
              "      <td>1</td>\n",
              "      <td>33.790000</td>\n",
              "      <td>1</td>\n",
              "      <td>1</td>\n",
              "      <td>20</td>\n",
              "      <td>16</td>\n",
              "      <td>2033</td>\n",
              "      <td>5</td>\n",
              "    </tr>\n",
              "    <tr>\n",
              "      <th>1</th>\n",
              "      <td>0002d07bba</td>\n",
              "      <td>2034-12-15 09:56:19</td>\n",
              "      <td>4</td>\n",
              "      <td>223.195000</td>\n",
              "      <td>0</td>\n",
              "      <td>4</td>\n",
              "      <td>9</td>\n",
              "      <td>15</td>\n",
              "      <td>2034</td>\n",
              "      <td>12</td>\n",
              "    </tr>\n",
              "    <tr>\n",
              "      <th>2</th>\n",
              "      <td>00057d4302</td>\n",
              "      <td>2033-08-04 04:26:40</td>\n",
              "      <td>28</td>\n",
              "      <td>10.543214</td>\n",
              "      <td>1</td>\n",
              "      <td>28</td>\n",
              "      <td>4</td>\n",
              "      <td>4</td>\n",
              "      <td>2033</td>\n",
              "      <td>8</td>\n",
              "    </tr>\n",
              "    <tr>\n",
              "      <th>3</th>\n",
              "      <td>000bcff341</td>\n",
              "      <td>2033-08-09 20:18:36</td>\n",
              "      <td>1</td>\n",
              "      <td>78.260000</td>\n",
              "      <td>1</td>\n",
              "      <td>1</td>\n",
              "      <td>20</td>\n",
              "      <td>9</td>\n",
              "      <td>2033</td>\n",
              "      <td>8</td>\n",
              "    </tr>\n",
              "    <tr>\n",
              "      <th>4</th>\n",
              "      <td>000ddbf0ca</td>\n",
              "      <td>2033-06-02 13:25:12</td>\n",
              "      <td>1</td>\n",
              "      <td>102.990000</td>\n",
              "      <td>1</td>\n",
              "      <td>1</td>\n",
              "      <td>13</td>\n",
              "      <td>2</td>\n",
              "      <td>2033</td>\n",
              "      <td>6</td>\n",
              "    </tr>\n",
              "  </tbody>\n",
              "</table>\n",
              "</div>\n",
              "      <button class=\"colab-df-convert\" onclick=\"convertToInteractive('df-f7194f6e-f490-401c-b689-009a7a790877')\"\n",
              "              title=\"Convert this dataframe to an interactive table.\"\n",
              "              style=\"display:none;\">\n",
              "        \n",
              "  <svg xmlns=\"http://www.w3.org/2000/svg\" height=\"24px\"viewBox=\"0 0 24 24\"\n",
              "       width=\"24px\">\n",
              "    <path d=\"M0 0h24v24H0V0z\" fill=\"none\"/>\n",
              "    <path d=\"M18.56 5.44l.94 2.06.94-2.06 2.06-.94-2.06-.94-.94-2.06-.94 2.06-2.06.94zm-11 1L8.5 8.5l.94-2.06 2.06-.94-2.06-.94L8.5 2.5l-.94 2.06-2.06.94zm10 10l.94 2.06.94-2.06 2.06-.94-2.06-.94-.94-2.06-.94 2.06-2.06.94z\"/><path d=\"M17.41 7.96l-1.37-1.37c-.4-.4-.92-.59-1.43-.59-.52 0-1.04.2-1.43.59L10.3 9.45l-7.72 7.72c-.78.78-.78 2.05 0 2.83L4 21.41c.39.39.9.59 1.41.59.51 0 1.02-.2 1.41-.59l7.78-7.78 2.81-2.81c.8-.78.8-2.07 0-2.86zM5.41 20L4 18.59l7.72-7.72 1.47 1.35L5.41 20z\"/>\n",
              "  </svg>\n",
              "      </button>\n",
              "      \n",
              "  <style>\n",
              "    .colab-df-container {\n",
              "      display:flex;\n",
              "      flex-wrap:wrap;\n",
              "      gap: 12px;\n",
              "    }\n",
              "\n",
              "    .colab-df-convert {\n",
              "      background-color: #E8F0FE;\n",
              "      border: none;\n",
              "      border-radius: 50%;\n",
              "      cursor: pointer;\n",
              "      display: none;\n",
              "      fill: #1967D2;\n",
              "      height: 32px;\n",
              "      padding: 0 0 0 0;\n",
              "      width: 32px;\n",
              "    }\n",
              "\n",
              "    .colab-df-convert:hover {\n",
              "      background-color: #E2EBFA;\n",
              "      box-shadow: 0px 1px 2px rgba(60, 64, 67, 0.3), 0px 1px 3px 1px rgba(60, 64, 67, 0.15);\n",
              "      fill: #174EA6;\n",
              "    }\n",
              "\n",
              "    [theme=dark] .colab-df-convert {\n",
              "      background-color: #3B4455;\n",
              "      fill: #D2E3FC;\n",
              "    }\n",
              "\n",
              "    [theme=dark] .colab-df-convert:hover {\n",
              "      background-color: #434B5C;\n",
              "      box-shadow: 0px 1px 3px 1px rgba(0, 0, 0, 0.15);\n",
              "      filter: drop-shadow(0px 1px 2px rgba(0, 0, 0, 0.3));\n",
              "      fill: #FFFFFF;\n",
              "    }\n",
              "  </style>\n",
              "\n",
              "      <script>\n",
              "        const buttonEl =\n",
              "          document.querySelector('#df-f7194f6e-f490-401c-b689-009a7a790877 button.colab-df-convert');\n",
              "        buttonEl.style.display =\n",
              "          google.colab.kernel.accessAllowed ? 'block' : 'none';\n",
              "\n",
              "        async function convertToInteractive(key) {\n",
              "          const element = document.querySelector('#df-f7194f6e-f490-401c-b689-009a7a790877');\n",
              "          const dataTable =\n",
              "            await google.colab.kernel.invokeFunction('convertToInteractive',\n",
              "                                                     [key], {});\n",
              "          if (!dataTable) return;\n",
              "\n",
              "          const docLinkHtml = 'Like what you see? Visit the ' +\n",
              "            '<a target=\"_blank\" href=https://colab.research.google.com/notebooks/data_table.ipynb>data table notebook</a>'\n",
              "            + ' to learn more about interactive tables.';\n",
              "          element.innerHTML = '';\n",
              "          dataTable['output_type'] = 'display_data';\n",
              "          await google.colab.output.renderOutput(dataTable, element);\n",
              "          const docLink = document.createElement('div');\n",
              "          docLink.innerHTML = docLinkHtml;\n",
              "          element.appendChild(docLink);\n",
              "        }\n",
              "      </script>\n",
              "    </div>\n",
              "  </div>\n",
              "  "
            ]
          },
          "metadata": {},
          "execution_count": 328
        }
      ]
    },
    {
      "cell_type": "code",
      "source": [
        "#sample out some amount of unchurned data for later prediction\n",
        "potential=df4[df4.churn == 0].sample(9000)"
      ],
      "metadata": {
        "id": "5z0Gkn9QVdUM"
      },
      "execution_count": null,
      "outputs": []
    },
    {
      "cell_type": "code",
      "source": [
        "df4.drop(potential['merchant'].index, inplace = True)"
      ],
      "metadata": {
        "id": "ssDmRk_qVhl8"
      },
      "execution_count": null,
      "outputs": []
    },
    {
      "cell_type": "code",
      "source": [
        "df_model = df4[['amount_usd_in_dollars','frequency','year','month','day','hour','churn']]\n"
      ],
      "metadata": {
        "id": "RZrNcdSFOjPx"
      },
      "execution_count": null,
      "outputs": []
    },
    {
      "cell_type": "code",
      "source": [
        "df_model.head()"
      ],
      "metadata": {
        "colab": {
          "base_uri": "https://localhost:8080/",
          "height": 206
        },
        "id": "tby6gmUgZfXy",
        "outputId": "f6f5329e-d437-40d2-8966-1d102efc6665"
      },
      "execution_count": null,
      "outputs": [
        {
          "output_type": "execute_result",
          "data": {
            "text/plain": [
              "   amount_usd_in_dollars  frequency  year  month  day  hour  churn\n",
              "0              33.790000          1  2033      5   16    20      1\n",
              "2              10.543214         28  2033      8    4     4      1\n",
              "3              78.260000          1  2033      8    9    20      1\n",
              "4             102.990000          1  2033      6    2    13      1\n",
              "6             119.144517        290  2034     12   30    16      0"
            ],
            "text/html": [
              "\n",
              "  <div id=\"df-dfd62c20-419e-43d2-b228-6e161b6aba0f\">\n",
              "    <div class=\"colab-df-container\">\n",
              "      <div>\n",
              "<style scoped>\n",
              "    .dataframe tbody tr th:only-of-type {\n",
              "        vertical-align: middle;\n",
              "    }\n",
              "\n",
              "    .dataframe tbody tr th {\n",
              "        vertical-align: top;\n",
              "    }\n",
              "\n",
              "    .dataframe thead th {\n",
              "        text-align: right;\n",
              "    }\n",
              "</style>\n",
              "<table border=\"1\" class=\"dataframe\">\n",
              "  <thead>\n",
              "    <tr style=\"text-align: right;\">\n",
              "      <th></th>\n",
              "      <th>amount_usd_in_dollars</th>\n",
              "      <th>frequency</th>\n",
              "      <th>year</th>\n",
              "      <th>month</th>\n",
              "      <th>day</th>\n",
              "      <th>hour</th>\n",
              "      <th>churn</th>\n",
              "    </tr>\n",
              "  </thead>\n",
              "  <tbody>\n",
              "    <tr>\n",
              "      <th>0</th>\n",
              "      <td>33.790000</td>\n",
              "      <td>1</td>\n",
              "      <td>2033</td>\n",
              "      <td>5</td>\n",
              "      <td>16</td>\n",
              "      <td>20</td>\n",
              "      <td>1</td>\n",
              "    </tr>\n",
              "    <tr>\n",
              "      <th>2</th>\n",
              "      <td>10.543214</td>\n",
              "      <td>28</td>\n",
              "      <td>2033</td>\n",
              "      <td>8</td>\n",
              "      <td>4</td>\n",
              "      <td>4</td>\n",
              "      <td>1</td>\n",
              "    </tr>\n",
              "    <tr>\n",
              "      <th>3</th>\n",
              "      <td>78.260000</td>\n",
              "      <td>1</td>\n",
              "      <td>2033</td>\n",
              "      <td>8</td>\n",
              "      <td>9</td>\n",
              "      <td>20</td>\n",
              "      <td>1</td>\n",
              "    </tr>\n",
              "    <tr>\n",
              "      <th>4</th>\n",
              "      <td>102.990000</td>\n",
              "      <td>1</td>\n",
              "      <td>2033</td>\n",
              "      <td>6</td>\n",
              "      <td>2</td>\n",
              "      <td>13</td>\n",
              "      <td>1</td>\n",
              "    </tr>\n",
              "    <tr>\n",
              "      <th>6</th>\n",
              "      <td>119.144517</td>\n",
              "      <td>290</td>\n",
              "      <td>2034</td>\n",
              "      <td>12</td>\n",
              "      <td>30</td>\n",
              "      <td>16</td>\n",
              "      <td>0</td>\n",
              "    </tr>\n",
              "  </tbody>\n",
              "</table>\n",
              "</div>\n",
              "      <button class=\"colab-df-convert\" onclick=\"convertToInteractive('df-dfd62c20-419e-43d2-b228-6e161b6aba0f')\"\n",
              "              title=\"Convert this dataframe to an interactive table.\"\n",
              "              style=\"display:none;\">\n",
              "        \n",
              "  <svg xmlns=\"http://www.w3.org/2000/svg\" height=\"24px\"viewBox=\"0 0 24 24\"\n",
              "       width=\"24px\">\n",
              "    <path d=\"M0 0h24v24H0V0z\" fill=\"none\"/>\n",
              "    <path d=\"M18.56 5.44l.94 2.06.94-2.06 2.06-.94-2.06-.94-.94-2.06-.94 2.06-2.06.94zm-11 1L8.5 8.5l.94-2.06 2.06-.94-2.06-.94L8.5 2.5l-.94 2.06-2.06.94zm10 10l.94 2.06.94-2.06 2.06-.94-2.06-.94-.94-2.06-.94 2.06-2.06.94z\"/><path d=\"M17.41 7.96l-1.37-1.37c-.4-.4-.92-.59-1.43-.59-.52 0-1.04.2-1.43.59L10.3 9.45l-7.72 7.72c-.78.78-.78 2.05 0 2.83L4 21.41c.39.39.9.59 1.41.59.51 0 1.02-.2 1.41-.59l7.78-7.78 2.81-2.81c.8-.78.8-2.07 0-2.86zM5.41 20L4 18.59l7.72-7.72 1.47 1.35L5.41 20z\"/>\n",
              "  </svg>\n",
              "      </button>\n",
              "      \n",
              "  <style>\n",
              "    .colab-df-container {\n",
              "      display:flex;\n",
              "      flex-wrap:wrap;\n",
              "      gap: 12px;\n",
              "    }\n",
              "\n",
              "    .colab-df-convert {\n",
              "      background-color: #E8F0FE;\n",
              "      border: none;\n",
              "      border-radius: 50%;\n",
              "      cursor: pointer;\n",
              "      display: none;\n",
              "      fill: #1967D2;\n",
              "      height: 32px;\n",
              "      padding: 0 0 0 0;\n",
              "      width: 32px;\n",
              "    }\n",
              "\n",
              "    .colab-df-convert:hover {\n",
              "      background-color: #E2EBFA;\n",
              "      box-shadow: 0px 1px 2px rgba(60, 64, 67, 0.3), 0px 1px 3px 1px rgba(60, 64, 67, 0.15);\n",
              "      fill: #174EA6;\n",
              "    }\n",
              "\n",
              "    [theme=dark] .colab-df-convert {\n",
              "      background-color: #3B4455;\n",
              "      fill: #D2E3FC;\n",
              "    }\n",
              "\n",
              "    [theme=dark] .colab-df-convert:hover {\n",
              "      background-color: #434B5C;\n",
              "      box-shadow: 0px 1px 3px 1px rgba(0, 0, 0, 0.15);\n",
              "      filter: drop-shadow(0px 1px 2px rgba(0, 0, 0, 0.3));\n",
              "      fill: #FFFFFF;\n",
              "    }\n",
              "  </style>\n",
              "\n",
              "      <script>\n",
              "        const buttonEl =\n",
              "          document.querySelector('#df-dfd62c20-419e-43d2-b228-6e161b6aba0f button.colab-df-convert');\n",
              "        buttonEl.style.display =\n",
              "          google.colab.kernel.accessAllowed ? 'block' : 'none';\n",
              "\n",
              "        async function convertToInteractive(key) {\n",
              "          const element = document.querySelector('#df-dfd62c20-419e-43d2-b228-6e161b6aba0f');\n",
              "          const dataTable =\n",
              "            await google.colab.kernel.invokeFunction('convertToInteractive',\n",
              "                                                     [key], {});\n",
              "          if (!dataTable) return;\n",
              "\n",
              "          const docLinkHtml = 'Like what you see? Visit the ' +\n",
              "            '<a target=\"_blank\" href=https://colab.research.google.com/notebooks/data_table.ipynb>data table notebook</a>'\n",
              "            + ' to learn more about interactive tables.';\n",
              "          element.innerHTML = '';\n",
              "          dataTable['output_type'] = 'display_data';\n",
              "          await google.colab.output.renderOutput(dataTable, element);\n",
              "          const docLink = document.createElement('div');\n",
              "          docLink.innerHTML = docLinkHtml;\n",
              "          element.appendChild(docLink);\n",
              "        }\n",
              "      </script>\n",
              "    </div>\n",
              "  </div>\n",
              "  "
            ]
          },
          "metadata": {},
          "execution_count": 445
        }
      ]
    },
    {
      "cell_type": "code",
      "source": [
        "#convert string to integer\n",
        "df_model['month'] = df_model['month'].astype(int, errors = 'raise')\n",
        "df_model['year'] = df_model['year'].astype(int, errors = 'raise')\n",
        "df_model['day'] = df_model['day'].astype(int, errors = 'raise')\n",
        "df_model['hour'] = df_model['hour'].astype(int, errors = 'raise')"
      ],
      "metadata": {
        "id": "lCHO1VGiOz6V"
      },
      "execution_count": null,
      "outputs": []
    },
    {
      "cell_type": "markdown",
      "source": [
        "> The chosen predictos show low correlations with each other "
      ],
      "metadata": {
        "id": "c5oeiGeVkoFW"
      }
    },
    {
      "cell_type": "code",
      "source": [
        "corr = df_model[['amount_usd_in_dollars','frequency','year','month','day','hour']].corr()\n",
        "\n",
        "# show heapmap of correlations\n",
        "sns.heatmap(corr)"
      ],
      "metadata": {
        "colab": {
          "base_uri": "https://localhost:8080/",
          "height": 392
        },
        "id": "llQpBky9kvKY",
        "outputId": "edc72c58-5a3a-41a3-9e9a-bf38e504961f"
      },
      "execution_count": null,
      "outputs": [
        {
          "output_type": "execute_result",
          "data": {
            "text/plain": [
              "<matplotlib.axes._subplots.AxesSubplot at 0x7f28d50c7050>"
            ]
          },
          "metadata": {},
          "execution_count": 447
        },
        {
          "output_type": "display_data",
          "data": {
            "text/plain": [
              "<Figure size 432x288 with 2 Axes>"
            ],
            "image/png": "[encoded data removed]"
          },
          "metadata": {
            "needs_background": "light"
          }
        }
      ]
    },
    {
      "cell_type": "code",
      "source": [
        "#split dataset\n",
        "# Reserve 30% for testing\n",
        "X= df_model[['amount_usd_in_dollars','frequency','year','month','day','hour']]\n",
        "y = df_model['churn']\n",
        "X_train, X_test, y_train1, y_test = model_selection.train_test_split(X, y, test_size=0.3)\n",
        "\n",
        "print('training data has %d observation with %d features'% X_train.shape)\n",
        "print('test data has %d observation with %d features'% X_test.shape)"
      ],
      "metadata": {
        "colab": {
          "base_uri": "https://localhost:8080/"
        },
        "id": "HtknllgU3E6d",
        "outputId": "2a1b5ed4-2ff6-4c5d-e013-6cf87a2f89f7"
      },
      "execution_count": null,
      "outputs": [
        {
          "output_type": "stream",
          "name": "stdout",
          "text": [
            "training data has 3745 observation with 6 features\n",
            "test data has 1606 observation with 6 features\n"
          ]
        }
      ]
    },
    {
      "cell_type": "code",
      "source": [
        "#get the distribution of churn \n",
        "print(df_model['churn'].value_counts()) #imbalanced"
      ],
      "metadata": {
        "colab": {
          "base_uri": "https://localhost:8080/"
        },
        "id": "RwQz4S1um4tw",
        "outputId": "0f12512e-0e7b-4bdc-f9ba-a2d47afbe235"
      },
      "execution_count": null,
      "outputs": [
        {
          "output_type": "stream",
          "name": "stdout",
          "text": [
            "0    2773\n",
            "1    2578\n",
            "Name: churn, dtype: int64\n"
          ]
        }
      ]
    },
    {
      "cell_type": "markdown",
      "source": [
        "> The class is imbalanced, which may introduce bias in our classifier results. here is a high probability of misclassification of the minority class as compared to the majority class."
      ],
      "metadata": {
        "id": "qGzcKqconSwB"
      }
    },
    {
      "cell_type": "code",
      "source": [
        "# data transformation: to speed up gradient descent in later optimization part and to keep the data in the same scale\n",
        "scaler = StandardScaler()\n",
        "\n",
        "X_train1 = scaler.fit_transform(X_train) # calculate the scaling from train, and apply it to train, scaling is stored in scaler\n",
        "X_test = scaler.transform(X_test) #apply the saved scaling to testing data"
      ],
      "metadata": {
        "id": "G73uO4t36F11"
      },
      "execution_count": null,
      "outputs": []
    },
    {
      "cell_type": "markdown",
      "source": [
        "> Use SMOTE to balance the data, SMOTE works by utilizing a k-nearest neighbour algorithm to create synthetic data. Traditional undersampling and oversampling may introduce loss of information for our data"
      ],
      "metadata": {
        "id": "B_7yAhD9th_Y"
      }
    },
    {
      "cell_type": "code",
      "source": [
        "#it's important to generate the new samples only in the training set to ensure our model generalizes well to unseen data.(avoid overfitting)\n",
        "sm = SMOTE(random_state = 25, sampling_strategy = 1.0)  \n",
        "# fit the sampling\n",
        "X_train, y_train = sm.fit_resample(X_train1, y_train1)"
      ],
      "metadata": {
        "id": "52R_6RqrsJYB"
      },
      "execution_count": null,
      "outputs": []
    },
    {
      "cell_type": "code",
      "source": [
        "sns.countplot(y_train)\n",
        "#the data is balanced"
      ],
      "metadata": {
        "colab": {
          "base_uri": "https://localhost:8080/",
          "height": 297
        },
        "id": "W3Em1cWmtL2e",
        "outputId": "bce86cf4-d634-4322-9f66-179cca37e080"
      },
      "execution_count": null,
      "outputs": [
        {
          "output_type": "execute_result",
          "data": {
            "text/plain": [
              "<matplotlib.axes._subplots.AxesSubplot at 0x7f28d511e990>"
            ]
          },
          "metadata": {},
          "execution_count": 452
        },
        {
          "output_type": "display_data",
          "data": {
            "text/plain": [
              "<Figure size 432x288 with 1 Axes>"
            ],
            "image/png": "[encoded data removed]"
          },
          "metadata": {
            "needs_background": "light"
          }
        }
      ]
    },
    {
      "cell_type": "markdown",
      "source": [
        "> Building the models"
      ],
      "metadata": {
        "id": "bossxzcku8aU"
      }
    },
    {
      "cell_type": "code",
      "source": [
        "#Define objects \n",
        "# Logistic Regression\n",
        "classifier_logistic = LogisticRegression()\n",
        "\n",
        "# K Nearest Neighbors\n",
        "classifier_KNN = KNeighborsClassifier()\n",
        "\n"
      ],
      "metadata": {
        "id": "kFsVYC7H6yKS"
      },
      "execution_count": null,
      "outputs": []
    },
    {
      "cell_type": "code",
      "source": [
        "# Train the model\n",
        "classifier_logistic.fit(X_train, y_train)\n",
        "classifier_KNN.fit(X_train, y_train)\n"
      ],
      "metadata": {
        "colab": {
          "base_uri": "https://localhost:8080/"
        },
        "id": "o9kuySgj656a",
        "outputId": "4e909f35-6ca5-4b61-fb1e-7ce77b97a6cb"
      },
      "execution_count": null,
      "outputs": [
        {
          "output_type": "execute_result",
          "data": {
            "text/plain": [
              "RandomForestClassifier()"
            ]
          },
          "metadata": {},
          "execution_count": 454
        }
      ]
    },
    {
      "cell_type": "code",
      "source": [
        "# Prediction of test data\n",
        "\n",
        "prediction_logistic = (classifier_logistic.predict_proba(X_test)[:,1]>=0.6).astype(int)\n",
        "prediction_knn = (classifier_KNN.predict_proba(X_test)[:,1]>=0.6).astype(int)\n"
      ],
      "metadata": {
        "id": "ER-0GWq668fR"
      },
      "execution_count": null,
      "outputs": []
    },
    {
      "cell_type": "code",
      "source": [
        "# Accuracy of test data\n",
        "\n",
        "print(\"the accuracy of logistic model is: \",classifier_logistic.score(X_test, y_test) )#accuracy\n",
        "print(\"the recall of logistic model is: \",metrics.recall_score(y_test,prediction_logistic)) #get recall\n",
        "print(\"the precision of logistic model is: \",metrics.precision_score(y_test,prediction_logistic)) #get precision\n"
      ],
      "metadata": {
        "colab": {
          "base_uri": "https://localhost:8080/"
        },
        "id": "a9XO2sbu7Coh",
        "outputId": "a67f4c3d-5d56-4f96-e119-c7bdcf9cb422"
      },
      "execution_count": null,
      "outputs": [
        {
          "output_type": "stream",
          "name": "stdout",
          "text": [
            "the accuracy of logistic model is:  0.8841843088418431\n",
            "the recall of logistic model is:  0.824203821656051\n",
            "the precision of logistic model is:  0.8790760869565217\n"
          ]
        }
      ]
    },
    {
      "cell_type": "code",
      "source": [
        "print(\"the accuracy of knn model is: \",classifier_KNN.score(X_test, y_test) )#accuracy\n",
        "print(\"the recall of knn model is: \",metrics.recall_score(y_test,prediction_knn)) #get recall, the recall is really low, means we predict many positive as negative\n",
        "print(\"the precision of knn model is: \",metrics.precision_score(y_test,prediction_knn)) #get precision\n"
      ],
      "metadata": {
        "colab": {
          "base_uri": "https://localhost:8080/"
        },
        "id": "8eCBAA8A7FZy",
        "outputId": "d83338e5-8648-4bcd-b322-012e21578572"
      },
      "execution_count": null,
      "outputs": [
        {
          "output_type": "stream",
          "name": "stdout",
          "text": [
            "the accuracy of knn model is:  0.8001245330012453\n",
            "the recall of knn model is:  0.8662420382165605\n",
            "the precision of knn model is:  0.7589285714285714\n"
          ]
        }
      ]
    },
    {
      "cell_type": "code",
      "source": [
        ""
      ],
      "metadata": {
        "id": "f9rprxwEfjwp"
      },
      "execution_count": null,
      "outputs": []
    },
    {
      "cell_type": "markdown",
      "source": [
        "### Part 2.2 Find optimal hyperparameters"
      ],
      "metadata": {
        "id": "QsrwcoYAIjGi"
      }
    },
    {
      "cell_type": "code",
      "source": [
        "\n",
        "# helper function for printing out grid search results \n",
        "def print_grid_search_metrics(gs):\n",
        "    print (\"Best score: %0.3f\" % gs.best_score_)\n",
        "    print (\"Best parameters set:\")\n",
        "    best_parameters = gs.best_params_\n",
        "    for param_name in sorted(parameters.keys()):\n",
        "        print(\"\\t%s: %r\" % (param_name, best_parameters[param_name]))"
      ],
      "metadata": {
        "id": "87j-2q-gIrh1"
      },
      "execution_count": null,
      "outputs": []
    },
    {
      "cell_type": "markdown",
      "source": [
        ">KNN"
      ],
      "metadata": {
        "id": "fMMcF1z4P16k"
      }
    },
    {
      "cell_type": "code",
      "source": [
        "# Possible hyperparamter options for KNN\n",
        "# Choose k\n",
        "parameters = {\n",
        "    'n_neighbors':[3,5,7,10] \n",
        "}\n",
        "Grid_KNN = GridSearchCV(KNeighborsClassifier(),parameters, cv=5)\n",
        "Grid_KNN.fit(X_train, y_train)"
      ],
      "metadata": {
        "colab": {
          "base_uri": "https://localhost:8080/"
        },
        "id": "QC5hq8kzP3PN",
        "outputId": "801d3309-9232-4483-f779-0eb2df78ecf5"
      },
      "execution_count": null,
      "outputs": [
        {
          "output_type": "execute_result",
          "data": {
            "text/plain": [
              "GridSearchCV(cv=5, estimator=KNeighborsClassifier(),\n",
              "             param_grid={'n_neighbors': [3, 5, 7, 10]})"
            ]
          },
          "metadata": {},
          "execution_count": 460
        }
      ]
    },
    {
      "cell_type": "code",
      "source": [
        "# best k\n",
        "print_grid_search_metrics(Grid_KNN)"
      ],
      "metadata": {
        "colab": {
          "base_uri": "https://localhost:8080/"
        },
        "id": "4LP3WfDGRU-Y",
        "outputId": "5f63ccd9-5059-48d7-985b-30eb1734aadd"
      },
      "execution_count": null,
      "outputs": [
        {
          "output_type": "stream",
          "name": "stdout",
          "text": [
            "Best score: 0.832\n",
            "Best parameters set:\n",
            "\tn_neighbors: 7\n"
          ]
        }
      ]
    },
    {
      "cell_type": "code",
      "source": [
        "#best knn model\n",
        "best_KNN_model = Grid_KNN.best_estimator_"
      ],
      "metadata": {
        "id": "xfsUgjZHSoGz"
      },
      "execution_count": null,
      "outputs": []
    },
    {
      "cell_type": "markdown",
      "source": [
        "> Logistic Regression"
      ],
      "metadata": {
        "id": "E5o-XYQ1RXOi"
      }
    },
    {
      "cell_type": "code",
      "source": [
        "# Possible hyperparamter options for Logistic Regression Regularization\n",
        "# Penalty is choosed from L1 or L2\n",
        "# C is the lambda value(weight) for L1 and L2\n",
        "\n",
        "parameters = {\n",
        "    'penalty':('l1', 'l2'), \n",
        "    'C':(1, 3, 5)\n",
        "} #try different parameters to get a better result \n",
        "Grid_LR = GridSearchCV(LogisticRegression(),parameters, cv=5)\n",
        "Grid_LR.fit(X_train, y_train)"
      ],
      "metadata": {
        "colab": {
          "base_uri": "https://localhost:8080/"
        },
        "id": "LMmm99fiRZVA",
        "outputId": "e2dd8d2e-ae3d-453e-943b-c9fe79be39e3"
      },
      "execution_count": null,
      "outputs": [
        {
          "output_type": "execute_result",
          "data": {
            "text/plain": [
              "GridSearchCV(cv=5, estimator=LogisticRegression(),\n",
              "             param_grid={'C': (1, 3, 5), 'penalty': ('l1', 'l2')})"
            ]
          },
          "metadata": {},
          "execution_count": 463
        }
      ]
    },
    {
      "cell_type": "code",
      "source": [
        "# the best hyperparameter combination\n",
        "print_grid_search_metrics(Grid_LR)"
      ],
      "metadata": {
        "colab": {
          "base_uri": "https://localhost:8080/"
        },
        "id": "_57rFB0IRemO",
        "outputId": "0e378104-3402-47f5-c5d8-8fa65f73411d"
      },
      "execution_count": null,
      "outputs": [
        {
          "output_type": "stream",
          "name": "stdout",
          "text": [
            "Best score: 0.920\n",
            "Best parameters set:\n",
            "\tC: 5\n",
            "\tpenalty: 'l2'\n"
          ]
        }
      ]
    },
    {
      "cell_type": "code",
      "source": [
        "# best model\n",
        "best_LR_model = Grid_LR.best_estimator_"
      ],
      "metadata": {
        "id": "UlVh9R3pRg2L"
      },
      "execution_count": null,
      "outputs": []
    },
    {
      "cell_type": "markdown",
      "source": [
        "> Random Forest"
      ],
      "metadata": {
        "id": "tSBYgrFjiMB3"
      }
    },
    {
      "cell_type": "markdown",
      "source": [
        "### Part 3: Model Evaluation"
      ],
      "metadata": {
        "id": "tXSzM5XGzrTc"
      }
    },
    {
      "cell_type": "markdown",
      "source": [
        "> Calculate AUC score: It tells how much the model is capable of distinguishing between classes. Higher the AUC, the better the model is at predicting 0 classes as 0 and 1 classes as 1."
      ],
      "metadata": {
        "id": "Z3_FGdf9Ws4d"
      }
    },
    {
      "cell_type": "code",
      "source": [
        "# calculate the fpr and tpr for all thresholds of the classification\n",
        "probs = best_KNN_model.predict_proba(X_test)\n",
        "preds = probs[:,1]\n",
        "fpr, tpr, threshold = metrics.roc_curve(y_test, preds)\n",
        "roc_auc = metrics.auc(fpr, tpr)\n",
        "\n",
        "# method I: plt\n",
        "import matplotlib.pyplot as plt\n",
        "plt.title('Receiver Operating Characteristic')\n",
        "plt.plot(fpr, tpr, 'b', label = 'AUC = %0.2f' % roc_auc)\n",
        "plt.legend(loc = 'lower right')\n",
        "plt.plot([0, 1], [0, 1],'r--')\n",
        "plt.xlim([0, 1])\n",
        "plt.ylim([0, 1])\n",
        "plt.ylabel('True Positive Rate')\n",
        "plt.xlabel('False Positive Rate')\n",
        "plt.show()"
      ],
      "metadata": {
        "colab": {
          "base_uri": "https://localhost:8080/",
          "height": 295
        },
        "id": "pXJ66LeYV-yD",
        "outputId": "170bf050-8a62-445f-bb4e-32503f3c1b0b"
      },
      "execution_count": null,
      "outputs": [
        {
          "output_type": "display_data",
          "data": {
            "text/plain": [
              "<Figure size 432x288 with 1 Axes>"
            ],
            "image/png": "[encoded data removed]"
          },
          "metadata": {
            "needs_background": "light"
          }
        }
      ]
    },
    {
      "cell_type": "code",
      "source": [
        "# AUC score\n",
        "metrics.auc(fpr,tpr)"
      ],
      "metadata": {
        "id": "WEBDoW6QWW7h",
        "colab": {
          "base_uri": "https://localhost:8080/"
        },
        "outputId": "8fe486e1-8d57-4e7a-fd25-920b426f2f81"
      },
      "execution_count": null,
      "outputs": [
        {
          "output_type": "execute_result",
          "data": {
            "text/plain": [
              "0.8696129467714532"
            ]
          },
          "metadata": {},
          "execution_count": 468
        }
      ]
    },
    {
      "cell_type": "code",
      "source": [
        "# Use predict_proba to get the probability results of Logistic Regression\n",
        "y_pred_lr = best_LR_model.predict_proba(X_test)[:, 1]\n",
        "fpr_lr, tpr_lr, _ = roc_curve(y_test, y_pred_lr)\n",
        "# ROC Curve\n",
        "plt.figure(1)\n",
        "plt.plot([0, 1], [0, 1], 'k--')\n",
        "plt.plot(fpr_lr, tpr_lr, label='LR')\n",
        "plt.xlabel('False positive rate')\n",
        "plt.ylabel('True positive rate')\n",
        "plt.title('ROC curve - LR Model')\n",
        "plt.legend(loc='best')\n",
        "plt.show()"
      ],
      "metadata": {
        "id": "0etOOORbWR4l",
        "colab": {
          "base_uri": "https://localhost:8080/",
          "height": 295
        },
        "outputId": "79b9da49-b435-48d7-fba6-88af8e177b54"
      },
      "execution_count": null,
      "outputs": [
        {
          "output_type": "display_data",
          "data": {
            "text/plain": [
              "<Figure size 432x288 with 1 Axes>"
            ],
            "image/png": "[encoded data removed]"
          },
          "metadata": {
            "needs_background": "light"
          }
        }
      ]
    },
    {
      "cell_type": "code",
      "source": [
        "# AUC score\n",
        "metrics.auc(fpr_lr,tpr_lr)"
      ],
      "metadata": {
        "id": "TOmZVkiXWT6w",
        "colab": {
          "base_uri": "https://localhost:8080/"
        },
        "outputId": "28ea950d-b885-4113-e3b1-bdf89408ee8a"
      },
      "execution_count": null,
      "outputs": [
        {
          "output_type": "execute_result",
          "data": {
            "text/plain": [
              "0.9643653459739171"
            ]
          },
          "metadata": {},
          "execution_count": 470
        }
      ]
    },
    {
      "cell_type": "code",
      "source": [
        "# calculate accuracy, precision and recall, [[tn, fp],[]]\n",
        "def cal_evaluation(classifier, cm):\n",
        "    tn = cm[0][0]\n",
        "    fp = cm[0][1]\n",
        "    fn = cm[1][0]\n",
        "    tp = cm[1][1]\n",
        "    accuracy  = (tp + tn) / (tp + fp + fn + tn + 0.0)\n",
        "    precision = tp / (tp + fp + 0.0)\n",
        "    recall = tp / (tp + fn + 0.0)\n",
        "    print (classifier)\n",
        "    print (\"Accuracy is: %0.3f\" % accuracy)\n",
        "    print (\"precision is: %0.3f\" % precision)\n",
        "    print (\"recall is: %0.3f\" % recall)\n",
        "\n",
        "# print out confusion matrices\n",
        "def draw_confusion_matrices(confusion_matricies):\n",
        "    class_names = ['Not','Churn']\n",
        "    for cm in confusion_matrices:\n",
        "        classifier, cm = cm[0], cm[1]\n",
        "        cal_evaluation(classifier, cm)\n",
        "        fig = plt.figure()\n",
        "        ax = fig.add_subplot(111)\n",
        "        cax = ax.matshow(cm, interpolation='nearest',cmap=plt.get_cmap('Reds'))\n",
        "        plt.title('Confusion matrix for %s' % classifier)\n",
        "        fig.colorbar(cax)\n",
        "        ax.set_xticklabels([''] + class_names)\n",
        "        ax.set_yticklabels([''] + class_names)\n",
        "        plt.xlabel('Predicted')\n",
        "        plt.ylabel('True')\n",
        "        plt.show()"
      ],
      "metadata": {
        "id": "-mI1BOKzzSwu"
      },
      "execution_count": null,
      "outputs": []
    },
    {
      "cell_type": "markdown",
      "source": [
        "> Get confusion matrix; Compare recall, precision and accuracy\n",
        "</br>\n",
        "Most times it's not enough to just look at accuracy of our model</br>\n",
        "For predicting churn, we care more about precision to optimize our marketing strategy"
      ],
      "metadata": {
        "id": "B5cuVReoXI3H"
      }
    },
    {
      "cell_type": "code",
      "source": [
        "%matplotlib inline\n",
        "\n",
        "# Confusion matrix, accuracy, precison and recall for random forest and logistic regression\n",
        "confusion_matrices = [\n",
        "    \n",
        "    (\"Logistic Regression\", confusion_matrix(y_test,best_LR_model.predict(X_test))),\n",
        "]\n",
        "\n",
        "draw_confusion_matrices(confusion_matrices)"
      ],
      "metadata": {
        "id": "WCuJD6hXz00J",
        "colab": {
          "base_uri": "https://localhost:8080/",
          "height": 360
        },
        "outputId": "eb5d9867-c94d-4cdf-b220-13bb3a6b436c"
      },
      "execution_count": null,
      "outputs": [
        {
          "output_type": "stream",
          "name": "stdout",
          "text": [
            "Logistic Regression\n",
            "Accuracy is: 0.912\n",
            "precision is: 0.890\n",
            "recall is: 0.936\n"
          ]
        },
        {
          "output_type": "display_data",
          "data": {
            "text/plain": [
              "<Figure size 432x288 with 2 Axes>"
            ],
            "image/png": "[encoded data removed]"
          },
          "metadata": {
            "needs_background": "light"
          }
        }
      ]
    },
    {
      "cell_type": "code",
      "source": [
        "confusion_matrices = [\n",
        "    \n",
        "    (\"KNN\", confusion_matrix(y_test,best_KNN_model.predict(X_test))),\n",
        "]\n",
        "\n",
        "draw_confusion_matrices(confusion_matrices)"
      ],
      "metadata": {
        "id": "T9xdfgVXXMi4",
        "colab": {
          "base_uri": "https://localhost:8080/",
          "height": 360
        },
        "outputId": "a81f93cf-97a6-4569-f22e-a930613e3e41"
      },
      "execution_count": null,
      "outputs": [
        {
          "output_type": "stream",
          "name": "stdout",
          "text": [
            "KNN\n",
            "Accuracy is: 0.804\n",
            "precision is: 0.755\n",
            "recall is: 0.885\n"
          ]
        },
        {
          "output_type": "display_data",
          "data": {
            "text/plain": [
              "<Figure size 432x288 with 2 Axes>"
            ],
            "image/png": "[encoded data removed]"
          },
          "metadata": {
            "needs_background": "light"
          }
        }
      ]
    },
    {
      "cell_type": "markdown",
      "source": [
        "### Part 4: Predict future potential churn for non churned customers in the data"
      ],
      "metadata": {
        "id": "D6NLrRTCoYoE"
      }
    },
    {
      "cell_type": "markdown",
      "source": [
        "> To get more insights of our data; to see which merchants may churn in the future, we apply our model to customers who have not churned yet"
      ],
      "metadata": {
        "id": "8tZ4gPAxXpfr"
      }
    },
    {
      "cell_type": "code",
      "source": [
        "potential['month'] = potential['month'].astype(int, errors = 'raise')\n",
        "potential['year'] = potential['year'].astype(int, errors = 'raise')\n",
        "potential['day'] = potential['day'].astype(int, errors = 'raise')\n",
        "potential['hour'] =potential['hour'].astype(int, errors = 'raise')"
      ],
      "metadata": {
        "id": "Uo6FoJyhWyUR"
      },
      "execution_count": null,
      "outputs": []
    },
    {
      "cell_type": "code",
      "source": [
        "potential_X= potential[['amount_usd_in_dollars','frequency','year','month','day','hour']]\n",
        "potential_X= scaler.fit_transform(potential_X) # calculate the scaling from train, and apply it to train, scaling is stored in scaler\n"
      ],
      "metadata": {
        "id": "30fbR9owW7GM"
      },
      "execution_count": null,
      "outputs": []
    },
    {
      "cell_type": "markdown",
      "source": [
        "> use KNN to get a balance of recall and precision"
      ],
      "metadata": {
        "id": "G5fi71mmqheb"
      }
    },
    {
      "cell_type": "code",
      "source": [
        "prediction = pd.DataFrame(best_LR_model.predict(potential_X))\n",
        "prediction.columns = ['prediction']"
      ],
      "metadata": {
        "id": "1WVum_qwz-w2"
      },
      "execution_count": null,
      "outputs": []
    },
    {
      "cell_type": "markdown",
      "source": [
        "> Take a look at the distribution of potential churned customers"
      ],
      "metadata": {
        "id": "QljxuHkZrMKs"
      }
    },
    {
      "cell_type": "code",
      "source": [
        "sns.countplot(prediction['prediction'])\n",
        "print(prediction['prediction'].value_counts())"
      ],
      "metadata": {
        "colab": {
          "base_uri": "https://localhost:8080/",
          "height": 332
        },
        "id": "wwA7N1ZG0_CU",
        "outputId": "8acc0c39-6d74-4ad0-ba07-ab7642d62c31"
      },
      "execution_count": null,
      "outputs": [
        {
          "output_type": "stream",
          "name": "stdout",
          "text": [
            "1    5387\n",
            "0    3613\n",
            "Name: prediction, dtype: int64\n"
          ]
        },
        {
          "output_type": "display_data",
          "data": {
            "text/plain": [
              "<Figure size 432x288 with 1 Axes>"
            ],
            "image/png": "[encoded data removed]"
          },
          "metadata": {
            "needs_background": "light"
          }
        }
      ]
    },
    {
      "cell_type": "markdown",
      "source": [
        ">Put predicted results back to data to get some insights"
      ],
      "metadata": {
        "id": "4oB9q9m0rTLJ"
      }
    },
    {
      "cell_type": "code",
      "source": [
        "prediction.reset_index(inplace=True)"
      ],
      "metadata": {
        "id": "VnlXnA-1_Z0y"
      },
      "execution_count": null,
      "outputs": []
    },
    {
      "cell_type": "code",
      "source": [
        "result = pd.merge(prediction,potential)"
      ],
      "metadata": {
        "id": "kQgLrViLruQG"
      },
      "execution_count": null,
      "outputs": []
    },
    {
      "cell_type": "code",
      "source": [
        "result.head()"
      ],
      "metadata": {
        "colab": {
          "base_uri": "https://localhost:8080/",
          "height": 206
        },
        "id": "IhGvuPPMskZ7",
        "outputId": "a3c194af-371b-4e6b-ebc0-f9e31c4e4dd9"
      },
      "execution_count": null,
      "outputs": [
        {
          "output_type": "execute_result",
          "data": {
            "text/plain": [
              "   index  prediction  level_0    merchant                time  invoiceNo  \\\n",
              "0      0           1        0  e96b91fac9 2034-10-24 02:01:50          4   \n",
              "1      1           1        1  2b72a6326a 2034-09-27 17:45:36          9   \n",
              "2      2           1        2  14b4c07e0b 2034-11-18 18:19:14          1   \n",
              "3      3           1        3  ea1505682a 2034-12-28 22:11:56          4   \n",
              "4      4           0        4  b16d6f205b 2034-12-12 15:40:58          5   \n",
              "\n",
              "   amount_usd_in_dollars  churn  frequency  hour  day  year  month  \n",
              "0              76.227500      0          4     2   24  2034     10  \n",
              "1             328.717778      0          9    17   27  2034      9  \n",
              "2             102.080000      0          1    18   18  2034     11  \n",
              "3             267.997500      0          4    22   28  2034     12  \n",
              "4             870.626000      0          5    15   12  2034     12  "
            ],
            "text/html": [
              "\n",
              "  <div id=\"df-2634a9a8-ee51-4463-b556-ce08f1f4c785\">\n",
              "    <div class=\"colab-df-container\">\n",
              "      <div>\n",
              "<style scoped>\n",
              "    .dataframe tbody tr th:only-of-type {\n",
              "        vertical-align: middle;\n",
              "    }\n",
              "\n",
              "    .dataframe tbody tr th {\n",
              "        vertical-align: top;\n",
              "    }\n",
              "\n",
              "    .dataframe thead th {\n",
              "        text-align: right;\n",
              "    }\n",
              "</style>\n",
              "<table border=\"1\" class=\"dataframe\">\n",
              "  <thead>\n",
              "    <tr style=\"text-align: right;\">\n",
              "      <th></th>\n",
              "      <th>index</th>\n",
              "      <th>prediction</th>\n",
              "      <th>level_0</th>\n",
              "      <th>merchant</th>\n",
              "      <th>time</th>\n",
              "      <th>invoiceNo</th>\n",
              "      <th>amount_usd_in_dollars</th>\n",
              "      <th>churn</th>\n",
              "      <th>frequency</th>\n",
              "      <th>hour</th>\n",
              "      <th>day</th>\n",
              "      <th>year</th>\n",
              "      <th>month</th>\n",
              "    </tr>\n",
              "  </thead>\n",
              "  <tbody>\n",
              "    <tr>\n",
              "      <th>0</th>\n",
              "      <td>0</td>\n",
              "      <td>1</td>\n",
              "      <td>0</td>\n",
              "      <td>e96b91fac9</td>\n",
              "      <td>2034-10-24 02:01:50</td>\n",
              "      <td>4</td>\n",
              "      <td>76.227500</td>\n",
              "      <td>0</td>\n",
              "      <td>4</td>\n",
              "      <td>2</td>\n",
              "      <td>24</td>\n",
              "      <td>2034</td>\n",
              "      <td>10</td>\n",
              "    </tr>\n",
              "    <tr>\n",
              "      <th>1</th>\n",
              "      <td>1</td>\n",
              "      <td>1</td>\n",
              "      <td>1</td>\n",
              "      <td>2b72a6326a</td>\n",
              "      <td>2034-09-27 17:45:36</td>\n",
              "      <td>9</td>\n",
              "      <td>328.717778</td>\n",
              "      <td>0</td>\n",
              "      <td>9</td>\n",
              "      <td>17</td>\n",
              "      <td>27</td>\n",
              "      <td>2034</td>\n",
              "      <td>9</td>\n",
              "    </tr>\n",
              "    <tr>\n",
              "      <th>2</th>\n",
              "      <td>2</td>\n",
              "      <td>1</td>\n",
              "      <td>2</td>\n",
              "      <td>14b4c07e0b</td>\n",
              "      <td>2034-11-18 18:19:14</td>\n",
              "      <td>1</td>\n",
              "      <td>102.080000</td>\n",
              "      <td>0</td>\n",
              "      <td>1</td>\n",
              "      <td>18</td>\n",
              "      <td>18</td>\n",
              "      <td>2034</td>\n",
              "      <td>11</td>\n",
              "    </tr>\n",
              "    <tr>\n",
              "      <th>3</th>\n",
              "      <td>3</td>\n",
              "      <td>1</td>\n",
              "      <td>3</td>\n",
              "      <td>ea1505682a</td>\n",
              "      <td>2034-12-28 22:11:56</td>\n",
              "      <td>4</td>\n",
              "      <td>267.997500</td>\n",
              "      <td>0</td>\n",
              "      <td>4</td>\n",
              "      <td>22</td>\n",
              "      <td>28</td>\n",
              "      <td>2034</td>\n",
              "      <td>12</td>\n",
              "    </tr>\n",
              "    <tr>\n",
              "      <th>4</th>\n",
              "      <td>4</td>\n",
              "      <td>0</td>\n",
              "      <td>4</td>\n",
              "      <td>b16d6f205b</td>\n",
              "      <td>2034-12-12 15:40:58</td>\n",
              "      <td>5</td>\n",
              "      <td>870.626000</td>\n",
              "      <td>0</td>\n",
              "      <td>5</td>\n",
              "      <td>15</td>\n",
              "      <td>12</td>\n",
              "      <td>2034</td>\n",
              "      <td>12</td>\n",
              "    </tr>\n",
              "  </tbody>\n",
              "</table>\n",
              "</div>\n",
              "      <button class=\"colab-df-convert\" onclick=\"convertToInteractive('df-2634a9a8-ee51-4463-b556-ce08f1f4c785')\"\n",
              "              title=\"Convert this dataframe to an interactive table.\"\n",
              "              style=\"display:none;\">\n",
              "        \n",
              "  <svg xmlns=\"http://www.w3.org/2000/svg\" height=\"24px\"viewBox=\"0 0 24 24\"\n",
              "       width=\"24px\">\n",
              "    <path d=\"M0 0h24v24H0V0z\" fill=\"none\"/>\n",
              "    <path d=\"M18.56 5.44l.94 2.06.94-2.06 2.06-.94-2.06-.94-.94-2.06-.94 2.06-2.06.94zm-11 1L8.5 8.5l.94-2.06 2.06-.94-2.06-.94L8.5 2.5l-.94 2.06-2.06.94zm10 10l.94 2.06.94-2.06 2.06-.94-2.06-.94-.94-2.06-.94 2.06-2.06.94z\"/><path d=\"M17.41 7.96l-1.37-1.37c-.4-.4-.92-.59-1.43-.59-.52 0-1.04.2-1.43.59L10.3 9.45l-7.72 7.72c-.78.78-.78 2.05 0 2.83L4 21.41c.39.39.9.59 1.41.59.51 0 1.02-.2 1.41-.59l7.78-7.78 2.81-2.81c.8-.78.8-2.07 0-2.86zM5.41 20L4 18.59l7.72-7.72 1.47 1.35L5.41 20z\"/>\n",
              "  </svg>\n",
              "      </button>\n",
              "      \n",
              "  <style>\n",
              "    .colab-df-container {\n",
              "      display:flex;\n",
              "      flex-wrap:wrap;\n",
              "      gap: 12px;\n",
              "    }\n",
              "\n",
              "    .colab-df-convert {\n",
              "      background-color: #E8F0FE;\n",
              "      border: none;\n",
              "      border-radius: 50%;\n",
              "      cursor: pointer;\n",
              "      display: none;\n",
              "      fill: #1967D2;\n",
              "      height: 32px;\n",
              "      padding: 0 0 0 0;\n",
              "      width: 32px;\n",
              "    }\n",
              "\n",
              "    .colab-df-convert:hover {\n",
              "      background-color: #E2EBFA;\n",
              "      box-shadow: 0px 1px 2px rgba(60, 64, 67, 0.3), 0px 1px 3px 1px rgba(60, 64, 67, 0.15);\n",
              "      fill: #174EA6;\n",
              "    }\n",
              "\n",
              "    [theme=dark] .colab-df-convert {\n",
              "      background-color: #3B4455;\n",
              "      fill: #D2E3FC;\n",
              "    }\n",
              "\n",
              "    [theme=dark] .colab-df-convert:hover {\n",
              "      background-color: #434B5C;\n",
              "      box-shadow: 0px 1px 3px 1px rgba(0, 0, 0, 0.15);\n",
              "      filter: drop-shadow(0px 1px 2px rgba(0, 0, 0, 0.3));\n",
              "      fill: #FFFFFF;\n",
              "    }\n",
              "  </style>\n",
              "\n",
              "      <script>\n",
              "        const buttonEl =\n",
              "          document.querySelector('#df-2634a9a8-ee51-4463-b556-ce08f1f4c785 button.colab-df-convert');\n",
              "        buttonEl.style.display =\n",
              "          google.colab.kernel.accessAllowed ? 'block' : 'none';\n",
              "\n",
              "        async function convertToInteractive(key) {\n",
              "          const element = document.querySelector('#df-2634a9a8-ee51-4463-b556-ce08f1f4c785');\n",
              "          const dataTable =\n",
              "            await google.colab.kernel.invokeFunction('convertToInteractive',\n",
              "                                                     [key], {});\n",
              "          if (!dataTable) return;\n",
              "\n",
              "          const docLinkHtml = 'Like what you see? Visit the ' +\n",
              "            '<a target=\"_blank\" href=https://colab.research.google.com/notebooks/data_table.ipynb>data table notebook</a>'\n",
              "            + ' to learn more about interactive tables.';\n",
              "          element.innerHTML = '';\n",
              "          dataTable['output_type'] = 'display_data';\n",
              "          await google.colab.output.renderOutput(dataTable, element);\n",
              "          const docLink = document.createElement('div');\n",
              "          docLink.innerHTML = docLinkHtml;\n",
              "          element.appendChild(docLink);\n",
              "        }\n",
              "      </script>\n",
              "    </div>\n",
              "  </div>\n",
              "  "
            ]
          },
          "metadata": {},
          "execution_count": 518
        }
      ]
    },
    {
      "cell_type": "code",
      "source": [
        "result.groupby('prediction')['frequency'].mean().plot(kind='bar')"
      ],
      "metadata": {
        "colab": {
          "base_uri": "https://localhost:8080/",
          "height": 294
        },
        "id": "jZVG0RpEs7Rf",
        "outputId": "a84a19f1-7ba2-4fcf-b858-3f0f10ef1174"
      },
      "execution_count": null,
      "outputs": [
        {
          "output_type": "execute_result",
          "data": {
            "text/plain": [
              "<matplotlib.axes._subplots.AxesSubplot at 0x7f28d4917510>"
            ]
          },
          "metadata": {},
          "execution_count": 519
        },
        {
          "output_type": "display_data",
          "data": {
            "text/plain": [
              "<Figure size 432x288 with 1 Axes>"
            ],
            "image/png": "[encoded data removed]"
          },
          "metadata": {
            "needs_background": "light"
          }
        }
      ]
    },
    {
      "cell_type": "markdown",
      "source": [
        "> predicted as 'will not churn' customers has much higher frequency"
      ],
      "metadata": {
        "id": "Rd7jM7-6tOhd"
      }
    },
    {
      "cell_type": "code",
      "source": [
        "plt = result.groupby(['prediction']).month.value_counts().unstack()\n",
        "ax = plt.plot(kind='bar', figsize=(8, 7), xlabel='month distribution between churned and non churned customer', ylabel='Count', rot=0)\n",
        "ax.legend(title='month', bbox_to_anchor=(1, 1), loc='upper left')"
      ],
      "metadata": {
        "colab": {
          "base_uri": "https://localhost:8080/",
          "height": 460
        },
        "id": "wH6Vs-tZtJoV",
        "outputId": "aa03c239-904d-489b-fa07-d618e0f70cdd"
      },
      "execution_count": null,
      "outputs": [
        {
          "output_type": "execute_result",
          "data": {
            "text/plain": [
              "<matplotlib.legend.Legend at 0x7f28d495d310>"
            ]
          },
          "metadata": {},
          "execution_count": 523
        },
        {
          "output_type": "display_data",
          "data": {
            "text/plain": [
              "<Figure size 576x504 with 1 Axes>"
            ],
            "image/png": "[encoded data removed]"
          },
          "metadata": {
            "needs_background": "light"
          }
        }
      ]
    },
    {
      "cell_type": "markdown",
      "source": [
        "> most predicted as non churn customers have their last purchase in December. "
      ],
      "metadata": {
        "id": "Ga1qfh_7tuJC"
      }
    },
    {
      "cell_type": "code",
      "source": [
        "result.groupby('prediction')['amount_usd_in_dollars'].mean().plot(kind='bar')"
      ],
      "metadata": {
        "colab": {
          "base_uri": "https://localhost:8080/",
          "height": 294
        },
        "id": "p3lohvfIti6K",
        "outputId": "0cd7fb71-3c50-487e-a8bd-dac126ff65ee"
      },
      "execution_count": null,
      "outputs": [
        {
          "output_type": "execute_result",
          "data": {
            "text/plain": [
              "<matplotlib.axes._subplots.AxesSubplot at 0x7f28d489ff90>"
            ]
          },
          "metadata": {},
          "execution_count": 521
        },
        {
          "output_type": "display_data",
          "data": {
            "text/plain": [
              "<Figure size 432x288 with 1 Axes>"
            ],
            "image/png": "[encoded data removed]"
          },
          "metadata": {
            "needs_background": "light"
          }
        }
      ]
    },
    {
      "cell_type": "markdown",
      "source": [
        "> customers spend more tend not to churn as we predicted, "
      ],
      "metadata": {
        "id": "24GA_-rMuXsC"
      }
    },
    {
      "cell_type": "code",
      "source": [
        "plt = result.groupby(['prediction']).hour.value_counts().unstack()\n",
        "ax = plt.plot(kind='bar', figsize=(8, 7), xlabel='hour distribution between churned and non churned customer', ylabel='Count', rot=0)\n",
        "ax.legend(title='hour', bbox_to_anchor=(1, 1), loc='upper left')"
      ],
      "metadata": {
        "colab": {
          "base_uri": "https://localhost:8080/",
          "height": 460
        },
        "id": "F15RzuTkt71b",
        "outputId": "5554f496-41db-41aa-91ea-0e21a5f74c0b"
      },
      "execution_count": null,
      "outputs": [
        {
          "output_type": "execute_result",
          "data": {
            "text/plain": [
              "<matplotlib.legend.Legend at 0x7f28d480fed0>"
            ]
          },
          "metadata": {},
          "execution_count": 522
        },
        {
          "output_type": "display_data",
          "data": {
            "text/plain": [
              "<Figure size 576x504 with 1 Axes>"
            ],
            "image/png": "[encoded data removed]"
          },
          "metadata": {
            "needs_background": "light"
          }
        }
      ]
    },
    {
      "cell_type": "markdown",
      "source": [
        "> The distributions are similar "
      ],
      "metadata": {
        "id": "6Kg7iDAivOYn"
      }
    },
    {
      "cell_type": "markdown",
      "source": [
        "## Summary"
      ],
      "metadata": {
        "id": "_3W0cLC7vum0"
      }
    },
    {
      "cell_type": "markdown",
      "source": [
        "> * Customers' loyalty increases along the year\n",
        "* We normally lose customers during March and May\n",
        "* Lots of Lost customers in 2033, and the percentage reduced a lot in 2034\n",
        "* There are 58% of non churned customers might churn in the future"
      ],
      "metadata": {
        "id": "Lfrd55Z1zBKp"
      }
    },
    {
      "cell_type": "markdown",
      "source": [
        "#### What we can do?"
      ],
      "metadata": {
        "id": "MdPG3mEIzNga"
      }
    },
    {
      "cell_type": "markdown",
      "source": [
        "> * Communicate and Collaborate with Marketing and Customer Teams\n",
        "* Get insights from different perspective\n",
        "* Engage with the customers likely to churn\n",
        "</br> Look at their profile, identify characteristics and analyze past interactions\n",
        "* communicate latest developments\n",
        "* Provide coupons \n"
      ],
      "metadata": {
        "id": "Ep1w6wIWzQMO"
      }
    },
    {
      "cell_type": "code",
      "source": [
        ""
      ],
      "metadata": {
        "id": "_hmUFGu7y4B3"
      },
      "execution_count": null,
      "outputs": []
    }
  ]
}